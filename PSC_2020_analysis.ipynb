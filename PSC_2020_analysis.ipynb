{
  "cells": [
    {
      "cell_type": "code",
      "execution_count": null,
      "metadata": {
        "colab": {
          "base_uri": "https://localhost:8080/"
        },
        "id": "MqJiJybASqUo",
        "outputId": "abd1a030-da0f-4774-fd30-ac783fc0c611"
      },
      "outputs": [
        {
          "output_type": "stream",
          "name": "stdout",
          "text": [
            "Mounted at /content/gdrive\n"
          ]
        }
      ],
      "source": [
        "from google.colab import drive\n",
        "drive.mount('/content/gdrive')"
      ]
    },
    {
      "cell_type": "code",
      "execution_count": null,
      "metadata": {
        "colab": {
          "base_uri": "https://localhost:8080/"
        },
        "id": "nEujTVwtPzS_",
        "outputId": "d4724a84-912d-434e-e486-fe201ccee06b"
      },
      "outputs": [
        {
          "output_type": "stream",
          "name": "stdout",
          "text": [
            "Cloning into 'PSC-Pattern-Classification'...\n",
            "remote: Enumerating objects: 241, done.\u001b[K\n",
            "remote: Counting objects: 100% (60/60), done.\u001b[K\n",
            "remote: Compressing objects: 100% (50/50), done.\u001b[K\n",
            "remote: Total 241 (delta 22), reused 38 (delta 9), pack-reused 181\u001b[K\n",
            "Receiving objects: 100% (241/241), 3.31 MiB | 10.37 MiB/s, done.\n",
            "Resolving deltas: 100% (98/98), done.\n"
          ]
        }
      ],
      "source": [
        "!git clone --branch X20_analysis https://github.com/ShulzhenkoPetr/PSC-Pattern-Classification.git"
      ]
    },
    {
      "cell_type": "code",
      "execution_count": null,
      "metadata": {
        "colab": {
          "base_uri": "https://localhost:8080/"
        },
        "id": "WlPHUCRFTxth",
        "outputId": "d8f7217e-ca0e-4921-a35d-bcdb2fc38374"
      },
      "outputs": [
        {
          "output_type": "stream",
          "name": "stdout",
          "text": [
            "Archive:  /content/gdrive/MyDrive/Data /marketdata.db.zip\n",
            "  inflating: /content/PSC-Pattern-Classification/marketdata.db  \n",
            "  inflating: /content/PSC-Pattern-Classification/__MACOSX/._marketdata.db  \n"
          ]
        }
      ],
      "source": [
        "!unzip '/content/gdrive/MyDrive/Data /marketdata.db.zip' -d '/content/PSC-Pattern-Classification/'"
      ]
    },
    {
      "cell_type": "code",
      "execution_count": null,
      "metadata": {
        "colab": {
          "base_uri": "https://localhost:8080/"
        },
        "id": "vqY5GMdcULqq",
        "outputId": "c96c1c14-8994-4e30-dd04-0539b3f6f1ec"
      },
      "outputs": [
        {
          "output_type": "stream",
          "name": "stdout",
          "text": [
            "/content/PSC-Pattern-Classification\n"
          ]
        }
      ],
      "source": [
        "%cd PSC-Pattern-Classification/"
      ]
    },
    {
      "cell_type": "code",
      "execution_count": null,
      "metadata": {
        "id": "_wGI9wTGUN_C"
      },
      "outputs": [],
      "source": [
        "!pip install -r requirements.txt"
      ]
    },
    {
      "cell_type": "code",
      "execution_count": null,
      "metadata": {
        "colab": {
          "base_uri": "https://localhost:8080/"
        },
        "id": "khSpyre1XfX0",
        "outputId": "456c9f62-2ad7-42af-db83-1520d164773b"
      },
      "outputs": [
        {
          "output_type": "stream",
          "name": "stdout",
          "text": [
            "Tue Apr 25 15:55:11 2023       \n",
            "+-----------------------------------------------------------------------------+\n",
            "| NVIDIA-SMI 525.85.12    Driver Version: 525.85.12    CUDA Version: 12.0     |\n",
            "|-------------------------------+----------------------+----------------------+\n",
            "| GPU  Name        Persistence-M| Bus-Id        Disp.A | Volatile Uncorr. ECC |\n",
            "| Fan  Temp  Perf  Pwr:Usage/Cap|         Memory-Usage | GPU-Util  Compute M. |\n",
            "|                               |                      |               MIG M. |\n",
            "|===============================+======================+======================|\n",
            "|   0  Tesla T4            Off  | 00000000:00:04.0 Off |                    0 |\n",
            "| N/A   42C    P8    10W /  70W |      0MiB / 15360MiB |      0%      Default |\n",
            "|                               |                      |                  N/A |\n",
            "+-------------------------------+----------------------+----------------------+\n",
            "                                                                               \n",
            "+-----------------------------------------------------------------------------+\n",
            "| Processes:                                                                  |\n",
            "|  GPU   GI   CI        PID   Type   Process name                  GPU Memory |\n",
            "|        ID   ID                                                   Usage      |\n",
            "|=============================================================================|\n",
            "|  No running processes found                                                 |\n",
            "+-----------------------------------------------------------------------------+\n"
          ]
        }
      ],
      "source": [
        "!nvidia-smi "
      ]
    },
    {
      "cell_type": "markdown",
      "metadata": {
        "id": "5xa_vuXNrGBj"
      },
      "source": [
        "## Spread"
      ]
    },
    {
      "cell_type": "markdown",
      "metadata": {
        "id": "6Qq9T7ggGV89"
      },
      "source": [
        "Formula X20:"
      ]
    },
    {
      "cell_type": "code",
      "execution_count": null,
      "metadata": {
        "id": "J7fHR-sJrJNx"
      },
      "outputs": [],
      "source": [
        "for spr, t in zip([0.001, 0.01, 0.1, 0.5], [5]*4):                         \n",
        "  print(f\"--------{spr}------------\")\n",
        "  for i in range(t):                \n",
        "    print(f\"---------computing {i} time--------\")                 \n",
        "    %run main.py --index_type NONFOREX --index FRA40 --nb_clusters {500} --spread {spr}"
      ]
    },
    {
      "cell_type": "markdown",
      "metadata": {
        "id": "t7up5R-2EvFC"
      },
      "source": [
        "Form a DataFrame with columns:"
      ]
    },
    {
      "cell_type": "code",
      "execution_count": null,
      "metadata": {
        "id": "sfmgcJp1Dr6_"
      },
      "outputs": [],
      "source": [
        "import pandas as pd \n",
        "\n",
        "data_fra = pd.read_csv('/content/gdrive/MyDrive/Data /spread_curve.csv', header=None)\n",
        "\n",
        "columns = [\"SYMBOL\", \"START_DATE\", \"END_DATE\", \"DATES\", \"SPREAD\",\"LONG/SHORT\",\"SUM_LONG\",\"SUM_SHORT\",\"MEAN_LONG\",\"MEAN_SHORT\",\"MAX_PIPS_LONG\",\"MIN_PIPS_LONG\",\"MEAN_PIPS_LONG\",\"MAX_PIPS_SHORT\",\"MIN_PIPS_SHORT\",\"MEAN_PIPS_SHORT\",  \"N_CLUSTERS\", \"PREDICTIVE_CLUSTERS\", \"RETURN\", \"MIN_PIPS\", \"N_TRADE\", \"WIN_RATE\", \"MAX_DRAWDOWN\", \"SHARPE\", \"PATH\", \"BENCHMARK_RETURN\"]\n",
        "data_fra.columns = columns\n",
        "data_fra.to_csv('/content/gdrive/MyDrive/Data /spread_curve.csv', index=False)"
      ]
    },
    {
      "cell_type": "markdown",
      "metadata": {
        "id": "bJp0pj1VE0O0"
      },
      "source": [
        "####Analysis:"
      ]
    },
    {
      "cell_type": "code",
      "execution_count": null,
      "metadata": {
        "colab": {
          "base_uri": "https://localhost:8080/",
          "height": 562
        },
        "id": "I_KFcmkeGV2a",
        "outputId": "2f9891a6-076f-4693-8f10-d409cea894e2"
      },
      "outputs": [
        {
          "data": {
            "text/html": [
              "<html>\n",
              "<head><meta charset=\"utf-8\" /></head>\n",
              "<body>\n",
              "    <div>            <script src=\"https://cdnjs.cloudflare.com/ajax/libs/mathjax/2.7.5/MathJax.js?config=TeX-AMS-MML_SVG\"></script><script type=\"text/javascript\">if (window.MathJax && window.MathJax.Hub && window.MathJax.Hub.Config) {window.MathJax.Hub.Config({SVG: {font: \"STIX-Web\"}});}</script>                <script type=\"text/javascript\">window.PlotlyConfig = {MathJaxConfig: 'local'};</script>\n",
              "        <script src=\"https://cdn.plot.ly/plotly-2.18.2.min.js\"></script>                <div id=\"1c53b339-9914-4946-940e-f9a32a849074\" class=\"plotly-graph-div\" style=\"height:525px; width:100%;\"></div>            <script type=\"text/javascript\">                                    window.PLOTLYENV=window.PLOTLYENV || {};                                    if (document.getElementById(\"1c53b339-9914-4946-940e-f9a32a849074\")) {                    Plotly.newPlot(                        \"1c53b339-9914-4946-940e-f9a32a849074\",                        [{\"mode\":\"lines\",\"name\":\"Long\",\"x\":[0.001,0.01,0.1,0.5],\"y\":[-5.0017636250363875,-387.36401943269925,-2536.755727893508,-9187.70686587664],\"type\":\"scatter\"},{\"mode\":\"lines\",\"name\":\"Short\",\"x\":[0.001,0.01,0.1,0.5],\"y\":[7.1459990602587755,378.8871012278596,2419.1548100412547,7610.083366670973],\"type\":\"scatter\"}],                        {\"template\":{\"data\":{\"histogram2dcontour\":[{\"type\":\"histogram2dcontour\",\"colorbar\":{\"outlinewidth\":0,\"ticks\":\"\"},\"colorscale\":[[0.0,\"#0d0887\"],[0.1111111111111111,\"#46039f\"],[0.2222222222222222,\"#7201a8\"],[0.3333333333333333,\"#9c179e\"],[0.4444444444444444,\"#bd3786\"],[0.5555555555555556,\"#d8576b\"],[0.6666666666666666,\"#ed7953\"],[0.7777777777777778,\"#fb9f3a\"],[0.8888888888888888,\"#fdca26\"],[1.0,\"#f0f921\"]]}],\"choropleth\":[{\"type\":\"choropleth\",\"colorbar\":{\"outlinewidth\":0,\"ticks\":\"\"}}],\"histogram2d\":[{\"type\":\"histogram2d\",\"colorbar\":{\"outlinewidth\":0,\"ticks\":\"\"},\"colorscale\":[[0.0,\"#0d0887\"],[0.1111111111111111,\"#46039f\"],[0.2222222222222222,\"#7201a8\"],[0.3333333333333333,\"#9c179e\"],[0.4444444444444444,\"#bd3786\"],[0.5555555555555556,\"#d8576b\"],[0.6666666666666666,\"#ed7953\"],[0.7777777777777778,\"#fb9f3a\"],[0.8888888888888888,\"#fdca26\"],[1.0,\"#f0f921\"]]}],\"heatmap\":[{\"type\":\"heatmap\",\"colorbar\":{\"outlinewidth\":0,\"ticks\":\"\"},\"colorscale\":[[0.0,\"#0d0887\"],[0.1111111111111111,\"#46039f\"],[0.2222222222222222,\"#7201a8\"],[0.3333333333333333,\"#9c179e\"],[0.4444444444444444,\"#bd3786\"],[0.5555555555555556,\"#d8576b\"],[0.6666666666666666,\"#ed7953\"],[0.7777777777777778,\"#fb9f3a\"],[0.8888888888888888,\"#fdca26\"],[1.0,\"#f0f921\"]]}],\"heatmapgl\":[{\"type\":\"heatmapgl\",\"colorbar\":{\"outlinewidth\":0,\"ticks\":\"\"},\"colorscale\":[[0.0,\"#0d0887\"],[0.1111111111111111,\"#46039f\"],[0.2222222222222222,\"#7201a8\"],[0.3333333333333333,\"#9c179e\"],[0.4444444444444444,\"#bd3786\"],[0.5555555555555556,\"#d8576b\"],[0.6666666666666666,\"#ed7953\"],[0.7777777777777778,\"#fb9f3a\"],[0.8888888888888888,\"#fdca26\"],[1.0,\"#f0f921\"]]}],\"contourcarpet\":[{\"type\":\"contourcarpet\",\"colorbar\":{\"outlinewidth\":0,\"ticks\":\"\"}}],\"contour\":[{\"type\":\"contour\",\"colorbar\":{\"outlinewidth\":0,\"ticks\":\"\"},\"colorscale\":[[0.0,\"#0d0887\"],[0.1111111111111111,\"#46039f\"],[0.2222222222222222,\"#7201a8\"],[0.3333333333333333,\"#9c179e\"],[0.4444444444444444,\"#bd3786\"],[0.5555555555555556,\"#d8576b\"],[0.6666666666666666,\"#ed7953\"],[0.7777777777777778,\"#fb9f3a\"],[0.8888888888888888,\"#fdca26\"],[1.0,\"#f0f921\"]]}],\"surface\":[{\"type\":\"surface\",\"colorbar\":{\"outlinewidth\":0,\"ticks\":\"\"},\"colorscale\":[[0.0,\"#0d0887\"],[0.1111111111111111,\"#46039f\"],[0.2222222222222222,\"#7201a8\"],[0.3333333333333333,\"#9c179e\"],[0.4444444444444444,\"#bd3786\"],[0.5555555555555556,\"#d8576b\"],[0.6666666666666666,\"#ed7953\"],[0.7777777777777778,\"#fb9f3a\"],[0.8888888888888888,\"#fdca26\"],[1.0,\"#f0f921\"]]}],\"mesh3d\":[{\"type\":\"mesh3d\",\"colorbar\":{\"outlinewidth\":0,\"ticks\":\"\"}}],\"scatter\":[{\"fillpattern\":{\"fillmode\":\"overlay\",\"size\":10,\"solidity\":0.2},\"type\":\"scatter\"}],\"parcoords\":[{\"type\":\"parcoords\",\"line\":{\"colorbar\":{\"outlinewidth\":0,\"ticks\":\"\"}}}],\"scatterpolargl\":[{\"type\":\"scatterpolargl\",\"marker\":{\"colorbar\":{\"outlinewidth\":0,\"ticks\":\"\"}}}],\"bar\":[{\"error_x\":{\"color\":\"#2a3f5f\"},\"error_y\":{\"color\":\"#2a3f5f\"},\"marker\":{\"line\":{\"color\":\"#E5ECF6\",\"width\":0.5},\"pattern\":{\"fillmode\":\"overlay\",\"size\":10,\"solidity\":0.2}},\"type\":\"bar\"}],\"scattergeo\":[{\"type\":\"scattergeo\",\"marker\":{\"colorbar\":{\"outlinewidth\":0,\"ticks\":\"\"}}}],\"scatterpolar\":[{\"type\":\"scatterpolar\",\"marker\":{\"colorbar\":{\"outlinewidth\":0,\"ticks\":\"\"}}}],\"histogram\":[{\"marker\":{\"pattern\":{\"fillmode\":\"overlay\",\"size\":10,\"solidity\":0.2}},\"type\":\"histogram\"}],\"scattergl\":[{\"type\":\"scattergl\",\"marker\":{\"colorbar\":{\"outlinewidth\":0,\"ticks\":\"\"}}}],\"scatter3d\":[{\"type\":\"scatter3d\",\"line\":{\"colorbar\":{\"outlinewidth\":0,\"ticks\":\"\"}},\"marker\":{\"colorbar\":{\"outlinewidth\":0,\"ticks\":\"\"}}}],\"scattermapbox\":[{\"type\":\"scattermapbox\",\"marker\":{\"colorbar\":{\"outlinewidth\":0,\"ticks\":\"\"}}}],\"scatterternary\":[{\"type\":\"scatterternary\",\"marker\":{\"colorbar\":{\"outlinewidth\":0,\"ticks\":\"\"}}}],\"scattercarpet\":[{\"type\":\"scattercarpet\",\"marker\":{\"colorbar\":{\"outlinewidth\":0,\"ticks\":\"\"}}}],\"carpet\":[{\"aaxis\":{\"endlinecolor\":\"#2a3f5f\",\"gridcolor\":\"white\",\"linecolor\":\"white\",\"minorgridcolor\":\"white\",\"startlinecolor\":\"#2a3f5f\"},\"baxis\":{\"endlinecolor\":\"#2a3f5f\",\"gridcolor\":\"white\",\"linecolor\":\"white\",\"minorgridcolor\":\"white\",\"startlinecolor\":\"#2a3f5f\"},\"type\":\"carpet\"}],\"table\":[{\"cells\":{\"fill\":{\"color\":\"#EBF0F8\"},\"line\":{\"color\":\"white\"}},\"header\":{\"fill\":{\"color\":\"#C8D4E3\"},\"line\":{\"color\":\"white\"}},\"type\":\"table\"}],\"barpolar\":[{\"marker\":{\"line\":{\"color\":\"#E5ECF6\",\"width\":0.5},\"pattern\":{\"fillmode\":\"overlay\",\"size\":10,\"solidity\":0.2}},\"type\":\"barpolar\"}],\"pie\":[{\"automargin\":true,\"type\":\"pie\"}]},\"layout\":{\"autotypenumbers\":\"strict\",\"colorway\":[\"#636efa\",\"#EF553B\",\"#00cc96\",\"#ab63fa\",\"#FFA15A\",\"#19d3f3\",\"#FF6692\",\"#B6E880\",\"#FF97FF\",\"#FECB52\"],\"font\":{\"color\":\"#2a3f5f\"},\"hovermode\":\"closest\",\"hoverlabel\":{\"align\":\"left\"},\"paper_bgcolor\":\"white\",\"plot_bgcolor\":\"#E5ECF6\",\"polar\":{\"bgcolor\":\"#E5ECF6\",\"angularaxis\":{\"gridcolor\":\"white\",\"linecolor\":\"white\",\"ticks\":\"\"},\"radialaxis\":{\"gridcolor\":\"white\",\"linecolor\":\"white\",\"ticks\":\"\"}},\"ternary\":{\"bgcolor\":\"#E5ECF6\",\"aaxis\":{\"gridcolor\":\"white\",\"linecolor\":\"white\",\"ticks\":\"\"},\"baxis\":{\"gridcolor\":\"white\",\"linecolor\":\"white\",\"ticks\":\"\"},\"caxis\":{\"gridcolor\":\"white\",\"linecolor\":\"white\",\"ticks\":\"\"}},\"coloraxis\":{\"colorbar\":{\"outlinewidth\":0,\"ticks\":\"\"}},\"colorscale\":{\"sequential\":[[0.0,\"#0d0887\"],[0.1111111111111111,\"#46039f\"],[0.2222222222222222,\"#7201a8\"],[0.3333333333333333,\"#9c179e\"],[0.4444444444444444,\"#bd3786\"],[0.5555555555555556,\"#d8576b\"],[0.6666666666666666,\"#ed7953\"],[0.7777777777777778,\"#fb9f3a\"],[0.8888888888888888,\"#fdca26\"],[1.0,\"#f0f921\"]],\"sequentialminus\":[[0.0,\"#0d0887\"],[0.1111111111111111,\"#46039f\"],[0.2222222222222222,\"#7201a8\"],[0.3333333333333333,\"#9c179e\"],[0.4444444444444444,\"#bd3786\"],[0.5555555555555556,\"#d8576b\"],[0.6666666666666666,\"#ed7953\"],[0.7777777777777778,\"#fb9f3a\"],[0.8888888888888888,\"#fdca26\"],[1.0,\"#f0f921\"]],\"diverging\":[[0,\"#8e0152\"],[0.1,\"#c51b7d\"],[0.2,\"#de77ae\"],[0.3,\"#f1b6da\"],[0.4,\"#fde0ef\"],[0.5,\"#f7f7f7\"],[0.6,\"#e6f5d0\"],[0.7,\"#b8e186\"],[0.8,\"#7fbc41\"],[0.9,\"#4d9221\"],[1,\"#276419\"]]},\"xaxis\":{\"gridcolor\":\"white\",\"linecolor\":\"white\",\"ticks\":\"\",\"title\":{\"standoff\":15},\"zerolinecolor\":\"white\",\"automargin\":true,\"zerolinewidth\":2},\"yaxis\":{\"gridcolor\":\"white\",\"linecolor\":\"white\",\"ticks\":\"\",\"title\":{\"standoff\":15},\"zerolinecolor\":\"white\",\"automargin\":true,\"zerolinewidth\":2},\"scene\":{\"xaxis\":{\"backgroundcolor\":\"#E5ECF6\",\"gridcolor\":\"white\",\"linecolor\":\"white\",\"showbackground\":true,\"ticks\":\"\",\"zerolinecolor\":\"white\",\"gridwidth\":2},\"yaxis\":{\"backgroundcolor\":\"#E5ECF6\",\"gridcolor\":\"white\",\"linecolor\":\"white\",\"showbackground\":true,\"ticks\":\"\",\"zerolinecolor\":\"white\",\"gridwidth\":2},\"zaxis\":{\"backgroundcolor\":\"#E5ECF6\",\"gridcolor\":\"white\",\"linecolor\":\"white\",\"showbackground\":true,\"ticks\":\"\",\"zerolinecolor\":\"white\",\"gridwidth\":2}},\"shapedefaults\":{\"line\":{\"color\":\"#2a3f5f\"}},\"annotationdefaults\":{\"arrowcolor\":\"#2a3f5f\",\"arrowhead\":0,\"arrowwidth\":1},\"geo\":{\"bgcolor\":\"white\",\"landcolor\":\"#E5ECF6\",\"subunitcolor\":\"white\",\"showland\":true,\"showlakes\":true,\"lakecolor\":\"white\"},\"title\":{\"x\":0.05},\"mapbox\":{\"style\":\"light\"}}},\"title\":{\"text\":\"Dependence of average equity change on spread\"},\"xaxis\":{\"title\":{\"text\":\"Spread\"}},\"yaxis\":{\"title\":{\"text\":\"Averaged mean PnL\"}}},                        {\"responsive\": true}                    ).then(function(){\n",
              "                            \n",
              "var gd = document.getElementById('1c53b339-9914-4946-940e-f9a32a849074');\n",
              "var x = new MutationObserver(function (mutations, observer) {{\n",
              "        var display = window.getComputedStyle(gd).display;\n",
              "        if (!display || display === 'none') {{\n",
              "            console.log([gd, 'removed!']);\n",
              "            Plotly.purge(gd);\n",
              "            observer.disconnect();\n",
              "        }}\n",
              "}});\n",
              "\n",
              "// Listen for the removal of the full notebook cells\n",
              "var notebookContainer = gd.closest('#notebook-container');\n",
              "if (notebookContainer) {{\n",
              "    x.observe(notebookContainer, {childList: true});\n",
              "}}\n",
              "\n",
              "// Listen for the clearing of the current output cell\n",
              "var outputEl = gd.closest('.output');\n",
              "if (outputEl) {{\n",
              "    x.observe(outputEl, {childList: true});\n",
              "}}\n",
              "\n",
              "                        })                };                            </script>        </div>\n",
              "</body>\n",
              "</html>"
            ]
          },
          "metadata": {},
          "output_type": "display_data"
        }
      ],
      "source": [
        "import plotly.express as px\n",
        "import plotly.graph_objects as go\n",
        "import pandas as pd\n",
        "\n",
        "data_spread_fra = pd.read_csv('/content/gdrive/MyDrive/Data /spread_curve.csv')\n",
        "\n",
        "fig = go.Figure()\n",
        "\n",
        "fig.add_trace(go.Scatter(x=data_spread_fra[\"SPREAD\"].unique(),\n",
        "                            y=data_spread_fra.groupby(\"SPREAD\")[\"MEAN_LONG\"].mean(),\n",
        "                            mode=\"lines\",\n",
        "                            line=go.scatter.Line(),\n",
        "                            name=\"Long\"))\n",
        "\n",
        "fig.add_trace(go.Scatter(x=data_spread_fra[\"SPREAD\"].unique(),\n",
        "                            y=data_spread_fra.groupby(\"SPREAD\")[\"MEAN_SHORT\"].mean(),\n",
        "                            mode=\"lines\",\n",
        "                            line=go.scatter.Line(),\n",
        "                            name=\"Short\"))\n",
        "\n",
        "\n",
        "fig.update_layout(\n",
        "    title=\"Dependence of average equity change on spread\",\n",
        "    xaxis_title=\"Spread\",\n",
        "    yaxis_title=\"Averaged mean PnL\")\n",
        "\n",
        "fig.show()"
      ]
    },
    {
      "cell_type": "code",
      "execution_count": null,
      "metadata": {
        "colab": {
          "base_uri": "https://localhost:8080/",
          "height": 562
        },
        "id": "oJVCDaTGUzeq",
        "outputId": "fc51dd0c-349a-419a-d126-51f0b002909b"
      },
      "outputs": [
        {
          "data": {
            "text/html": [
              "<html>\n",
              "<head><meta charset=\"utf-8\" /></head>\n",
              "<body>\n",
              "    <div>            <script src=\"https://cdnjs.cloudflare.com/ajax/libs/mathjax/2.7.5/MathJax.js?config=TeX-AMS-MML_SVG\"></script><script type=\"text/javascript\">if (window.MathJax && window.MathJax.Hub && window.MathJax.Hub.Config) {window.MathJax.Hub.Config({SVG: {font: \"STIX-Web\"}});}</script>                <script type=\"text/javascript\">window.PlotlyConfig = {MathJaxConfig: 'local'};</script>\n",
              "        <script src=\"https://cdn.plot.ly/plotly-2.18.2.min.js\"></script>                <div id=\"5f088720-9c21-41f1-9cf7-0d9462aca1ba\" class=\"plotly-graph-div\" style=\"height:525px; width:100%;\"></div>            <script type=\"text/javascript\">                                    window.PLOTLYENV=window.PLOTLYENV || {};                                    if (document.getElementById(\"5f088720-9c21-41f1-9cf7-0d9462aca1ba\")) {                    Plotly.newPlot(                        \"5f088720-9c21-41f1-9cf7-0d9462aca1ba\",                        [{\"mode\":\"lines\",\"name\":\"Long\",\"x\":[0.001,0.01,0.1,0.5],\"y\":[-9.180532152883729e-05,-0.008938542842722,-0.09904778590645917,-0.49881228947924006],\"type\":\"scatter\"},{\"mode\":\"lines\",\"name\":\"Short\",\"x\":[0.001,0.01,0.1,0.5],\"y\":[0.00017936386800708,0.00890086152146562,0.0987463031741074,0.4990103837141418],\"type\":\"scatter\"}],                        {\"template\":{\"data\":{\"histogram2dcontour\":[{\"type\":\"histogram2dcontour\",\"colorbar\":{\"outlinewidth\":0,\"ticks\":\"\"},\"colorscale\":[[0.0,\"#0d0887\"],[0.1111111111111111,\"#46039f\"],[0.2222222222222222,\"#7201a8\"],[0.3333333333333333,\"#9c179e\"],[0.4444444444444444,\"#bd3786\"],[0.5555555555555556,\"#d8576b\"],[0.6666666666666666,\"#ed7953\"],[0.7777777777777778,\"#fb9f3a\"],[0.8888888888888888,\"#fdca26\"],[1.0,\"#f0f921\"]]}],\"choropleth\":[{\"type\":\"choropleth\",\"colorbar\":{\"outlinewidth\":0,\"ticks\":\"\"}}],\"histogram2d\":[{\"type\":\"histogram2d\",\"colorbar\":{\"outlinewidth\":0,\"ticks\":\"\"},\"colorscale\":[[0.0,\"#0d0887\"],[0.1111111111111111,\"#46039f\"],[0.2222222222222222,\"#7201a8\"],[0.3333333333333333,\"#9c179e\"],[0.4444444444444444,\"#bd3786\"],[0.5555555555555556,\"#d8576b\"],[0.6666666666666666,\"#ed7953\"],[0.7777777777777778,\"#fb9f3a\"],[0.8888888888888888,\"#fdca26\"],[1.0,\"#f0f921\"]]}],\"heatmap\":[{\"type\":\"heatmap\",\"colorbar\":{\"outlinewidth\":0,\"ticks\":\"\"},\"colorscale\":[[0.0,\"#0d0887\"],[0.1111111111111111,\"#46039f\"],[0.2222222222222222,\"#7201a8\"],[0.3333333333333333,\"#9c179e\"],[0.4444444444444444,\"#bd3786\"],[0.5555555555555556,\"#d8576b\"],[0.6666666666666666,\"#ed7953\"],[0.7777777777777778,\"#fb9f3a\"],[0.8888888888888888,\"#fdca26\"],[1.0,\"#f0f921\"]]}],\"heatmapgl\":[{\"type\":\"heatmapgl\",\"colorbar\":{\"outlinewidth\":0,\"ticks\":\"\"},\"colorscale\":[[0.0,\"#0d0887\"],[0.1111111111111111,\"#46039f\"],[0.2222222222222222,\"#7201a8\"],[0.3333333333333333,\"#9c179e\"],[0.4444444444444444,\"#bd3786\"],[0.5555555555555556,\"#d8576b\"],[0.6666666666666666,\"#ed7953\"],[0.7777777777777778,\"#fb9f3a\"],[0.8888888888888888,\"#fdca26\"],[1.0,\"#f0f921\"]]}],\"contourcarpet\":[{\"type\":\"contourcarpet\",\"colorbar\":{\"outlinewidth\":0,\"ticks\":\"\"}}],\"contour\":[{\"type\":\"contour\",\"colorbar\":{\"outlinewidth\":0,\"ticks\":\"\"},\"colorscale\":[[0.0,\"#0d0887\"],[0.1111111111111111,\"#46039f\"],[0.2222222222222222,\"#7201a8\"],[0.3333333333333333,\"#9c179e\"],[0.4444444444444444,\"#bd3786\"],[0.5555555555555556,\"#d8576b\"],[0.6666666666666666,\"#ed7953\"],[0.7777777777777778,\"#fb9f3a\"],[0.8888888888888888,\"#fdca26\"],[1.0,\"#f0f921\"]]}],\"surface\":[{\"type\":\"surface\",\"colorbar\":{\"outlinewidth\":0,\"ticks\":\"\"},\"colorscale\":[[0.0,\"#0d0887\"],[0.1111111111111111,\"#46039f\"],[0.2222222222222222,\"#7201a8\"],[0.3333333333333333,\"#9c179e\"],[0.4444444444444444,\"#bd3786\"],[0.5555555555555556,\"#d8576b\"],[0.6666666666666666,\"#ed7953\"],[0.7777777777777778,\"#fb9f3a\"],[0.8888888888888888,\"#fdca26\"],[1.0,\"#f0f921\"]]}],\"mesh3d\":[{\"type\":\"mesh3d\",\"colorbar\":{\"outlinewidth\":0,\"ticks\":\"\"}}],\"scatter\":[{\"fillpattern\":{\"fillmode\":\"overlay\",\"size\":10,\"solidity\":0.2},\"type\":\"scatter\"}],\"parcoords\":[{\"type\":\"parcoords\",\"line\":{\"colorbar\":{\"outlinewidth\":0,\"ticks\":\"\"}}}],\"scatterpolargl\":[{\"type\":\"scatterpolargl\",\"marker\":{\"colorbar\":{\"outlinewidth\":0,\"ticks\":\"\"}}}],\"bar\":[{\"error_x\":{\"color\":\"#2a3f5f\"},\"error_y\":{\"color\":\"#2a3f5f\"},\"marker\":{\"line\":{\"color\":\"#E5ECF6\",\"width\":0.5},\"pattern\":{\"fillmode\":\"overlay\",\"size\":10,\"solidity\":0.2}},\"type\":\"bar\"}],\"scattergeo\":[{\"type\":\"scattergeo\",\"marker\":{\"colorbar\":{\"outlinewidth\":0,\"ticks\":\"\"}}}],\"scatterpolar\":[{\"type\":\"scatterpolar\",\"marker\":{\"colorbar\":{\"outlinewidth\":0,\"ticks\":\"\"}}}],\"histogram\":[{\"marker\":{\"pattern\":{\"fillmode\":\"overlay\",\"size\":10,\"solidity\":0.2}},\"type\":\"histogram\"}],\"scattergl\":[{\"type\":\"scattergl\",\"marker\":{\"colorbar\":{\"outlinewidth\":0,\"ticks\":\"\"}}}],\"scatter3d\":[{\"type\":\"scatter3d\",\"line\":{\"colorbar\":{\"outlinewidth\":0,\"ticks\":\"\"}},\"marker\":{\"colorbar\":{\"outlinewidth\":0,\"ticks\":\"\"}}}],\"scattermapbox\":[{\"type\":\"scattermapbox\",\"marker\":{\"colorbar\":{\"outlinewidth\":0,\"ticks\":\"\"}}}],\"scatterternary\":[{\"type\":\"scatterternary\",\"marker\":{\"colorbar\":{\"outlinewidth\":0,\"ticks\":\"\"}}}],\"scattercarpet\":[{\"type\":\"scattercarpet\",\"marker\":{\"colorbar\":{\"outlinewidth\":0,\"ticks\":\"\"}}}],\"carpet\":[{\"aaxis\":{\"endlinecolor\":\"#2a3f5f\",\"gridcolor\":\"white\",\"linecolor\":\"white\",\"minorgridcolor\":\"white\",\"startlinecolor\":\"#2a3f5f\"},\"baxis\":{\"endlinecolor\":\"#2a3f5f\",\"gridcolor\":\"white\",\"linecolor\":\"white\",\"minorgridcolor\":\"white\",\"startlinecolor\":\"#2a3f5f\"},\"type\":\"carpet\"}],\"table\":[{\"cells\":{\"fill\":{\"color\":\"#EBF0F8\"},\"line\":{\"color\":\"white\"}},\"header\":{\"fill\":{\"color\":\"#C8D4E3\"},\"line\":{\"color\":\"white\"}},\"type\":\"table\"}],\"barpolar\":[{\"marker\":{\"line\":{\"color\":\"#E5ECF6\",\"width\":0.5},\"pattern\":{\"fillmode\":\"overlay\",\"size\":10,\"solidity\":0.2}},\"type\":\"barpolar\"}],\"pie\":[{\"automargin\":true,\"type\":\"pie\"}]},\"layout\":{\"autotypenumbers\":\"strict\",\"colorway\":[\"#636efa\",\"#EF553B\",\"#00cc96\",\"#ab63fa\",\"#FFA15A\",\"#19d3f3\",\"#FF6692\",\"#B6E880\",\"#FF97FF\",\"#FECB52\"],\"font\":{\"color\":\"#2a3f5f\"},\"hovermode\":\"closest\",\"hoverlabel\":{\"align\":\"left\"},\"paper_bgcolor\":\"white\",\"plot_bgcolor\":\"#E5ECF6\",\"polar\":{\"bgcolor\":\"#E5ECF6\",\"angularaxis\":{\"gridcolor\":\"white\",\"linecolor\":\"white\",\"ticks\":\"\"},\"radialaxis\":{\"gridcolor\":\"white\",\"linecolor\":\"white\",\"ticks\":\"\"}},\"ternary\":{\"bgcolor\":\"#E5ECF6\",\"aaxis\":{\"gridcolor\":\"white\",\"linecolor\":\"white\",\"ticks\":\"\"},\"baxis\":{\"gridcolor\":\"white\",\"linecolor\":\"white\",\"ticks\":\"\"},\"caxis\":{\"gridcolor\":\"white\",\"linecolor\":\"white\",\"ticks\":\"\"}},\"coloraxis\":{\"colorbar\":{\"outlinewidth\":0,\"ticks\":\"\"}},\"colorscale\":{\"sequential\":[[0.0,\"#0d0887\"],[0.1111111111111111,\"#46039f\"],[0.2222222222222222,\"#7201a8\"],[0.3333333333333333,\"#9c179e\"],[0.4444444444444444,\"#bd3786\"],[0.5555555555555556,\"#d8576b\"],[0.6666666666666666,\"#ed7953\"],[0.7777777777777778,\"#fb9f3a\"],[0.8888888888888888,\"#fdca26\"],[1.0,\"#f0f921\"]],\"sequentialminus\":[[0.0,\"#0d0887\"],[0.1111111111111111,\"#46039f\"],[0.2222222222222222,\"#7201a8\"],[0.3333333333333333,\"#9c179e\"],[0.4444444444444444,\"#bd3786\"],[0.5555555555555556,\"#d8576b\"],[0.6666666666666666,\"#ed7953\"],[0.7777777777777778,\"#fb9f3a\"],[0.8888888888888888,\"#fdca26\"],[1.0,\"#f0f921\"]],\"diverging\":[[0,\"#8e0152\"],[0.1,\"#c51b7d\"],[0.2,\"#de77ae\"],[0.3,\"#f1b6da\"],[0.4,\"#fde0ef\"],[0.5,\"#f7f7f7\"],[0.6,\"#e6f5d0\"],[0.7,\"#b8e186\"],[0.8,\"#7fbc41\"],[0.9,\"#4d9221\"],[1,\"#276419\"]]},\"xaxis\":{\"gridcolor\":\"white\",\"linecolor\":\"white\",\"ticks\":\"\",\"title\":{\"standoff\":15},\"zerolinecolor\":\"white\",\"automargin\":true,\"zerolinewidth\":2},\"yaxis\":{\"gridcolor\":\"white\",\"linecolor\":\"white\",\"ticks\":\"\",\"title\":{\"standoff\":15},\"zerolinecolor\":\"white\",\"automargin\":true,\"zerolinewidth\":2},\"scene\":{\"xaxis\":{\"backgroundcolor\":\"#E5ECF6\",\"gridcolor\":\"white\",\"linecolor\":\"white\",\"showbackground\":true,\"ticks\":\"\",\"zerolinecolor\":\"white\",\"gridwidth\":2},\"yaxis\":{\"backgroundcolor\":\"#E5ECF6\",\"gridcolor\":\"white\",\"linecolor\":\"white\",\"showbackground\":true,\"ticks\":\"\",\"zerolinecolor\":\"white\",\"gridwidth\":2},\"zaxis\":{\"backgroundcolor\":\"#E5ECF6\",\"gridcolor\":\"white\",\"linecolor\":\"white\",\"showbackground\":true,\"ticks\":\"\",\"zerolinecolor\":\"white\",\"gridwidth\":2}},\"shapedefaults\":{\"line\":{\"color\":\"#2a3f5f\"}},\"annotationdefaults\":{\"arrowcolor\":\"#2a3f5f\",\"arrowhead\":0,\"arrowwidth\":1},\"geo\":{\"bgcolor\":\"white\",\"landcolor\":\"#E5ECF6\",\"subunitcolor\":\"white\",\"showland\":true,\"showlakes\":true,\"lakecolor\":\"white\"},\"title\":{\"x\":0.05},\"mapbox\":{\"style\":\"light\"}}},\"title\":{\"text\":\"Dependence of average PIP on spread\"},\"xaxis\":{\"title\":{\"text\":\"Spread\"}},\"yaxis\":{\"title\":{\"text\":\"Mean PIP\"}}},                        {\"responsive\": true}                    ).then(function(){\n",
              "                            \n",
              "var gd = document.getElementById('5f088720-9c21-41f1-9cf7-0d9462aca1ba');\n",
              "var x = new MutationObserver(function (mutations, observer) {{\n",
              "        var display = window.getComputedStyle(gd).display;\n",
              "        if (!display || display === 'none') {{\n",
              "            console.log([gd, 'removed!']);\n",
              "            Plotly.purge(gd);\n",
              "            observer.disconnect();\n",
              "        }}\n",
              "}});\n",
              "\n",
              "// Listen for the removal of the full notebook cells\n",
              "var notebookContainer = gd.closest('#notebook-container');\n",
              "if (notebookContainer) {{\n",
              "    x.observe(notebookContainer, {childList: true});\n",
              "}}\n",
              "\n",
              "// Listen for the clearing of the current output cell\n",
              "var outputEl = gd.closest('.output');\n",
              "if (outputEl) {{\n",
              "    x.observe(outputEl, {childList: true});\n",
              "}}\n",
              "\n",
              "                        })                };                            </script>        </div>\n",
              "</body>\n",
              "</html>"
            ]
          },
          "metadata": {},
          "output_type": "display_data"
        }
      ],
      "source": [
        "fig = go.Figure()\n",
        "\n",
        "fig.add_trace(go.Scatter(x=data_spread_fra[\"SPREAD\"].unique(),\n",
        "                            y=data_spread_fra.groupby(\"SPREAD\")[\"MEAN_PIPS_LONG\"].mean(),\n",
        "                            mode=\"lines\",\n",
        "                            line=go.scatter.Line(),\n",
        "                            name=\"Long\"))\n",
        "\n",
        "fig.add_trace(go.Scatter(x=data_spread_fra[\"SPREAD\"].unique(),\n",
        "                            y=data_spread_fra.groupby(\"SPREAD\")[\"MEAN_PIPS_SHORT\"].mean(),\n",
        "                            mode=\"lines\",\n",
        "                            line=go.scatter.Line(),\n",
        "                            name=\"Short\"))\n",
        "\n",
        "fig.update_layout(\n",
        "    title=\"Dependence of average PIP on spread\",\n",
        "    xaxis_title=\"Spread\",\n",
        "    yaxis_title=\"Mean PIP\")\n",
        "\n",
        "fig.show()"
      ]
    },
    {
      "cell_type": "code",
      "execution_count": null,
      "metadata": {
        "colab": {
          "base_uri": "https://localhost:8080/",
          "height": 451
        },
        "id": "gTMMNCc3E4AQ",
        "outputId": "11025286-9929-4bb0-a9eb-7b67feba3641"
      },
      "outputs": [
        {
          "data": {
            "image/png": "[encoded data removed]",
            "text/plain": [
              "<Figure size 640x480 with 1 Axes>"
            ]
          },
          "metadata": {},
          "output_type": "display_data"
        }
      ],
      "source": [
        "import pandas as pd \n",
        "import matplotlib.pyplot as plt\n",
        "\n",
        "data_spread_fra = pd.read_csv('/content/gdrive/MyDrive/Data /spread_curve.csv')\n",
        "\n",
        "plt.plot(data_spread_fra[\"SPREAD\"].unique(), data_spread_fra.groupby(\"SPREAD\")[\"SUM_LONG\"].mean());\n",
        "plt.plot(data_spread_fra[\"SPREAD\"].unique(), data_spread_fra.groupby(\"SPREAD\")[\"SUM_SHORT\"].mean());"
      ]
    },
    {
      "cell_type": "code",
      "execution_count": null,
      "metadata": {
        "colab": {
          "base_uri": "https://localhost:8080/",
          "height": 451
        },
        "id": "cOGX8kTdHWaB",
        "outputId": "2b120374-fcf8-432d-8548-2f9b7d09d80b"
      },
      "outputs": [
        {
          "data": {
            "image/png": "[encoded data removed]",
            "text/plain": [
              "<Figure size 640x480 with 1 Axes>"
            ]
          },
          "metadata": {},
          "output_type": "display_data"
        }
      ],
      "source": [
        "plt.plot(data_spread_fra[\"SPREAD\"].unique(), data_spread_fra.groupby(\"SPREAD\")[\"MEAN_LONG\"].mean());\n",
        "plt.plot(data_spread_fra[\"SPREAD\"].unique(), data_spread_fra.groupby(\"SPREAD\")[\"MEAN_SHORT\"].mean());"
      ]
    },
    {
      "cell_type": "code",
      "execution_count": null,
      "metadata": {
        "colab": {
          "base_uri": "https://localhost:8080/",
          "height": 451
        },
        "id": "JrYuJixxHfhr",
        "outputId": "e50e22f4-5e55-4a47-ad56-5f61fcd1c88d"
      },
      "outputs": [
        {
          "data": {
            "image/png": "[encoded data removed]",
            "text/plain": [
              "<Figure size 640x480 with 1 Axes>"
            ]
          },
          "metadata": {},
          "output_type": "display_data"
        }
      ],
      "source": [
        "plt.plot(data_spread_fra[\"SPREAD\"].unique(), data_spread_fra.groupby(\"SPREAD\")[\"LONG/SHORT\"].mean());"
      ]
    },
    {
      "cell_type": "code",
      "execution_count": null,
      "metadata": {
        "colab": {
          "base_uri": "https://localhost:8080/",
          "height": 451
        },
        "id": "ti1eStAXHvs9",
        "outputId": "bdb64f48-6597-4e26-9ea2-b792f5ae859b"
      },
      "outputs": [
        {
          "data": {
            "image/png": "[encoded data removed]",
            "text/plain": [
              "<Figure size 640x480 with 1 Axes>"
            ]
          },
          "metadata": {},
          "output_type": "display_data"
        }
      ],
      "source": [
        "plt.plot(data_spread_fra[\"SPREAD\"].unique(), data_spread_fra.groupby(\"SPREAD\")[\"MAX_PIPS_LONG\"].mean());\n",
        "plt.plot(data_spread_fra[\"SPREAD\"].unique(), data_spread_fra.groupby(\"SPREAD\")[\"MAX_PIPS_SHORT\"].mean());"
      ]
    },
    {
      "cell_type": "code",
      "execution_count": null,
      "metadata": {
        "colab": {
          "base_uri": "https://localhost:8080/"
        },
        "id": "zfcB7WQBIHJ6",
        "outputId": "62885b2e-e569-494c-f57f-2b1f3d7eb913"
      },
      "outputs": [
        {
          "data": {
            "text/plain": [
              "False"
            ]
          },
          "execution_count": 19,
          "metadata": {},
          "output_type": "execute_result"
        }
      ],
      "source": [
        "(data_spread_fra[\"MEAN_PIPS_LONG\"] == data_spread_fra[\"MAX_PIPS_LONG\"]).any()"
      ]
    },
    {
      "cell_type": "code",
      "execution_count": null,
      "metadata": {
        "colab": {
          "base_uri": "https://localhost:8080/",
          "height": 451
        },
        "id": "gbxuT7D1H7tr",
        "outputId": "5a962376-8b72-4cc1-87e4-fac2db91c5aa"
      },
      "outputs": [
        {
          "data": {
            "image/png": "[encoded data removed]",
            "text/plain": [
              "<Figure size 640x480 with 1 Axes>"
            ]
          },
          "metadata": {},
          "output_type": "display_data"
        }
      ],
      "source": [
        "plt.plot(data_spread_fra[\"SPREAD\"].unique(), data_spread_fra.groupby(\"SPREAD\")[\"MEAN_PIPS_LONG\"].mean());\n",
        "plt.plot(data_spread_fra[\"SPREAD\"].unique(), data_spread_fra.groupby(\"SPREAD\")[\"MEAN_PIPS_SHORT\"].mean());"
      ]
    },
    {
      "cell_type": "code",
      "execution_count": null,
      "metadata": {
        "id": "jFj4IfHFIGEM"
      },
      "outputs": [],
      "source": []
    },
    {
      "cell_type": "markdown",
      "metadata": {
        "id": "vJzHd2PQ91RS"
      },
      "source": [
        "###No Spread"
      ]
    },
    {
      "cell_type": "markdown",
      "metadata": {
        "id": "JvWUK8awFSD1"
      },
      "source": [
        "No spread \"curve\":"
      ]
    },
    {
      "cell_type": "code",
      "execution_count": null,
      "metadata": {
        "colab": {
          "background_save": true,
          "base_uri": "https://localhost:8080/",
          "height": 1000
        },
        "id": "GKNvRSfG96ui",
        "outputId": "6e72106d-e10e-4810-c5a5-b952c04ef8e3"
      },
      "outputs": [
        {
          "name": "stdout",
          "output_type": "stream",
          "text": [
            "---------computing 0 time--------\n",
            "#################PREPOCESSING DATA...#####################\n",
            "643/643 [==============================] - 2s 3ms/step\n",
            "#################PREPOCESSING DONE#####################\n",
            "#################BUILDING THE CLASSIFIER...#####################\n"
          ]
        },
        {
          "name": "stderr",
          "output_type": "stream",
          "text": [
            "/usr/local/lib/python3.9/dist-packages/sklearn/cluster/_kmeans.py:870: FutureWarning: The default value of `n_init` will change from 10 to 'auto' in 1.4. Set the value of `n_init` explicitly to suppress the warning\n",
            "  warnings.warn(\n",
            "/usr/local/lib/python3.9/dist-packages/sklearn/cluster/_kmeans.py:870: FutureWarning: The default value of `n_init` will change from 10 to 'auto' in 1.4. Set the value of `n_init` explicitly to suppress the warning\n",
            "  warnings.warn(\n",
            "/usr/local/lib/python3.9/dist-packages/sklearn/cluster/_kmeans.py:870: FutureWarning: The default value of `n_init` will change from 10 to 'auto' in 1.4. Set the value of `n_init` explicitly to suppress the warning\n",
            "  warnings.warn(\n",
            "/usr/local/lib/python3.9/dist-packages/sklearn/cluster/_kmeans.py:870: FutureWarning: The default value of `n_init` will change from 10 to 'auto' in 1.4. Set the value of `n_init` explicitly to suppress the warning\n",
            "  warnings.warn(\n",
            "/usr/local/lib/python3.9/dist-packages/sklearn/cluster/_kmeans.py:870: FutureWarning: The default value of `n_init` will change from 10 to 'auto' in 1.4. Set the value of `n_init` explicitly to suppress the warning\n",
            "  warnings.warn(\n",
            "/usr/local/lib/python3.9/dist-packages/sklearn/cluster/_kmeans.py:870: FutureWarning: The default value of `n_init` will change from 10 to 'auto' in 1.4. Set the value of `n_init` explicitly to suppress the warning\n",
            "  warnings.warn(\n"
          ]
        },
        {
          "name": "stdout",
          "output_type": "stream",
          "text": [
            "#################CLASSIFIER IS READY#####################\n",
            "#################FILTERING CLUSTERS...#####################\n",
            "#################FILTERATION DONE#####################\n",
            "#################RUNNING BACKTEST...#####################\n",
            "170/170 [==============================] - 0s 2ms/step\n",
            "POSITIVE PIPS:  33\n",
            "NEGATIVE PIPS:  42\n",
            "TOTAL:  75\n",
            "---------computing 1 time--------\n",
            "#################PREPOCESSING DATA...#####################\n",
            "643/643 [==============================] - 1s 2ms/step\n",
            "#################PREPOCESSING DONE#####################\n",
            "#################BUILDING THE CLASSIFIER...#####################\n"
          ]
        },
        {
          "name": "stderr",
          "output_type": "stream",
          "text": [
            "/usr/local/lib/python3.9/dist-packages/sklearn/cluster/_kmeans.py:870: FutureWarning: The default value of `n_init` will change from 10 to 'auto' in 1.4. Set the value of `n_init` explicitly to suppress the warning\n",
            "  warnings.warn(\n",
            "/usr/local/lib/python3.9/dist-packages/sklearn/cluster/_kmeans.py:870: FutureWarning: The default value of `n_init` will change from 10 to 'auto' in 1.4. Set the value of `n_init` explicitly to suppress the warning\n",
            "  warnings.warn(\n",
            "/usr/local/lib/python3.9/dist-packages/sklearn/cluster/_kmeans.py:870: FutureWarning: The default value of `n_init` will change from 10 to 'auto' in 1.4. Set the value of `n_init` explicitly to suppress the warning\n",
            "  warnings.warn(\n",
            "/usr/local/lib/python3.9/dist-packages/sklearn/cluster/_kmeans.py:870: FutureWarning: The default value of `n_init` will change from 10 to 'auto' in 1.4. Set the value of `n_init` explicitly to suppress the warning\n",
            "  warnings.warn(\n",
            "/usr/local/lib/python3.9/dist-packages/sklearn/cluster/_kmeans.py:870: FutureWarning: The default value of `n_init` will change from 10 to 'auto' in 1.4. Set the value of `n_init` explicitly to suppress the warning\n",
            "  warnings.warn(\n",
            "/usr/local/lib/python3.9/dist-packages/sklearn/cluster/_kmeans.py:870: FutureWarning: The default value of `n_init` will change from 10 to 'auto' in 1.4. Set the value of `n_init` explicitly to suppress the warning\n",
            "  warnings.warn(\n"
          ]
        },
        {
          "name": "stdout",
          "output_type": "stream",
          "text": [
            "#################CLASSIFIER IS READY#####################\n",
            "#################FILTERING CLUSTERS...#####################\n",
            "#################FILTERATION DONE#####################\n",
            "#################RUNNING BACKTEST...#####################\n",
            "170/170 [==============================] - 0s 2ms/step\n",
            "POSITIVE PIPS:  38\n",
            "NEGATIVE PIPS:  42\n",
            "TOTAL:  80\n",
            "---------computing 2 time--------\n",
            "#################PREPOCESSING DATA...#####################\n",
            "643/643 [==============================] - 1s 2ms/step\n",
            "#################PREPOCESSING DONE#####################\n",
            "#################BUILDING THE CLASSIFIER...#####################\n"
          ]
        },
        {
          "name": "stderr",
          "output_type": "stream",
          "text": [
            "/usr/local/lib/python3.9/dist-packages/sklearn/cluster/_kmeans.py:870: FutureWarning: The default value of `n_init` will change from 10 to 'auto' in 1.4. Set the value of `n_init` explicitly to suppress the warning\n",
            "  warnings.warn(\n",
            "/usr/local/lib/python3.9/dist-packages/sklearn/cluster/_kmeans.py:870: FutureWarning: The default value of `n_init` will change from 10 to 'auto' in 1.4. Set the value of `n_init` explicitly to suppress the warning\n",
            "  warnings.warn(\n"
          ]
        },
        {
          "ename": "KeyboardInterrupt",
          "evalue": "ignored",
          "output_type": "error",
          "traceback": [
            "\u001b[0;31m---------------------------------------------------------------------------\u001b[0m",
            "\u001b[0;31mKeyboardInterrupt\u001b[0m                         Traceback (most recent call last)",
            "\u001b[0;32m/content/PSC-Pattern-Classification/main.py\u001b[0m in \u001b[0;36m<module>\u001b[0;34m\u001b[0m\n\u001b[1;32m     76\u001b[0m              int_rate, trade_init]\n\u001b[1;32m     77\u001b[0m \u001b[0;34m\u001b[0m\u001b[0m\n\u001b[0;32m---> 78\u001b[0;31m \u001b[0mresult\u001b[0m\u001b[0;34m(\u001b[0m\u001b[0mrun_args\u001b[0m\u001b[0;34m)\u001b[0m\u001b[0;34m\u001b[0m\u001b[0;34m\u001b[0m\u001b[0m\n\u001b[0m\u001b[1;32m     79\u001b[0m \u001b[0;31m#generalization_check(run_args)\u001b[0m\u001b[0;34m\u001b[0m\u001b[0;34m\u001b[0m\u001b[0m\n\u001b[1;32m     80\u001b[0m \u001b[0;31m#BACKTEST_REPORT(output)\u001b[0m\u001b[0;34m\u001b[0m\u001b[0;34m\u001b[0m\u001b[0m\n",
            "\u001b[0;32m/content/PSC-Pattern-Classification/main.py\u001b[0m in \u001b[0;36mresult\u001b[0;34m(run_args)\u001b[0m\n\u001b[1;32m     30\u001b[0m \u001b[0;34m\u001b[0m\u001b[0m\n\u001b[1;32m     31\u001b[0m \u001b[0;32mdef\u001b[0m \u001b[0mresult\u001b[0m\u001b[0;34m(\u001b[0m\u001b[0mrun_args\u001b[0m\u001b[0;34m:\u001b[0m \u001b[0mlist\u001b[0m\u001b[0;34m)\u001b[0m \u001b[0;34m->\u001b[0m \u001b[0;32mNone\u001b[0m\u001b[0;34m:\u001b[0m\u001b[0;34m\u001b[0m\u001b[0;34m\u001b[0m\u001b[0m\n\u001b[0;32m---> 32\u001b[0;31m     \u001b[0moutput\u001b[0m \u001b[0;34m=\u001b[0m \u001b[0mrun\u001b[0m\u001b[0;34m(\u001b[0m\u001b[0;34m*\u001b[0m\u001b[0mrun_args\u001b[0m\u001b[0;34m)\u001b[0m\u001b[0;34m\u001b[0m\u001b[0;34m\u001b[0m\u001b[0m\n\u001b[0m\u001b[1;32m     33\u001b[0m \u001b[0;34m\u001b[0m\u001b[0m\n\u001b[1;32m     34\u001b[0m     \u001b[0;31m# with open(f'/content/gdrive/MyDrive/Data /spread_curve.csv', 'a', newline='') as csvfile:\u001b[0m\u001b[0;34m\u001b[0m\u001b[0;34m\u001b[0m\u001b[0m\n",
            "\u001b[0;32m/content/PSC-Pattern-Classification/./functions/run.py\u001b[0m in \u001b[0;36mrun\u001b[0;34m(path, index0, index, date_start, date_end_train, date_end_test, nb_clusters, longueur, echantillon, n_in, latent_dim, input_dim, seuil, nb_iter, t_tracking, min_pip, min_element, spread, int_rate, trade_init)\u001b[0m\n\u001b[1;32m     21\u001b[0m     \u001b[0mprint\u001b[0m\u001b[0;34m(\u001b[0m\u001b[0;34m\"#################BUILDING THE CLASSIFIER...#####################\"\u001b[0m\u001b[0;34m)\u001b[0m\u001b[0;34m\u001b[0m\u001b[0;34m\u001b[0m\u001b[0m\n\u001b[1;32m     22\u001b[0m \u001b[0;34m\u001b[0m\u001b[0m\n\u001b[0;32m---> 23\u001b[0;31m     \u001b[0mKmeans\u001b[0m \u001b[0;34m=\u001b[0m \u001b[0mnRaffinements\u001b[0m\u001b[0;34m(\u001b[0m\u001b[0;36m5\u001b[0m\u001b[0;34m,\u001b[0m \u001b[0mnb_clusters\u001b[0m\u001b[0;34m,\u001b[0m \u001b[0mseuil\u001b[0m\u001b[0;34m,\u001b[0m \u001b[0mdata_set_encoded\u001b[0m\u001b[0;34m)\u001b[0m\u001b[0;34m\u001b[0m\u001b[0;34m\u001b[0m\u001b[0m\n\u001b[0m\u001b[1;32m     24\u001b[0m     \u001b[0mKmeans\u001b[0m\u001b[0;34m.\u001b[0m\u001b[0mfit\u001b[0m\u001b[0;34m(\u001b[0m\u001b[0mdata_set_encoded\u001b[0m\u001b[0;34m)\u001b[0m\u001b[0;34m\u001b[0m\u001b[0;34m\u001b[0m\u001b[0m\n\u001b[1;32m     25\u001b[0m     \u001b[0mprint\u001b[0m\u001b[0;34m(\u001b[0m\u001b[0;34m\"#################CLASSIFIER IS READY#####################\"\u001b[0m\u001b[0;34m)\u001b[0m\u001b[0;34m\u001b[0m\u001b[0;34m\u001b[0m\u001b[0m\n",
            "\u001b[0;32m/content/PSC-Pattern-Classification/./functions/clusters.py\u001b[0m in \u001b[0;36mnRaffinements\u001b[0;34m(nit, nbClusters, seuil, data)\u001b[0m\n\u001b[1;32m     40\u001b[0m     \u001b[0;32mfor\u001b[0m \u001b[0mi\u001b[0m \u001b[0;32min\u001b[0m \u001b[0mrange\u001b[0m\u001b[0;34m(\u001b[0m\u001b[0mnit\u001b[0m\u001b[0;34m)\u001b[0m\u001b[0;34m:\u001b[0m\u001b[0;34m\u001b[0m\u001b[0;34m\u001b[0m\u001b[0m\n\u001b[1;32m     41\u001b[0m         \u001b[0mkmeans2\u001b[0m \u001b[0;34m=\u001b[0m \u001b[0mKMeans\u001b[0m\u001b[0;34m(\u001b[0m\u001b[0mnbClusters\u001b[0m\u001b[0;34m)\u001b[0m\u001b[0;34m\u001b[0m\u001b[0;34m\u001b[0m\u001b[0m\n\u001b[0;32m---> 42\u001b[0;31m         \u001b[0mkmeans2\u001b[0m\u001b[0;34m.\u001b[0m\u001b[0mfit\u001b[0m\u001b[0;34m(\u001b[0m\u001b[0mdata\u001b[0m\u001b[0;34m)\u001b[0m\u001b[0;34m\u001b[0m\u001b[0;34m\u001b[0m\u001b[0m\n\u001b[0m\u001b[1;32m     43\u001b[0m         \u001b[0mtemp_centroids\u001b[0m \u001b[0;34m=\u001b[0m \u001b[0mkmeans2\u001b[0m\u001b[0;34m.\u001b[0m\u001b[0mcluster_centers_\u001b[0m\u001b[0;34m\u001b[0m\u001b[0;34m\u001b[0m\u001b[0m\n\u001b[1;32m     44\u001b[0m         \u001b[0mcentroids\u001b[0m \u001b[0;34m=\u001b[0m \u001b[0mfiltrerClusters1\u001b[0m\u001b[0;34m(\u001b[0m\u001b[0mcentroids\u001b[0m\u001b[0;34m,\u001b[0m \u001b[0mi\u001b[0m\u001b[0;34m,\u001b[0m \u001b[0mtemp_centroids\u001b[0m\u001b[0;34m,\u001b[0m \u001b[0mseuil\u001b[0m\u001b[0;34m)\u001b[0m\u001b[0;34m\u001b[0m\u001b[0;34m\u001b[0m\u001b[0m\n",
            "\u001b[0;32m/usr/local/lib/python3.9/dist-packages/sklearn/cluster/_kmeans.py\u001b[0m in \u001b[0;36mfit\u001b[0;34m(self, X, y, sample_weight)\u001b[0m\n\u001b[1;32m   1459\u001b[0m         \u001b[0;32mfor\u001b[0m \u001b[0mi\u001b[0m \u001b[0;32min\u001b[0m \u001b[0mrange\u001b[0m\u001b[0;34m(\u001b[0m\u001b[0mself\u001b[0m\u001b[0;34m.\u001b[0m\u001b[0m_n_init\u001b[0m\u001b[0;34m)\u001b[0m\u001b[0;34m:\u001b[0m\u001b[0;34m\u001b[0m\u001b[0;34m\u001b[0m\u001b[0m\n\u001b[1;32m   1460\u001b[0m             \u001b[0;31m# Initialize centers\u001b[0m\u001b[0;34m\u001b[0m\u001b[0;34m\u001b[0m\u001b[0m\n\u001b[0;32m-> 1461\u001b[0;31m             centers_init = self._init_centroids(\n\u001b[0m\u001b[1;32m   1462\u001b[0m                 \u001b[0mX\u001b[0m\u001b[0;34m,\u001b[0m \u001b[0mx_squared_norms\u001b[0m\u001b[0;34m=\u001b[0m\u001b[0mx_squared_norms\u001b[0m\u001b[0;34m,\u001b[0m \u001b[0minit\u001b[0m\u001b[0;34m=\u001b[0m\u001b[0minit\u001b[0m\u001b[0;34m,\u001b[0m \u001b[0mrandom_state\u001b[0m\u001b[0;34m=\u001b[0m\u001b[0mrandom_state\u001b[0m\u001b[0;34m\u001b[0m\u001b[0;34m\u001b[0m\u001b[0m\n\u001b[1;32m   1463\u001b[0m             )\n",
            "\u001b[0;32m/usr/local/lib/python3.9/dist-packages/sklearn/cluster/_kmeans.py\u001b[0m in \u001b[0;36m_init_centroids\u001b[0;34m(self, X, x_squared_norms, init, random_state, init_size, n_centroids)\u001b[0m\n\u001b[1;32m    987\u001b[0m \u001b[0;34m\u001b[0m\u001b[0m\n\u001b[1;32m    988\u001b[0m         \u001b[0;32mif\u001b[0m \u001b[0misinstance\u001b[0m\u001b[0;34m(\u001b[0m\u001b[0minit\u001b[0m\u001b[0;34m,\u001b[0m \u001b[0mstr\u001b[0m\u001b[0;34m)\u001b[0m \u001b[0;32mand\u001b[0m \u001b[0minit\u001b[0m \u001b[0;34m==\u001b[0m \u001b[0;34m\"k-means++\"\u001b[0m\u001b[0;34m:\u001b[0m\u001b[0;34m\u001b[0m\u001b[0;34m\u001b[0m\u001b[0m\n\u001b[0;32m--> 989\u001b[0;31m             centers, _ = _kmeans_plusplus(\n\u001b[0m\u001b[1;32m    990\u001b[0m                 \u001b[0mX\u001b[0m\u001b[0;34m,\u001b[0m\u001b[0;34m\u001b[0m\u001b[0;34m\u001b[0m\u001b[0m\n\u001b[1;32m    991\u001b[0m                 \u001b[0mn_clusters\u001b[0m\u001b[0;34m,\u001b[0m\u001b[0;34m\u001b[0m\u001b[0;34m\u001b[0m\u001b[0m\n",
            "\u001b[0;32m/usr/local/lib/python3.9/dist-packages/sklearn/cluster/_kmeans.py\u001b[0m in \u001b[0;36m_kmeans_plusplus\u001b[0;34m(X, n_clusters, x_squared_norms, random_state, n_local_trials)\u001b[0m\n\u001b[1;32m    232\u001b[0m \u001b[0;34m\u001b[0m\u001b[0m\n\u001b[1;32m    233\u001b[0m         \u001b[0;31m# Compute distances to center candidates\u001b[0m\u001b[0;34m\u001b[0m\u001b[0;34m\u001b[0m\u001b[0m\n\u001b[0;32m--> 234\u001b[0;31m         distance_to_candidates = _euclidean_distances(\n\u001b[0m\u001b[1;32m    235\u001b[0m             \u001b[0mX\u001b[0m\u001b[0;34m[\u001b[0m\u001b[0mcandidate_ids\u001b[0m\u001b[0;34m]\u001b[0m\u001b[0;34m,\u001b[0m \u001b[0mX\u001b[0m\u001b[0;34m,\u001b[0m \u001b[0mY_norm_squared\u001b[0m\u001b[0;34m=\u001b[0m\u001b[0mx_squared_norms\u001b[0m\u001b[0;34m,\u001b[0m \u001b[0msquared\u001b[0m\u001b[0;34m=\u001b[0m\u001b[0;32mTrue\u001b[0m\u001b[0;34m\u001b[0m\u001b[0;34m\u001b[0m\u001b[0m\n\u001b[1;32m    236\u001b[0m         )\n",
            "\u001b[0;32m/usr/local/lib/python3.9/dist-packages/sklearn/metrics/pairwise.py\u001b[0m in \u001b[0;36m_euclidean_distances\u001b[0;34m(X, Y, X_norm_squared, Y_norm_squared, squared)\u001b[0m\n\u001b[1;32m    364\u001b[0m         \u001b[0;31m# To minimize precision issues with float32, we compute the distance\u001b[0m\u001b[0;34m\u001b[0m\u001b[0;34m\u001b[0m\u001b[0m\n\u001b[1;32m    365\u001b[0m         \u001b[0;31m# matrix on chunks of X and Y upcast to float64\u001b[0m\u001b[0;34m\u001b[0m\u001b[0;34m\u001b[0m\u001b[0m\n\u001b[0;32m--> 366\u001b[0;31m         \u001b[0mdistances\u001b[0m \u001b[0;34m=\u001b[0m \u001b[0m_euclidean_distances_upcast\u001b[0m\u001b[0;34m(\u001b[0m\u001b[0mX\u001b[0m\u001b[0;34m,\u001b[0m \u001b[0mXX\u001b[0m\u001b[0;34m,\u001b[0m \u001b[0mY\u001b[0m\u001b[0;34m,\u001b[0m \u001b[0mYY\u001b[0m\u001b[0;34m)\u001b[0m\u001b[0;34m\u001b[0m\u001b[0;34m\u001b[0m\u001b[0m\n\u001b[0m\u001b[1;32m    367\u001b[0m     \u001b[0;32melse\u001b[0m\u001b[0;34m:\u001b[0m\u001b[0;34m\u001b[0m\u001b[0;34m\u001b[0m\u001b[0m\n\u001b[1;32m    368\u001b[0m         \u001b[0;31m# if dtype is already float64, no need to chunk and upcast\u001b[0m\u001b[0;34m\u001b[0m\u001b[0;34m\u001b[0m\u001b[0m\n",
            "\u001b[0;32m/usr/local/lib/python3.9/dist-packages/sklearn/metrics/pairwise.py\u001b[0m in \u001b[0;36m_euclidean_distances_upcast\u001b[0;34m(X, XX, Y, YY, batch_size)\u001b[0m\n\u001b[1;32m    568\u001b[0m                 \u001b[0md\u001b[0m \u001b[0;34m=\u001b[0m \u001b[0;34m-\u001b[0m\u001b[0;36m2\u001b[0m \u001b[0;34m*\u001b[0m \u001b[0msafe_sparse_dot\u001b[0m\u001b[0;34m(\u001b[0m\u001b[0mX_chunk\u001b[0m\u001b[0;34m,\u001b[0m \u001b[0mY_chunk\u001b[0m\u001b[0;34m.\u001b[0m\u001b[0mT\u001b[0m\u001b[0;34m,\u001b[0m \u001b[0mdense_output\u001b[0m\u001b[0;34m=\u001b[0m\u001b[0;32mTrue\u001b[0m\u001b[0;34m)\u001b[0m\u001b[0;34m\u001b[0m\u001b[0;34m\u001b[0m\u001b[0m\n\u001b[1;32m    569\u001b[0m                 \u001b[0md\u001b[0m \u001b[0;34m+=\u001b[0m \u001b[0mXX_chunk\u001b[0m\u001b[0;34m\u001b[0m\u001b[0;34m\u001b[0m\u001b[0m\n\u001b[0;32m--> 570\u001b[0;31m                 \u001b[0md\u001b[0m \u001b[0;34m+=\u001b[0m \u001b[0mYY_chunk\u001b[0m\u001b[0;34m\u001b[0m\u001b[0;34m\u001b[0m\u001b[0m\n\u001b[0m\u001b[1;32m    571\u001b[0m \u001b[0;34m\u001b[0m\u001b[0m\n\u001b[1;32m    572\u001b[0m             \u001b[0mdistances\u001b[0m\u001b[0;34m[\u001b[0m\u001b[0mx_slice\u001b[0m\u001b[0;34m,\u001b[0m \u001b[0my_slice\u001b[0m\u001b[0;34m]\u001b[0m \u001b[0;34m=\u001b[0m \u001b[0md\u001b[0m\u001b[0;34m.\u001b[0m\u001b[0mastype\u001b[0m\u001b[0;34m(\u001b[0m\u001b[0mnp\u001b[0m\u001b[0;34m.\u001b[0m\u001b[0mfloat32\u001b[0m\u001b[0;34m,\u001b[0m \u001b[0mcopy\u001b[0m\u001b[0;34m=\u001b[0m\u001b[0;32mFalse\u001b[0m\u001b[0;34m)\u001b[0m\u001b[0;34m\u001b[0m\u001b[0;34m\u001b[0m\u001b[0m\n",
            "\u001b[0;31mKeyboardInterrupt\u001b[0m: "
          ]
        },
        {
          "name": "stdout",
          "output_type": "stream",
          "text": [
            "---------computing 3 time--------\n",
            "#################PREPOCESSING DATA...#####################\n",
            "643/643 [==============================] - 1s 2ms/step\n",
            "#################PREPOCESSING DONE#####################\n",
            "#################BUILDING THE CLASSIFIER...#####################\n"
          ]
        },
        {
          "name": "stderr",
          "output_type": "stream",
          "text": [
            "/usr/local/lib/python3.9/dist-packages/sklearn/cluster/_kmeans.py:870: FutureWarning: The default value of `n_init` will change from 10 to 'auto' in 1.4. Set the value of `n_init` explicitly to suppress the warning\n",
            "  warnings.warn(\n",
            "/usr/local/lib/python3.9/dist-packages/sklearn/cluster/_kmeans.py:870: FutureWarning: The default value of `n_init` will change from 10 to 'auto' in 1.4. Set the value of `n_init` explicitly to suppress the warning\n",
            "  warnings.warn(\n",
            "/usr/local/lib/python3.9/dist-packages/sklearn/cluster/_kmeans.py:870: FutureWarning: The default value of `n_init` will change from 10 to 'auto' in 1.4. Set the value of `n_init` explicitly to suppress the warning\n",
            "  warnings.warn(\n",
            "/usr/local/lib/python3.9/dist-packages/sklearn/cluster/_kmeans.py:870: FutureWarning: The default value of `n_init` will change from 10 to 'auto' in 1.4. Set the value of `n_init` explicitly to suppress the warning\n",
            "  warnings.warn(\n",
            "/usr/local/lib/python3.9/dist-packages/sklearn/cluster/_kmeans.py:870: FutureWarning: The default value of `n_init` will change from 10 to 'auto' in 1.4. Set the value of `n_init` explicitly to suppress the warning\n",
            "  warnings.warn(\n",
            "/usr/local/lib/python3.9/dist-packages/sklearn/cluster/_kmeans.py:870: FutureWarning: The default value of `n_init` will change from 10 to 'auto' in 1.4. Set the value of `n_init` explicitly to suppress the warning\n",
            "  warnings.warn(\n"
          ]
        },
        {
          "name": "stdout",
          "output_type": "stream",
          "text": [
            "#################CLASSIFIER IS READY#####################\n",
            "#################FILTERING CLUSTERS...#####################\n",
            "#################FILTERATION DONE#####################\n",
            "#################RUNNING BACKTEST...#####################\n",
            "170/170 [==============================] - 0s 2ms/step\n",
            "POSITIVE PIPS:  44\n",
            "NEGATIVE PIPS:  58\n",
            "TOTAL:  102\n"
          ]
        }
      ],
      "source": [
        "for i in range(4):                \n",
        "    print(f\"---------computing {i} time--------\")                 \n",
        "    %run main.py --index_type NONFOREX --index FRA40 --nb_clusters {500} --spread 0"
      ]
    },
    {
      "cell_type": "markdown",
      "source": [
        "POSITIVE PIPS:  33\n",
        "NEGATIVE PIPS:  42\n",
        "TOTAL:  75"
      ],
      "metadata": {
        "id": "s4QmZQ_WxtP3"
      }
    },
    {
      "cell_type": "markdown",
      "source": [
        "POSITIVE PIPS:  44\n",
        "NEGATIVE PIPS:  58\n",
        "TOTAL:  102"
      ],
      "metadata": {
        "id": "UE3e5BpLxv6e"
      }
    },
    {
      "cell_type": "markdown",
      "source": [
        "POSITIVE PIPS:  38\n",
        "NEGATIVE PIPS:  42\n",
        "TOTAL:  80"
      ],
      "metadata": {
        "id": "x9uKcUYbx0jo"
      }
    },
    {
      "cell_type": "markdown",
      "source": [
        "Therefore, formulas:\n",
        "\n",
        "positive: PnL = equity[t]*(pip - spread)    \n",
        "negative: PnL = - equity[t]*(pip + spread)"
      ],
      "metadata": {
        "id": "VC-SOPj_zEP-"
      }
    },
    {
      "cell_type": "code",
      "execution_count": null,
      "metadata": {
        "id": "L8A50Ob4Hpn0"
      },
      "outputs": [],
      "source": [
        "import pandas as pd \n",
        "\n",
        "data_fra_no_spread = pd.read_csv('/content/gdrive/MyDrive/Data /no_spread_curve.csv', header=None)\n",
        "\n",
        "columns = [\"SYMBOL\", \"START_DATE\", \"END_DATE\", \"DATES\", \"SPREAD\",\"LONG/SHORT\",\"SUM_LONG\",\"SUM_SHORT\",\"MEAN_LONG\",\"MEAN_SHORT\",\"MAX_PIPS_LONG\",\"MIN_PIPS_LONG\",\"MEAN_PIPS_LONG\",\"MAX_PIPS_SHORT\",\"MIN_PIPS_SHORT\",\"MEAN_PIPS_SHORT\",  \"N_CLUSTERS\", \"PREDICTIVE_CLUSTERS\", \"RETURN\", \"MIN_PIPS\", \"N_TRADE\", \"WIN_RATE\", \"MAX_DRAWDOWN\", \"SHARPE\", \"PATH\", \"BENCHMARK_RETURN\"]\n",
        "data_fra_no_spread.columns = columns\n",
        "data_fra_no_spread.to_csv('/content/gdrive/MyDrive/Data /no_spread_curve.csv', index=False)"
      ]
    },
    {
      "cell_type": "code",
      "execution_count": null,
      "metadata": {
        "colab": {
          "base_uri": "https://localhost:8080/",
          "height": 448
        },
        "id": "aPnaJj6mIFzZ",
        "outputId": "fba23c12-ef0d-441a-c9e6-788c2713a7b9"
      },
      "outputs": [
        {
          "output_type": "execute_result",
          "data": {
            "text/plain": [
              "<matplotlib.collections.PathCollection at 0x7fe9f96b4310>"
            ]
          },
          "metadata": {},
          "execution_count": 8
        },
        {
          "output_type": "display_data",
          "data": {
            "text/plain": [
              "<Figure size 640x480 with 1 Axes>"
            ],
            "image/png": "[encoded data removed]"
          },
          "metadata": {}
        }
      ],
      "source": [
        "import plotly.express as px\n",
        "import plotly.graph_objects as go\n",
        "import pandas as pd\n",
        "import matplotlib.pyplot as plt \n",
        "\n",
        "data_spread_fra = pd.read_csv('/content/gdrive/MyDrive/Data /no_spread_curve.csv')\n",
        "\n",
        "# fig = go.Figure()\n",
        "\n",
        "# fig.add_scatter(go.Scatter(x=data_spread_fra[\"SPREAD\"],\n",
        "#                             y=data_spread_fra[\"MEAN_LONG\"],\n",
        "#                             name=\"Long\"))\n",
        "\n",
        "# fig.add_trace(go.Scatter(x=data_spread_fra[\"SPREAD\"],\n",
        "#                             y=data_spread_fra[\"MEAN_SHORT\"],\n",
        "#                             name=\"Short\"))\n",
        "\n",
        "\n",
        "# fig.update_layout(\n",
        "#     title=\"Dependence of average equity change on spread\",\n",
        "#     xaxis_title=\"Spread\",\n",
        "#     yaxis_title=\"Averaged mean PnL\")\n",
        "\n",
        "# fig.show()\n",
        "\n",
        "plt.scatter(data_spread_fra[\"SPREAD\"], data_spread_fra[\"SUM_LONG\"])\n",
        "plt.scatter(data_spread_fra[\"SPREAD\"], -data_spread_fra[\"SUM_SHORT\"])"
      ]
    },
    {
      "cell_type": "code",
      "execution_count": null,
      "metadata": {
        "colab": {
          "base_uri": "https://localhost:8080/"
        },
        "id": "jUHBamXXLBdR",
        "outputId": "d6abb89d-84a2-4fbd-c3f8-4ccb0e39aa51"
      },
      "outputs": [
        {
          "data": {
            "text/plain": [
              "0   -1511.749927\n",
              "1   -5297.622979\n",
              "2   -5313.930915\n",
              "3   -5742.514218\n",
              "4   -6672.391827\n",
              "Name: SUM_SHORT, dtype: float64"
            ]
          },
          "execution_count": 26,
          "metadata": {},
          "output_type": "execute_result"
        }
      ],
      "source": [
        "data_spread_fra[\"SUM_SHORT\"]"
      ]
    },
    {
      "cell_type": "markdown",
      "metadata": {
        "id": "fg2IN2ZAKb2o"
      },
      "source": [
        "Посмотреть на формулу расчета PIP. понять абсолютное значение там или нет. "
      ]
    },
    {
      "cell_type": "code",
      "execution_count": null,
      "metadata": {
        "colab": {
          "base_uri": "https://localhost:8080/",
          "height": 448
        },
        "id": "GrR9UBpWKMbA",
        "outputId": "5aec9aaa-1035-4c28-e41c-9d9f87795967"
      },
      "outputs": [
        {
          "data": {
            "text/plain": [
              "<matplotlib.collections.PathCollection at 0x7f39a7341d30>"
            ]
          },
          "execution_count": 21,
          "metadata": {},
          "output_type": "execute_result"
        },
        {
          "data": {
            "image/png": "[encoded data removed]",
            "text/plain": [
              "<Figure size 640x480 with 1 Axes>"
            ]
          },
          "metadata": {},
          "output_type": "display_data"
        }
      ],
      "source": [
        "plt.scatter(data_spread_fra[\"SPREAD\"], data_spread_fra[\"MEAN_PIPS_LONG\"])\n",
        "plt.scatter(data_spread_fra[\"SPREAD\"], data_spread_fra[\"MEAN_PIPS_SHORT\"])"
      ]
    },
    {
      "cell_type": "markdown",
      "metadata": {
        "id": "FA70Qz7fFZKz"
      },
      "source": [
        "No spread data accumulation:"
      ]
    },
    {
      "cell_type": "code",
      "execution_count": null,
      "metadata": {
        "id": "hUrSXO_MC8Lb"
      },
      "outputs": [],
      "source": [
        "for n_clust, t in zip([100], [1]):                         \n",
        "  print(f\"--------{n_clust}------------\")\n",
        "  for i in range(t):                \n",
        "    print(f\"---------computing {i} time--------\")                  \n",
        "    %run main.py --index_type NONFOREX --index FRA40 --nb_clusters {n_clust}"
      ]
    },
    {
      "cell_type": "markdown",
      "source": [
        "######No spread on train"
      ],
      "metadata": {
        "id": "a-dx7ZYP05E2"
      }
    },
    {
      "cell_type": "code",
      "source": [
        "for i in range(4):                \n",
        "    print(f\"---------computing {i} time--------\")                             \n",
        "    %run main.py --index_type NONFOREX --index FRA40 --nb_clusters {500} --spread 0"
      ],
      "metadata": {
        "colab": {
          "base_uri": "https://localhost:8080/"
        },
        "id": "PR1BSmUX09Vh",
        "outputId": "16d994b5-defa-4d26-b4f9-dde8fce4a5de"
      },
      "execution_count": null,
      "outputs": [
        {
          "output_type": "stream",
          "name": "stdout",
          "text": [
            "---------computing 0 time--------\n",
            "#################PREPOCESSING DATA...#####################\n",
            "643/643 [==============================] - 1s 2ms/step\n",
            "#################PREPOCESSING DONE#####################\n",
            "#################BUILDING THE CLASSIFIER...#####################\n"
          ]
        },
        {
          "output_type": "stream",
          "name": "stderr",
          "text": [
            "/usr/local/lib/python3.9/dist-packages/sklearn/cluster/_kmeans.py:870: FutureWarning: The default value of `n_init` will change from 10 to 'auto' in 1.4. Set the value of `n_init` explicitly to suppress the warning\n",
            "  warnings.warn(\n",
            "/usr/local/lib/python3.9/dist-packages/sklearn/cluster/_kmeans.py:870: FutureWarning: The default value of `n_init` will change from 10 to 'auto' in 1.4. Set the value of `n_init` explicitly to suppress the warning\n",
            "  warnings.warn(\n",
            "/usr/local/lib/python3.9/dist-packages/sklearn/cluster/_kmeans.py:870: FutureWarning: The default value of `n_init` will change from 10 to 'auto' in 1.4. Set the value of `n_init` explicitly to suppress the warning\n",
            "  warnings.warn(\n",
            "/usr/local/lib/python3.9/dist-packages/sklearn/cluster/_kmeans.py:870: FutureWarning: The default value of `n_init` will change from 10 to 'auto' in 1.4. Set the value of `n_init` explicitly to suppress the warning\n",
            "  warnings.warn(\n",
            "/usr/local/lib/python3.9/dist-packages/sklearn/cluster/_kmeans.py:870: FutureWarning: The default value of `n_init` will change from 10 to 'auto' in 1.4. Set the value of `n_init` explicitly to suppress the warning\n",
            "  warnings.warn(\n",
            "/usr/local/lib/python3.9/dist-packages/sklearn/cluster/_kmeans.py:870: FutureWarning: The default value of `n_init` will change from 10 to 'auto' in 1.4. Set the value of `n_init` explicitly to suppress the warning\n",
            "  warnings.warn(\n"
          ]
        },
        {
          "output_type": "stream",
          "name": "stdout",
          "text": [
            "#################CLASSIFIER IS READY#####################\n",
            "#################FILTERING CLUSTERS...#####################\n",
            "#################FILTERATION DONE#####################\n",
            "#################RUNNING BACKTEST...#####################\n",
            "643/643 [==============================] - 1s 2ms/step\n",
            "POSITIVE PIPS:  151\n",
            "NEGATIVE PIPS:  169\n",
            "TOTAL:  320\n",
            "---------computing 1 time--------\n",
            "#################PREPOCESSING DATA...#####################\n",
            "643/643 [==============================] - 1s 2ms/step\n",
            "#################PREPOCESSING DONE#####################\n",
            "#################BUILDING THE CLASSIFIER...#####################\n"
          ]
        },
        {
          "output_type": "stream",
          "name": "stderr",
          "text": [
            "/usr/local/lib/python3.9/dist-packages/sklearn/cluster/_kmeans.py:870: FutureWarning: The default value of `n_init` will change from 10 to 'auto' in 1.4. Set the value of `n_init` explicitly to suppress the warning\n",
            "  warnings.warn(\n",
            "/usr/local/lib/python3.9/dist-packages/sklearn/cluster/_kmeans.py:870: FutureWarning: The default value of `n_init` will change from 10 to 'auto' in 1.4. Set the value of `n_init` explicitly to suppress the warning\n",
            "  warnings.warn(\n",
            "/usr/local/lib/python3.9/dist-packages/sklearn/cluster/_kmeans.py:870: FutureWarning: The default value of `n_init` will change from 10 to 'auto' in 1.4. Set the value of `n_init` explicitly to suppress the warning\n",
            "  warnings.warn(\n",
            "/usr/local/lib/python3.9/dist-packages/sklearn/cluster/_kmeans.py:870: FutureWarning: The default value of `n_init` will change from 10 to 'auto' in 1.4. Set the value of `n_init` explicitly to suppress the warning\n",
            "  warnings.warn(\n",
            "/usr/local/lib/python3.9/dist-packages/sklearn/cluster/_kmeans.py:870: FutureWarning: The default value of `n_init` will change from 10 to 'auto' in 1.4. Set the value of `n_init` explicitly to suppress the warning\n",
            "  warnings.warn(\n",
            "/usr/local/lib/python3.9/dist-packages/sklearn/cluster/_kmeans.py:870: FutureWarning: The default value of `n_init` will change from 10 to 'auto' in 1.4. Set the value of `n_init` explicitly to suppress the warning\n",
            "  warnings.warn(\n"
          ]
        },
        {
          "output_type": "stream",
          "name": "stdout",
          "text": [
            "#################CLASSIFIER IS READY#####################\n",
            "#################FILTERING CLUSTERS...#####################\n",
            "#################FILTERATION DONE#####################\n",
            "#################RUNNING BACKTEST...#####################\n",
            "643/643 [==============================] - 1s 2ms/step\n",
            "POSITIVE PIPS:  165\n",
            "NEGATIVE PIPS:  183\n",
            "TOTAL:  348\n",
            "---------computing 2 time--------\n",
            "#################PREPOCESSING DATA...#####################\n",
            "643/643 [==============================] - 1s 2ms/step\n",
            "#################PREPOCESSING DONE#####################\n",
            "#################BUILDING THE CLASSIFIER...#####################\n"
          ]
        },
        {
          "output_type": "stream",
          "name": "stderr",
          "text": [
            "/usr/local/lib/python3.9/dist-packages/sklearn/cluster/_kmeans.py:870: FutureWarning: The default value of `n_init` will change from 10 to 'auto' in 1.4. Set the value of `n_init` explicitly to suppress the warning\n",
            "  warnings.warn(\n",
            "/usr/local/lib/python3.9/dist-packages/sklearn/cluster/_kmeans.py:870: FutureWarning: The default value of `n_init` will change from 10 to 'auto' in 1.4. Set the value of `n_init` explicitly to suppress the warning\n",
            "  warnings.warn(\n",
            "/usr/local/lib/python3.9/dist-packages/sklearn/cluster/_kmeans.py:870: FutureWarning: The default value of `n_init` will change from 10 to 'auto' in 1.4. Set the value of `n_init` explicitly to suppress the warning\n",
            "  warnings.warn(\n",
            "/usr/local/lib/python3.9/dist-packages/sklearn/cluster/_kmeans.py:870: FutureWarning: The default value of `n_init` will change from 10 to 'auto' in 1.4. Set the value of `n_init` explicitly to suppress the warning\n",
            "  warnings.warn(\n",
            "/usr/local/lib/python3.9/dist-packages/sklearn/cluster/_kmeans.py:870: FutureWarning: The default value of `n_init` will change from 10 to 'auto' in 1.4. Set the value of `n_init` explicitly to suppress the warning\n",
            "  warnings.warn(\n",
            "/usr/local/lib/python3.9/dist-packages/sklearn/cluster/_kmeans.py:870: FutureWarning: The default value of `n_init` will change from 10 to 'auto' in 1.4. Set the value of `n_init` explicitly to suppress the warning\n",
            "  warnings.warn(\n"
          ]
        },
        {
          "output_type": "stream",
          "name": "stdout",
          "text": [
            "#################CLASSIFIER IS READY#####################\n",
            "#################FILTERING CLUSTERS...#####################\n",
            "#################FILTERATION DONE#####################\n",
            "#################RUNNING BACKTEST...#####################\n",
            "643/643 [==============================] - 1s 2ms/step\n",
            "POSITIVE PIPS:  144\n",
            "NEGATIVE PIPS:  151\n",
            "TOTAL:  295\n",
            "---------computing 3 time--------\n",
            "#################PREPOCESSING DATA...#####################\n",
            "643/643 [==============================] - 2s 2ms/step\n",
            "#################PREPOCESSING DONE#####################\n",
            "#################BUILDING THE CLASSIFIER...#####################\n"
          ]
        },
        {
          "output_type": "stream",
          "name": "stderr",
          "text": [
            "/usr/local/lib/python3.9/dist-packages/sklearn/cluster/_kmeans.py:870: FutureWarning: The default value of `n_init` will change from 10 to 'auto' in 1.4. Set the value of `n_init` explicitly to suppress the warning\n",
            "  warnings.warn(\n",
            "/usr/local/lib/python3.9/dist-packages/sklearn/cluster/_kmeans.py:870: FutureWarning: The default value of `n_init` will change from 10 to 'auto' in 1.4. Set the value of `n_init` explicitly to suppress the warning\n",
            "  warnings.warn(\n",
            "/usr/local/lib/python3.9/dist-packages/sklearn/cluster/_kmeans.py:870: FutureWarning: The default value of `n_init` will change from 10 to 'auto' in 1.4. Set the value of `n_init` explicitly to suppress the warning\n",
            "  warnings.warn(\n",
            "/usr/local/lib/python3.9/dist-packages/sklearn/cluster/_kmeans.py:870: FutureWarning: The default value of `n_init` will change from 10 to 'auto' in 1.4. Set the value of `n_init` explicitly to suppress the warning\n",
            "  warnings.warn(\n",
            "/usr/local/lib/python3.9/dist-packages/sklearn/cluster/_kmeans.py:870: FutureWarning: The default value of `n_init` will change from 10 to 'auto' in 1.4. Set the value of `n_init` explicitly to suppress the warning\n",
            "  warnings.warn(\n",
            "/usr/local/lib/python3.9/dist-packages/sklearn/cluster/_kmeans.py:870: FutureWarning: The default value of `n_init` will change from 10 to 'auto' in 1.4. Set the value of `n_init` explicitly to suppress the warning\n",
            "  warnings.warn(\n"
          ]
        },
        {
          "output_type": "stream",
          "name": "stdout",
          "text": [
            "#################CLASSIFIER IS READY#####################\n",
            "#################FILTERING CLUSTERS...#####################\n",
            "#################FILTERATION DONE#####################\n",
            "#################RUNNING BACKTEST...#####################\n",
            "643/643 [==============================] - 2s 2ms/step\n",
            "POSITIVE PIPS:  149\n",
            "NEGATIVE PIPS:  156\n",
            "TOTAL:  305\n"
          ]
        }
      ]
    },
    {
      "cell_type": "markdown",
      "metadata": {
        "id": "yi4Ns1ibtS-C"
      },
      "source": [
        "## Simple stats accumulation part"
      ]
    },
    {
      "cell_type": "code",
      "execution_count": null,
      "metadata": {
        "id": "VqbrkTO6hjoq"
      },
      "outputs": [],
      "source": [
        "import pandas as pd \n",
        "\n",
        "data_fra = pd.read_csv('/content/gdrive/MyDrive/Data /FRA40_New_PNL.csv', header=None)\n",
        "\n",
        "columns = [\"SYMBOL\", \"START_DATE\", \"END_DATE\", \"DATES\", \"SPREAD\", \"N_CLUSTERS\", \"PREDICTIVE_CLUSTERS\", \"RETURN\", \"MIN_PIPS\", \"N_TRADE\", \"WIN_RATE\", \"MAX_DRAWDOWN\", \"SHARPE\", \"PATH\", \"BENCHMARK_RETURN\"]\n",
        "data_fra.columns = columns\n",
        "data_fra.to_csv('/content/gdrive/MyDrive/Data /FRA40_New_PNL.csv', index=False)"
      ]
    },
    {
      "cell_type": "code",
      "execution_count": null,
      "metadata": {
        "id": "wnzvrGmGnLr2"
      },
      "outputs": [],
      "source": [
        "data_fra = pd.read_csv('/content/gdrive/MyDrive/Data /FRA40_New_PNL.csv', header=None)\n",
        "times = 5 - data_fra.groupby([\"N_CLUSTERS\"]).size()\n",
        "times"
      ]
    },
    {
      "cell_type": "code",
      "execution_count": null,
      "metadata": {
        "id": "gOKt4GQwiqtd"
      },
      "outputs": [],
      "source": [
        "for n_clust, t in zip([100], [1]):                         \n",
        "  print(f\"--------{n_clust}------------\")\n",
        "  for i in range(t):                \n",
        "    print(f\"---------computing {i} time--------\")                  \n",
        "    %run main.py --index_type NONFOREX --index FRA40 --nb_clusters {n_clust} "
      ]
    },
    {
      "cell_type": "code",
      "execution_count": null,
      "metadata": {
        "id": "moGpxRVbWU9i"
      },
      "outputs": [],
      "source": [
        "import pandas as pd             \n",
        "             \n",
        "df1 = pd.read_csv('/content/gdrive/MyDrive/Data /FRA40_500_700.csv', header=None)\n",
        "df2 = pd.read_csv('/content/PSC-Pattern-Classification/data_analysis/FRA40.csv', header=None)\n",
        "df3 = pd.read_csv('/content/PSC-Pattern-Classification/data_analysis/FRA40_200.csv', header=None)\n",
        "df4 = pd.read_csv('/content/PSC-Pattern-Classification/data_analysis/FRA40_500.csv', header=None)\n",
        "df5 = pd.read_csv('/content/PSC-Pattern-Classification/data_analysis/FRA40_nb_cl.csv', header=None)\n",
        "df6 = pd.read_csv('/content/FRA40_400_500_700-4.csv', header=None)\n",
        "frames = [df1, df2, df3, df4, df5, df6]\n",
        "result = pd.concat(frames)\n",
        "\n",
        "columns = [\"SYMBOL\", \"START_DATE\", \"END_DATE\", \"DATES\", \"SPREAD\", \"N_CLUSTERS\", \"PREDICTIVE_CLUSTERS\", \"RETURN\", \"MIN_PIPS\", \"N_TRADE\", \"WIN_RATE\", \"MAX_DRAWDOWN\", \"SHARPE\", \"PATH\", \"BENCHMARK_RETURN\"]\n",
        "result.columns = columns\n",
        "\n",
        "result.to_csv('/content/gdrive/MyDrive/Data /FRA40_result.csv', index=False)"
      ]
    },
    {
      "cell_type": "markdown",
      "metadata": {
        "id": "yMUfh8qGuWBq"
      },
      "source": [
        "## Generalization check "
      ]
    },
    {
      "cell_type": "code",
      "execution_count": null,
      "metadata": {
        "id": "dPHbBSyDFTZn"
      },
      "outputs": [],
      "source": [
        "import sqlite3\n",
        "import pandas as pd\n",
        "\n",
        "connection = sqlite3.connect('/content/PSC-Pattern-Classification/marketdata.db')\n",
        "query = f\"\"\"SELECT * FROM FRA40\"\"\"\n",
        "df = pd.read_sql(query, connection)\n",
        "connection.close()"
      ]
    },
    {
      "cell_type": "code",
      "execution_count": null,
      "metadata": {
        "colab": {
          "base_uri": "https://localhost:8080/"
        },
        "id": "zGINctVTGKvy",
        "outputId": "4a973506-ea3d-4360-8b24-a0bc17aacf47"
      },
      "outputs": [
        {
          "data": {
            "text/plain": [
              "Index(['date', 'open', 'high', 'low', 'close', 'volume'], dtype='object')"
            ]
          },
          "execution_count": 11,
          "metadata": {},
          "output_type": "execute_result"
        }
      ],
      "source": [
        "df.columns"
      ]
    },
    {
      "cell_type": "code",
      "execution_count": null,
      "metadata": {
        "colab": {
          "base_uri": "https://localhost:8080/"
        },
        "id": "P_rEQAtTGRSb",
        "outputId": "73bfecc0-5817-4ad0-80b7-3f9c2a8e709d"
      },
      "outputs": [
        {
          "data": {
            "text/plain": [
              "0         2010-01-04 07:00:00\n",
              "1         2010-01-04 07:05:00\n",
              "2         2010-01-04 07:10:00\n",
              "3         2010-01-04 07:15:00\n",
              "4         2010-01-04 07:20:00\n",
              "                 ...         \n",
              "485463    2021-07-19 19:35:00\n",
              "485464    2021-07-19 19:40:00\n",
              "485465    2021-07-19 19:45:00\n",
              "485466    2021-07-19 19:50:00\n",
              "485467    2021-07-19 19:55:00\n",
              "Name: date, Length: 485468, dtype: object"
            ]
          },
          "execution_count": 12,
          "metadata": {},
          "output_type": "execute_result"
        }
      ],
      "source": [
        "df['date']"
      ]
    },
    {
      "cell_type": "code",
      "execution_count": null,
      "metadata": {
        "id": "DvRfh6DxusDH"
      },
      "outputs": [],
      "source": [
        "for n_clust, t in zip([1800, 2000], [0, 3]):                         \n",
        "  print(f\"--------{n_clust}------------\")\n",
        "  i = 0\n",
        "  while i < t:                \n",
        "    print(f\"---------computing {i} time--------\")                  \n",
        "    %run main.py --index_type NONFOREX --index FRA40 --nb_clusters {n_clust} \n",
        "\n",
        "    with open('/content/PSC-Pattern-Classification/gen_chek_bool.txt', 'r') as f:\n",
        "        if f.read() == 'True': \n",
        "          i += 1"
      ]
    },
    {
      "cell_type": "code",
      "execution_count": null,
      "metadata": {
        "id": "umpKzJ2N4KUq"
      },
      "outputs": [],
      "source": [
        "import pandas as pd \n",
        "\n",
        "df = pd.read_csv('/content/gdrive/MyDrive/Data /FRA40_Gen_check.csv', header=None)\n",
        "\n",
        "columns = [\"N_CLUSTERS\", \"Test_start\", \"Test_mid\", \"Test_end\", \"First_Return\", \"Second_Return\"]\n",
        "df.columns = columns\n",
        "\n",
        "df.to_csv('/content/gdrive/MyDrive/Data /FRA40_Gen_check.csv', index=False)"
      ]
    },
    {
      "cell_type": "code",
      "execution_count": null,
      "metadata": {
        "id": "QSUqInSyw1Hm"
      },
      "outputs": [],
      "source": [
        "import pandas as pd\n",
        "import numpy as np\n",
        "import plotly.express as px\n",
        "import plotly.graph_objects as go\n",
        "\n",
        "gen_data = pd.read_csv('/content/gdrive/MyDrive/Data /FRA40_Gen_check.csv')"
      ]
    },
    {
      "cell_type": "code",
      "execution_count": null,
      "metadata": {
        "colab": {
          "base_uri": "https://localhost:8080/",
          "height": 827
        },
        "id": "mOd-oNmfu5Fn",
        "outputId": "49fd847f-e74b-4605-83cc-7d254ca81192"
      },
      "outputs": [
        {
          "name": "stdout",
          "output_type": "stream",
          "text": [
            "N_CLUSTERS\n",
            "10      11.529883\n",
            "25       0.674048\n",
            "50       3.152198\n",
            "100      0.634260\n",
            "300     -0.109385\n",
            "500     -0.224156\n",
            "600      4.180461\n",
            "1000    -1.226901\n",
            "1200     8.550261\n",
            "1500    -3.504606\n",
            "1600    -3.046799\n",
            "1800    -1.869267\n",
            "2000    -2.842868\n",
            "Name: Difference, dtype: float64\n"
          ]
        },
        {
          "data": {
            "text/html": [
              "<html>\n",
              "<head><meta charset=\"utf-8\" /></head>\n",
              "<body>\n",
              "    <div>            <script src=\"https://cdnjs.cloudflare.com/ajax/libs/mathjax/2.7.5/MathJax.js?config=TeX-AMS-MML_SVG\"></script><script type=\"text/javascript\">if (window.MathJax) {MathJax.Hub.Config({SVG: {font: \"STIX-Web\"}});}</script>                <script type=\"text/javascript\">window.PlotlyConfig = {MathJaxConfig: 'local'};</script>\n",
              "        <script src=\"https://cdn.plot.ly/plotly-2.8.3.min.js\"></script>                <div id=\"2239b296-6ee7-4104-88ba-23a30e5dfe6d\" class=\"plotly-graph-div\" style=\"height:525px; width:100%;\"></div>            <script type=\"text/javascript\">                                    window.PLOTLYENV=window.PLOTLYENV || {};                                    if (document.getElementById(\"2239b296-6ee7-4104-88ba-23a30e5dfe6d\")) {                    Plotly.newPlot(                        \"2239b296-6ee7-4104-88ba-23a30e5dfe6d\",                        [{\"hovertemplate\":\"x=%{x}<br>y=%{y}<br>color=%{marker.color}<extra></extra>\",\"legendgroup\":\"\",\"marker\":{\"color\":[14.823058104423058,3.1614233936372083,7.4553060192213305,5.333129248160029,2.9398780045998496,1.1530723182287854,6.970593435486561,0.8013162961856284,13.228481126836812,7.463993249191887,7.980333418047788,7.887235711974604,11.977849893394794],\"coloraxis\":\"coloraxis\",\"symbol\":\"circle\"},\"mode\":\"markers\",\"name\":\"\",\"orientation\":\"v\",\"showlegend\":false,\"x\":[10,100,500,1500,25,50,300,600,1000,1200,1600,1800,2000],\"xaxis\":\"x\",\"y\":[11.529882808798282,0.674048472532196,3.1521976725426377,0.6342598129407601,-0.10938500626354042,-0.22415634228156123,4.180460599195853,-1.226900671065167,8.550260746604588,-3.504605589158418,-3.0467985655824763,-1.8692673971577964,-2.842867936303875],\"yaxis\":\"y\",\"type\":\"scatter\"}],                        {\"template\":{\"data\":{\"bar\":[{\"error_x\":{\"color\":\"#2a3f5f\"},\"error_y\":{\"color\":\"#2a3f5f\"},\"marker\":{\"line\":{\"color\":\"#E5ECF6\",\"width\":0.5},\"pattern\":{\"fillmode\":\"overlay\",\"size\":10,\"solidity\":0.2}},\"type\":\"bar\"}],\"barpolar\":[{\"marker\":{\"line\":{\"color\":\"#E5ECF6\",\"width\":0.5},\"pattern\":{\"fillmode\":\"overlay\",\"size\":10,\"solidity\":0.2}},\"type\":\"barpolar\"}],\"carpet\":[{\"aaxis\":{\"endlinecolor\":\"#2a3f5f\",\"gridcolor\":\"white\",\"linecolor\":\"white\",\"minorgridcolor\":\"white\",\"startlinecolor\":\"#2a3f5f\"},\"baxis\":{\"endlinecolor\":\"#2a3f5f\",\"gridcolor\":\"white\",\"linecolor\":\"white\",\"minorgridcolor\":\"white\",\"startlinecolor\":\"#2a3f5f\"},\"type\":\"carpet\"}],\"choropleth\":[{\"colorbar\":{\"outlinewidth\":0,\"ticks\":\"\"},\"type\":\"choropleth\"}],\"contour\":[{\"colorbar\":{\"outlinewidth\":0,\"ticks\":\"\"},\"colorscale\":[[0.0,\"#0d0887\"],[0.1111111111111111,\"#46039f\"],[0.2222222222222222,\"#7201a8\"],[0.3333333333333333,\"#9c179e\"],[0.4444444444444444,\"#bd3786\"],[0.5555555555555556,\"#d8576b\"],[0.6666666666666666,\"#ed7953\"],[0.7777777777777778,\"#fb9f3a\"],[0.8888888888888888,\"#fdca26\"],[1.0,\"#f0f921\"]],\"type\":\"contour\"}],\"contourcarpet\":[{\"colorbar\":{\"outlinewidth\":0,\"ticks\":\"\"},\"type\":\"contourcarpet\"}],\"heatmap\":[{\"colorbar\":{\"outlinewidth\":0,\"ticks\":\"\"},\"colorscale\":[[0.0,\"#0d0887\"],[0.1111111111111111,\"#46039f\"],[0.2222222222222222,\"#7201a8\"],[0.3333333333333333,\"#9c179e\"],[0.4444444444444444,\"#bd3786\"],[0.5555555555555556,\"#d8576b\"],[0.6666666666666666,\"#ed7953\"],[0.7777777777777778,\"#fb9f3a\"],[0.8888888888888888,\"#fdca26\"],[1.0,\"#f0f921\"]],\"type\":\"heatmap\"}],\"heatmapgl\":[{\"colorbar\":{\"outlinewidth\":0,\"ticks\":\"\"},\"colorscale\":[[0.0,\"#0d0887\"],[0.1111111111111111,\"#46039f\"],[0.2222222222222222,\"#7201a8\"],[0.3333333333333333,\"#9c179e\"],[0.4444444444444444,\"#bd3786\"],[0.5555555555555556,\"#d8576b\"],[0.6666666666666666,\"#ed7953\"],[0.7777777777777778,\"#fb9f3a\"],[0.8888888888888888,\"#fdca26\"],[1.0,\"#f0f921\"]],\"type\":\"heatmapgl\"}],\"histogram\":[{\"marker\":{\"pattern\":{\"fillmode\":\"overlay\",\"size\":10,\"solidity\":0.2}},\"type\":\"histogram\"}],\"histogram2d\":[{\"colorbar\":{\"outlinewidth\":0,\"ticks\":\"\"},\"colorscale\":[[0.0,\"#0d0887\"],[0.1111111111111111,\"#46039f\"],[0.2222222222222222,\"#7201a8\"],[0.3333333333333333,\"#9c179e\"],[0.4444444444444444,\"#bd3786\"],[0.5555555555555556,\"#d8576b\"],[0.6666666666666666,\"#ed7953\"],[0.7777777777777778,\"#fb9f3a\"],[0.8888888888888888,\"#fdca26\"],[1.0,\"#f0f921\"]],\"type\":\"histogram2d\"}],\"histogram2dcontour\":[{\"colorbar\":{\"outlinewidth\":0,\"ticks\":\"\"},\"colorscale\":[[0.0,\"#0d0887\"],[0.1111111111111111,\"#46039f\"],[0.2222222222222222,\"#7201a8\"],[0.3333333333333333,\"#9c179e\"],[0.4444444444444444,\"#bd3786\"],[0.5555555555555556,\"#d8576b\"],[0.6666666666666666,\"#ed7953\"],[0.7777777777777778,\"#fb9f3a\"],[0.8888888888888888,\"#fdca26\"],[1.0,\"#f0f921\"]],\"type\":\"histogram2dcontour\"}],\"mesh3d\":[{\"colorbar\":{\"outlinewidth\":0,\"ticks\":\"\"},\"type\":\"mesh3d\"}],\"parcoords\":[{\"line\":{\"colorbar\":{\"outlinewidth\":0,\"ticks\":\"\"}},\"type\":\"parcoords\"}],\"pie\":[{\"automargin\":true,\"type\":\"pie\"}],\"scatter\":[{\"marker\":{\"colorbar\":{\"outlinewidth\":0,\"ticks\":\"\"}},\"type\":\"scatter\"}],\"scatter3d\":[{\"line\":{\"colorbar\":{\"outlinewidth\":0,\"ticks\":\"\"}},\"marker\":{\"colorbar\":{\"outlinewidth\":0,\"ticks\":\"\"}},\"type\":\"scatter3d\"}],\"scattercarpet\":[{\"marker\":{\"colorbar\":{\"outlinewidth\":0,\"ticks\":\"\"}},\"type\":\"scattercarpet\"}],\"scattergeo\":[{\"marker\":{\"colorbar\":{\"outlinewidth\":0,\"ticks\":\"\"}},\"type\":\"scattergeo\"}],\"scattergl\":[{\"marker\":{\"colorbar\":{\"outlinewidth\":0,\"ticks\":\"\"}},\"type\":\"scattergl\"}],\"scattermapbox\":[{\"marker\":{\"colorbar\":{\"outlinewidth\":0,\"ticks\":\"\"}},\"type\":\"scattermapbox\"}],\"scatterpolar\":[{\"marker\":{\"colorbar\":{\"outlinewidth\":0,\"ticks\":\"\"}},\"type\":\"scatterpolar\"}],\"scatterpolargl\":[{\"marker\":{\"colorbar\":{\"outlinewidth\":0,\"ticks\":\"\"}},\"type\":\"scatterpolargl\"}],\"scatterternary\":[{\"marker\":{\"colorbar\":{\"outlinewidth\":0,\"ticks\":\"\"}},\"type\":\"scatterternary\"}],\"surface\":[{\"colorbar\":{\"outlinewidth\":0,\"ticks\":\"\"},\"colorscale\":[[0.0,\"#0d0887\"],[0.1111111111111111,\"#46039f\"],[0.2222222222222222,\"#7201a8\"],[0.3333333333333333,\"#9c179e\"],[0.4444444444444444,\"#bd3786\"],[0.5555555555555556,\"#d8576b\"],[0.6666666666666666,\"#ed7953\"],[0.7777777777777778,\"#fb9f3a\"],[0.8888888888888888,\"#fdca26\"],[1.0,\"#f0f921\"]],\"type\":\"surface\"}],\"table\":[{\"cells\":{\"fill\":{\"color\":\"#EBF0F8\"},\"line\":{\"color\":\"white\"}},\"header\":{\"fill\":{\"color\":\"#C8D4E3\"},\"line\":{\"color\":\"white\"}},\"type\":\"table\"}]},\"layout\":{\"annotationdefaults\":{\"arrowcolor\":\"#2a3f5f\",\"arrowhead\":0,\"arrowwidth\":1},\"autotypenumbers\":\"strict\",\"coloraxis\":{\"colorbar\":{\"outlinewidth\":0,\"ticks\":\"\"}},\"colorscale\":{\"diverging\":[[0,\"#8e0152\"],[0.1,\"#c51b7d\"],[0.2,\"#de77ae\"],[0.3,\"#f1b6da\"],[0.4,\"#fde0ef\"],[0.5,\"#f7f7f7\"],[0.6,\"#e6f5d0\"],[0.7,\"#b8e186\"],[0.8,\"#7fbc41\"],[0.9,\"#4d9221\"],[1,\"#276419\"]],\"sequential\":[[0.0,\"#0d0887\"],[0.1111111111111111,\"#46039f\"],[0.2222222222222222,\"#7201a8\"],[0.3333333333333333,\"#9c179e\"],[0.4444444444444444,\"#bd3786\"],[0.5555555555555556,\"#d8576b\"],[0.6666666666666666,\"#ed7953\"],[0.7777777777777778,\"#fb9f3a\"],[0.8888888888888888,\"#fdca26\"],[1.0,\"#f0f921\"]],\"sequentialminus\":[[0.0,\"#0d0887\"],[0.1111111111111111,\"#46039f\"],[0.2222222222222222,\"#7201a8\"],[0.3333333333333333,\"#9c179e\"],[0.4444444444444444,\"#bd3786\"],[0.5555555555555556,\"#d8576b\"],[0.6666666666666666,\"#ed7953\"],[0.7777777777777778,\"#fb9f3a\"],[0.8888888888888888,\"#fdca26\"],[1.0,\"#f0f921\"]]},\"colorway\":[\"#636efa\",\"#EF553B\",\"#00cc96\",\"#ab63fa\",\"#FFA15A\",\"#19d3f3\",\"#FF6692\",\"#B6E880\",\"#FF97FF\",\"#FECB52\"],\"font\":{\"color\":\"#2a3f5f\"},\"geo\":{\"bgcolor\":\"white\",\"lakecolor\":\"white\",\"landcolor\":\"#E5ECF6\",\"showlakes\":true,\"showland\":true,\"subunitcolor\":\"white\"},\"hoverlabel\":{\"align\":\"left\"},\"hovermode\":\"closest\",\"mapbox\":{\"style\":\"light\"},\"paper_bgcolor\":\"white\",\"plot_bgcolor\":\"#E5ECF6\",\"polar\":{\"angularaxis\":{\"gridcolor\":\"white\",\"linecolor\":\"white\",\"ticks\":\"\"},\"bgcolor\":\"#E5ECF6\",\"radialaxis\":{\"gridcolor\":\"white\",\"linecolor\":\"white\",\"ticks\":\"\"}},\"scene\":{\"xaxis\":{\"backgroundcolor\":\"#E5ECF6\",\"gridcolor\":\"white\",\"gridwidth\":2,\"linecolor\":\"white\",\"showbackground\":true,\"ticks\":\"\",\"zerolinecolor\":\"white\"},\"yaxis\":{\"backgroundcolor\":\"#E5ECF6\",\"gridcolor\":\"white\",\"gridwidth\":2,\"linecolor\":\"white\",\"showbackground\":true,\"ticks\":\"\",\"zerolinecolor\":\"white\"},\"zaxis\":{\"backgroundcolor\":\"#E5ECF6\",\"gridcolor\":\"white\",\"gridwidth\":2,\"linecolor\":\"white\",\"showbackground\":true,\"ticks\":\"\",\"zerolinecolor\":\"white\"}},\"shapedefaults\":{\"line\":{\"color\":\"#2a3f5f\"}},\"ternary\":{\"aaxis\":{\"gridcolor\":\"white\",\"linecolor\":\"white\",\"ticks\":\"\"},\"baxis\":{\"gridcolor\":\"white\",\"linecolor\":\"white\",\"ticks\":\"\"},\"bgcolor\":\"#E5ECF6\",\"caxis\":{\"gridcolor\":\"white\",\"linecolor\":\"white\",\"ticks\":\"\"}},\"title\":{\"x\":0.05},\"xaxis\":{\"automargin\":true,\"gridcolor\":\"white\",\"linecolor\":\"white\",\"ticks\":\"\",\"title\":{\"standoff\":15},\"zerolinecolor\":\"white\",\"zerolinewidth\":2},\"yaxis\":{\"automargin\":true,\"gridcolor\":\"white\",\"linecolor\":\"white\",\"ticks\":\"\",\"title\":{\"standoff\":15},\"zerolinecolor\":\"white\",\"zerolinewidth\":2}}},\"xaxis\":{\"anchor\":\"y\",\"domain\":[0.0,1.0],\"title\":{\"text\":\"N_Clusters\"}},\"yaxis\":{\"anchor\":\"x\",\"domain\":[0.0,1.0],\"title\":{\"text\":\"Average return difference\"}},\"coloraxis\":{\"colorbar\":{\"title\":{\"text\":\"Max Diff\"}},\"colorscale\":[[0.0,\"#fcffa4\"],[0.1111111111111111,\"#f7d13d\"],[0.2222222222222222,\"#fb9b06\"],[0.3333333333333333,\"#ed6925\"],[0.4444444444444444,\"#cf4446\"],[0.5555555555555556,\"#a52c60\"],[0.6666666666666666,\"#781c6d\"],[0.7777777777777778,\"#4a0c6b\"],[0.8888888888888888,\"#1b0c41\"],[1.0,\"#000004\"]]},\"legend\":{\"tracegroupgap\":0},\"margin\":{\"t\":60},\"font\":{\"family\":\"Courier New, monospace\",\"size\":16,\"color\":\"RebeccaPurple\"},\"title\":{\"text\":\"Average return difference between the second and first runs for each number of clusters\"}},                        {\"responsive\": true}                    ).then(function(){\n",
              "                            \n",
              "var gd = document.getElementById('2239b296-6ee7-4104-88ba-23a30e5dfe6d');\n",
              "var x = new MutationObserver(function (mutations, observer) {{\n",
              "        var display = window.getComputedStyle(gd).display;\n",
              "        if (!display || display === 'none') {{\n",
              "            console.log([gd, 'removed!']);\n",
              "            Plotly.purge(gd);\n",
              "            observer.disconnect();\n",
              "        }}\n",
              "}});\n",
              "\n",
              "// Listen for the removal of the full notebook cells\n",
              "var notebookContainer = gd.closest('#notebook-container');\n",
              "if (notebookContainer) {{\n",
              "    x.observe(notebookContainer, {childList: true});\n",
              "}}\n",
              "\n",
              "// Listen for the clearing of the current output cell\n",
              "var outputEl = gd.closest('.output');\n",
              "if (outputEl) {{\n",
              "    x.observe(outputEl, {childList: true});\n",
              "}}\n",
              "\n",
              "                        })                };                            </script>        </div>\n",
              "</body>\n",
              "</html>"
            ]
          },
          "metadata": {},
          "output_type": "display_data"
        }
      ],
      "source": [
        "gen_data['Difference'] = gen_data['Second_Return'] - gen_data['First_Return']\n",
        "print(gen_data.groupby(['N_CLUSTERS'])['Difference'].mean())\n",
        "\n",
        "fig = px.scatter(gen_data, x=gen_data[\"N_CLUSTERS\"].unique(), y=gen_data.groupby(['N_CLUSTERS'])['Difference'].mean(), color=gen_data.groupby(['N_CLUSTERS'])['Difference'].max(), color_continuous_scale='Inferno_r')\n",
        "\n",
        "fig.update_layout(\n",
        "    title=\"Average return difference between the second and first runs for each number of clusters\",\n",
        "    xaxis_title=\"N_Clusters\",\n",
        "    yaxis_title=\"Average return difference\",\n",
        "    font=dict(\n",
        "        family=\"Courier New, monospace\",\n",
        "        size=16,\n",
        "        color=\"RebeccaPurple\"\n",
        "    ))\n",
        "fig.layout.coloraxis.colorbar.title = 'Max Diff'\n",
        "\n",
        "\n",
        "fig.show()"
      ]
    },
    {
      "cell_type": "code",
      "execution_count": null,
      "metadata": {
        "colab": {
          "base_uri": "https://localhost:8080/",
          "height": 563
        },
        "id": "TXC94g2Y6aoO",
        "outputId": "82e6ec63-7a4d-4358-af51-db5e8cf410a3"
      },
      "outputs": [
        {
          "data": {
            "text/html": [
              "<html>\n",
              "<head><meta charset=\"utf-8\" /></head>\n",
              "<body>\n",
              "    <div>            <script src=\"https://cdnjs.cloudflare.com/ajax/libs/mathjax/2.7.5/MathJax.js?config=TeX-AMS-MML_SVG\"></script><script type=\"text/javascript\">if (window.MathJax) {MathJax.Hub.Config({SVG: {font: \"STIX-Web\"}});}</script>                <script type=\"text/javascript\">window.PlotlyConfig = {MathJaxConfig: 'local'};</script>\n",
              "        <script src=\"https://cdn.plot.ly/plotly-2.8.3.min.js\"></script>                <div id=\"c4f73e3a-c623-4805-b2f0-be6d8780ef37\" class=\"plotly-graph-div\" style=\"height:525px; width:100%;\"></div>            <script type=\"text/javascript\">                                    window.PLOTLYENV=window.PLOTLYENV || {};                                    if (document.getElementById(\"c4f73e3a-c623-4805-b2f0-be6d8780ef37\")) {                    Plotly.newPlot(                        \"c4f73e3a-c623-4805-b2f0-be6d8780ef37\",                        [{\"hovertemplate\":\"N_CLUSTERS=%{x}<br>Difference=%{y}<extra></extra>\",\"legendgroup\":\"\",\"marker\":{\"color\":\"#636efa\",\"symbol\":\"circle\"},\"mode\":\"markers\",\"name\":\"\",\"orientation\":\"v\",\"showlegend\":false,\"x\":[10,10,10,100,100,100,100,500,500,500,500,1500,1500,1500,25,25,25,50,50,50,300,300,300,600,600,600,1000,1000,1000,1200,1200,1200,1600,1600,1600,1800,1800,1800,2000,2000,2000,2000,2000,2000],\"xaxis\":\"x\",\"y\":[14.823058104423058,9.469200725892724,10.297389596079064,-2.1270893337343666,0.08657558999958237,5.333129248160029,-0.7555762526622044,0.8792780539822687,1.1530723182287854,-1.2994011967523988,-1.6295745445849001,-5.7489119315981885,7.463993249191887,-12.228898085068952,3.1614233936372083,-1.7082635835898974,0.5689856075492772,2.5537459752969838,-0.552458976890402,7.4553060192213305,-5.689399325755007,2.421366302364536,2.9398780045998496,6.970593435486561,-1.3150802242925752,6.885868586393574,0.8013162961856284,-0.9632944422015335,-3.518723867179596,12.141070926050567,0.28123018692638424,13.228481126836812,-10.061982934576928,-7.058746180218289,7.980333418047788,7.887235711974604,-6.695560440538097,-6.799477462909897,9.162567387518706,-8.820290429059995,-5.861747282104091,11.977849893394794,-11.41829448724393,-12.097292700328733],\"yaxis\":\"y\",\"type\":\"scatter\"}],                        {\"template\":{\"data\":{\"bar\":[{\"error_x\":{\"color\":\"#2a3f5f\"},\"error_y\":{\"color\":\"#2a3f5f\"},\"marker\":{\"line\":{\"color\":\"#E5ECF6\",\"width\":0.5},\"pattern\":{\"fillmode\":\"overlay\",\"size\":10,\"solidity\":0.2}},\"type\":\"bar\"}],\"barpolar\":[{\"marker\":{\"line\":{\"color\":\"#E5ECF6\",\"width\":0.5},\"pattern\":{\"fillmode\":\"overlay\",\"size\":10,\"solidity\":0.2}},\"type\":\"barpolar\"}],\"carpet\":[{\"aaxis\":{\"endlinecolor\":\"#2a3f5f\",\"gridcolor\":\"white\",\"linecolor\":\"white\",\"minorgridcolor\":\"white\",\"startlinecolor\":\"#2a3f5f\"},\"baxis\":{\"endlinecolor\":\"#2a3f5f\",\"gridcolor\":\"white\",\"linecolor\":\"white\",\"minorgridcolor\":\"white\",\"startlinecolor\":\"#2a3f5f\"},\"type\":\"carpet\"}],\"choropleth\":[{\"colorbar\":{\"outlinewidth\":0,\"ticks\":\"\"},\"type\":\"choropleth\"}],\"contour\":[{\"colorbar\":{\"outlinewidth\":0,\"ticks\":\"\"},\"colorscale\":[[0.0,\"#0d0887\"],[0.1111111111111111,\"#46039f\"],[0.2222222222222222,\"#7201a8\"],[0.3333333333333333,\"#9c179e\"],[0.4444444444444444,\"#bd3786\"],[0.5555555555555556,\"#d8576b\"],[0.6666666666666666,\"#ed7953\"],[0.7777777777777778,\"#fb9f3a\"],[0.8888888888888888,\"#fdca26\"],[1.0,\"#f0f921\"]],\"type\":\"contour\"}],\"contourcarpet\":[{\"colorbar\":{\"outlinewidth\":0,\"ticks\":\"\"},\"type\":\"contourcarpet\"}],\"heatmap\":[{\"colorbar\":{\"outlinewidth\":0,\"ticks\":\"\"},\"colorscale\":[[0.0,\"#0d0887\"],[0.1111111111111111,\"#46039f\"],[0.2222222222222222,\"#7201a8\"],[0.3333333333333333,\"#9c179e\"],[0.4444444444444444,\"#bd3786\"],[0.5555555555555556,\"#d8576b\"],[0.6666666666666666,\"#ed7953\"],[0.7777777777777778,\"#fb9f3a\"],[0.8888888888888888,\"#fdca26\"],[1.0,\"#f0f921\"]],\"type\":\"heatmap\"}],\"heatmapgl\":[{\"colorbar\":{\"outlinewidth\":0,\"ticks\":\"\"},\"colorscale\":[[0.0,\"#0d0887\"],[0.1111111111111111,\"#46039f\"],[0.2222222222222222,\"#7201a8\"],[0.3333333333333333,\"#9c179e\"],[0.4444444444444444,\"#bd3786\"],[0.5555555555555556,\"#d8576b\"],[0.6666666666666666,\"#ed7953\"],[0.7777777777777778,\"#fb9f3a\"],[0.8888888888888888,\"#fdca26\"],[1.0,\"#f0f921\"]],\"type\":\"heatmapgl\"}],\"histogram\":[{\"marker\":{\"pattern\":{\"fillmode\":\"overlay\",\"size\":10,\"solidity\":0.2}},\"type\":\"histogram\"}],\"histogram2d\":[{\"colorbar\":{\"outlinewidth\":0,\"ticks\":\"\"},\"colorscale\":[[0.0,\"#0d0887\"],[0.1111111111111111,\"#46039f\"],[0.2222222222222222,\"#7201a8\"],[0.3333333333333333,\"#9c179e\"],[0.4444444444444444,\"#bd3786\"],[0.5555555555555556,\"#d8576b\"],[0.6666666666666666,\"#ed7953\"],[0.7777777777777778,\"#fb9f3a\"],[0.8888888888888888,\"#fdca26\"],[1.0,\"#f0f921\"]],\"type\":\"histogram2d\"}],\"histogram2dcontour\":[{\"colorbar\":{\"outlinewidth\":0,\"ticks\":\"\"},\"colorscale\":[[0.0,\"#0d0887\"],[0.1111111111111111,\"#46039f\"],[0.2222222222222222,\"#7201a8\"],[0.3333333333333333,\"#9c179e\"],[0.4444444444444444,\"#bd3786\"],[0.5555555555555556,\"#d8576b\"],[0.6666666666666666,\"#ed7953\"],[0.7777777777777778,\"#fb9f3a\"],[0.8888888888888888,\"#fdca26\"],[1.0,\"#f0f921\"]],\"type\":\"histogram2dcontour\"}],\"mesh3d\":[{\"colorbar\":{\"outlinewidth\":0,\"ticks\":\"\"},\"type\":\"mesh3d\"}],\"parcoords\":[{\"line\":{\"colorbar\":{\"outlinewidth\":0,\"ticks\":\"\"}},\"type\":\"parcoords\"}],\"pie\":[{\"automargin\":true,\"type\":\"pie\"}],\"scatter\":[{\"marker\":{\"colorbar\":{\"outlinewidth\":0,\"ticks\":\"\"}},\"type\":\"scatter\"}],\"scatter3d\":[{\"line\":{\"colorbar\":{\"outlinewidth\":0,\"ticks\":\"\"}},\"marker\":{\"colorbar\":{\"outlinewidth\":0,\"ticks\":\"\"}},\"type\":\"scatter3d\"}],\"scattercarpet\":[{\"marker\":{\"colorbar\":{\"outlinewidth\":0,\"ticks\":\"\"}},\"type\":\"scattercarpet\"}],\"scattergeo\":[{\"marker\":{\"colorbar\":{\"outlinewidth\":0,\"ticks\":\"\"}},\"type\":\"scattergeo\"}],\"scattergl\":[{\"marker\":{\"colorbar\":{\"outlinewidth\":0,\"ticks\":\"\"}},\"type\":\"scattergl\"}],\"scattermapbox\":[{\"marker\":{\"colorbar\":{\"outlinewidth\":0,\"ticks\":\"\"}},\"type\":\"scattermapbox\"}],\"scatterpolar\":[{\"marker\":{\"colorbar\":{\"outlinewidth\":0,\"ticks\":\"\"}},\"type\":\"scatterpolar\"}],\"scatterpolargl\":[{\"marker\":{\"colorbar\":{\"outlinewidth\":0,\"ticks\":\"\"}},\"type\":\"scatterpolargl\"}],\"scatterternary\":[{\"marker\":{\"colorbar\":{\"outlinewidth\":0,\"ticks\":\"\"}},\"type\":\"scatterternary\"}],\"surface\":[{\"colorbar\":{\"outlinewidth\":0,\"ticks\":\"\"},\"colorscale\":[[0.0,\"#0d0887\"],[0.1111111111111111,\"#46039f\"],[0.2222222222222222,\"#7201a8\"],[0.3333333333333333,\"#9c179e\"],[0.4444444444444444,\"#bd3786\"],[0.5555555555555556,\"#d8576b\"],[0.6666666666666666,\"#ed7953\"],[0.7777777777777778,\"#fb9f3a\"],[0.8888888888888888,\"#fdca26\"],[1.0,\"#f0f921\"]],\"type\":\"surface\"}],\"table\":[{\"cells\":{\"fill\":{\"color\":\"#EBF0F8\"},\"line\":{\"color\":\"white\"}},\"header\":{\"fill\":{\"color\":\"#C8D4E3\"},\"line\":{\"color\":\"white\"}},\"type\":\"table\"}]},\"layout\":{\"annotationdefaults\":{\"arrowcolor\":\"#2a3f5f\",\"arrowhead\":0,\"arrowwidth\":1},\"autotypenumbers\":\"strict\",\"coloraxis\":{\"colorbar\":{\"outlinewidth\":0,\"ticks\":\"\"}},\"colorscale\":{\"diverging\":[[0,\"#8e0152\"],[0.1,\"#c51b7d\"],[0.2,\"#de77ae\"],[0.3,\"#f1b6da\"],[0.4,\"#fde0ef\"],[0.5,\"#f7f7f7\"],[0.6,\"#e6f5d0\"],[0.7,\"#b8e186\"],[0.8,\"#7fbc41\"],[0.9,\"#4d9221\"],[1,\"#276419\"]],\"sequential\":[[0.0,\"#0d0887\"],[0.1111111111111111,\"#46039f\"],[0.2222222222222222,\"#7201a8\"],[0.3333333333333333,\"#9c179e\"],[0.4444444444444444,\"#bd3786\"],[0.5555555555555556,\"#d8576b\"],[0.6666666666666666,\"#ed7953\"],[0.7777777777777778,\"#fb9f3a\"],[0.8888888888888888,\"#fdca26\"],[1.0,\"#f0f921\"]],\"sequentialminus\":[[0.0,\"#0d0887\"],[0.1111111111111111,\"#46039f\"],[0.2222222222222222,\"#7201a8\"],[0.3333333333333333,\"#9c179e\"],[0.4444444444444444,\"#bd3786\"],[0.5555555555555556,\"#d8576b\"],[0.6666666666666666,\"#ed7953\"],[0.7777777777777778,\"#fb9f3a\"],[0.8888888888888888,\"#fdca26\"],[1.0,\"#f0f921\"]]},\"colorway\":[\"#636efa\",\"#EF553B\",\"#00cc96\",\"#ab63fa\",\"#FFA15A\",\"#19d3f3\",\"#FF6692\",\"#B6E880\",\"#FF97FF\",\"#FECB52\"],\"font\":{\"color\":\"#2a3f5f\"},\"geo\":{\"bgcolor\":\"white\",\"lakecolor\":\"white\",\"landcolor\":\"#E5ECF6\",\"showlakes\":true,\"showland\":true,\"subunitcolor\":\"white\"},\"hoverlabel\":{\"align\":\"left\"},\"hovermode\":\"closest\",\"mapbox\":{\"style\":\"light\"},\"paper_bgcolor\":\"white\",\"plot_bgcolor\":\"#E5ECF6\",\"polar\":{\"angularaxis\":{\"gridcolor\":\"white\",\"linecolor\":\"white\",\"ticks\":\"\"},\"bgcolor\":\"#E5ECF6\",\"radialaxis\":{\"gridcolor\":\"white\",\"linecolor\":\"white\",\"ticks\":\"\"}},\"scene\":{\"xaxis\":{\"backgroundcolor\":\"#E5ECF6\",\"gridcolor\":\"white\",\"gridwidth\":2,\"linecolor\":\"white\",\"showbackground\":true,\"ticks\":\"\",\"zerolinecolor\":\"white\"},\"yaxis\":{\"backgroundcolor\":\"#E5ECF6\",\"gridcolor\":\"white\",\"gridwidth\":2,\"linecolor\":\"white\",\"showbackground\":true,\"ticks\":\"\",\"zerolinecolor\":\"white\"},\"zaxis\":{\"backgroundcolor\":\"#E5ECF6\",\"gridcolor\":\"white\",\"gridwidth\":2,\"linecolor\":\"white\",\"showbackground\":true,\"ticks\":\"\",\"zerolinecolor\":\"white\"}},\"shapedefaults\":{\"line\":{\"color\":\"#2a3f5f\"}},\"ternary\":{\"aaxis\":{\"gridcolor\":\"white\",\"linecolor\":\"white\",\"ticks\":\"\"},\"baxis\":{\"gridcolor\":\"white\",\"linecolor\":\"white\",\"ticks\":\"\"},\"bgcolor\":\"#E5ECF6\",\"caxis\":{\"gridcolor\":\"white\",\"linecolor\":\"white\",\"ticks\":\"\"}},\"title\":{\"x\":0.05},\"xaxis\":{\"automargin\":true,\"gridcolor\":\"white\",\"linecolor\":\"white\",\"ticks\":\"\",\"title\":{\"standoff\":15},\"zerolinecolor\":\"white\",\"zerolinewidth\":2},\"yaxis\":{\"automargin\":true,\"gridcolor\":\"white\",\"linecolor\":\"white\",\"ticks\":\"\",\"title\":{\"standoff\":15},\"zerolinecolor\":\"white\",\"zerolinewidth\":2}}},\"xaxis\":{\"anchor\":\"y\",\"domain\":[0.0,1.0],\"title\":{\"text\":\"N_Clusters\"}},\"yaxis\":{\"anchor\":\"x\",\"domain\":[0.0,1.0],\"title\":{\"text\":\"Return difference\"}},\"legend\":{\"tracegroupgap\":0},\"margin\":{\"t\":60},\"font\":{\"family\":\"Courier New, monospace\",\"size\":16,\"color\":\"RebeccaPurple\"},\"title\":{\"text\":\"Return difference between the second and first runs for each number of clusters\"}},                        {\"responsive\": true}                    ).then(function(){\n",
              "                            \n",
              "var gd = document.getElementById('c4f73e3a-c623-4805-b2f0-be6d8780ef37');\n",
              "var x = new MutationObserver(function (mutations, observer) {{\n",
              "        var display = window.getComputedStyle(gd).display;\n",
              "        if (!display || display === 'none') {{\n",
              "            console.log([gd, 'removed!']);\n",
              "            Plotly.purge(gd);\n",
              "            observer.disconnect();\n",
              "        }}\n",
              "}});\n",
              "\n",
              "// Listen for the removal of the full notebook cells\n",
              "var notebookContainer = gd.closest('#notebook-container');\n",
              "if (notebookContainer) {{\n",
              "    x.observe(notebookContainer, {childList: true});\n",
              "}}\n",
              "\n",
              "// Listen for the clearing of the current output cell\n",
              "var outputEl = gd.closest('.output');\n",
              "if (outputEl) {{\n",
              "    x.observe(outputEl, {childList: true});\n",
              "}}\n",
              "\n",
              "                        })                };                            </script>        </div>\n",
              "</body>\n",
              "</html>"
            ]
          },
          "metadata": {},
          "output_type": "display_data"
        }
      ],
      "source": [
        "fig = px.scatter(gen_data, x=gen_data[\"N_CLUSTERS\"], y=gen_data['Difference'])\n",
        "fig.update_layout(\n",
        "    title=\"Return difference between the second and first runs for each number of clusters\",\n",
        "    xaxis_title=\"N_Clusters\",\n",
        "    yaxis_title=\"Return difference\",\n",
        "    font=dict(\n",
        "        family=\"Courier New, monospace\",\n",
        "        size=16,\n",
        "        color=\"RebeccaPurple\"\n",
        "    ))\n",
        "\n",
        "fig.show()"
      ]
    },
    {
      "cell_type": "code",
      "execution_count": null,
      "metadata": {
        "colab": {
          "base_uri": "https://localhost:8080/",
          "height": 563
        },
        "id": "sngvQi6-AIPf",
        "outputId": "7c5dd8f3-5115-446b-9d0f-5d56292c1f11"
      },
      "outputs": [
        {
          "data": {
            "text/html": [
              "<html>\n",
              "<head><meta charset=\"utf-8\" /></head>\n",
              "<body>\n",
              "    <div>            <script src=\"https://cdnjs.cloudflare.com/ajax/libs/mathjax/2.7.5/MathJax.js?config=TeX-AMS-MML_SVG\"></script><script type=\"text/javascript\">if (window.MathJax) {MathJax.Hub.Config({SVG: {font: \"STIX-Web\"}});}</script>                <script type=\"text/javascript\">window.PlotlyConfig = {MathJaxConfig: 'local'};</script>\n",
              "        <script src=\"https://cdn.plot.ly/plotly-2.8.3.min.js\"></script>                <div id=\"2d502e27-c59c-4dca-a332-244d27e9b434\" class=\"plotly-graph-div\" style=\"height:525px; width:100%;\"></div>            <script type=\"text/javascript\">                                    window.PLOTLYENV=window.PLOTLYENV || {};                                    if (document.getElementById(\"2d502e27-c59c-4dca-a332-244d27e9b434\")) {                    Plotly.newPlot(                        \"2d502e27-c59c-4dca-a332-244d27e9b434\",                        [{\"hovertemplate\":\"N_CLUSTERS=%{x}<br>RETURN=%{y}<br>SHARPE=%{marker.color}<extra></extra>\",\"legendgroup\":\"\",\"marker\":{\"color\":[0.3064033581066899,-2.5558460955986173,-3.617791089071972,-3.083313439969788,3.521555274635591,-3.014613223270324,1.2679752748821014,2.5865816006749744,-2.8045770456964605,-3.0413154847082344,-2.4673090337651207,1.402541425523591,3.38119816899855,3.22186312158305,-2.183207484140687,-1.25709151396219,-1.638795318591234,2.655492477188294,-1.980432990022539,3.1713744927452963,-2.698700456665995,-1.3156692931683844,-2.6615541203669286,-0.912100000449502,-2.886812841213585,-1.3133944542212337,-1.3587528515901337,-0.520458421049097,-2.8805670079724446,-2.3160157861159245,-1.2807778669206324,-3.003034578289324,-2.5930415334637686,-2.0827632932885107,-2.068592873274927,-1.0672284822071822,-2.3470759217845325,0.197937907655119,-3.4015863600128977,3.593833868742048,-2.015708396285479,-2.9920811720119844,-2.2872845466568514,-2.8940047959440576,-2.4097351557196545,-2.373081120340032,-1.042895558329555,-0.3796809430913974,-0.1082198930213273,0.1767591160385636,-2.66740446013514,-3.21851343841075,1.345739467910381,2.1470658047844258,-3.1030198848297044,-0.9619098499721228,-2.870274503909004,-1.6504711770938152,-1.459469820219236,-2.5040442870670376,-1.559818026663507,-2.8083487401590994,1.778768951994287,-1.3790454672769146,-2.391383447561357,-2.0537131654613785,-2.20718918583181,-0.4823911554467862,-3.3277527327584786,1.94704840227836,-2.660330651938375,2.9706930378603635,-2.156525024789336,-2.313588805866823,3.749583220270668,-3.30609963972131,-3.079640883236849,-2.4623509843071942,-3.376644278254964,3.3433075668438343,2.2559354931323456,1.5858295897555683,-0.6370854955438475,2.500809387986508,-3.112619803839153,-2.995888086108758,-1.395579083619949,3.485508103530774,-1.7218661383803435,-2.5305876283974085,-1.818577338587526,-2.54920102035195,-3.25600421425875,-2.800581083022444,-3.41402730631086,-1.831700972885896,-2.5168394214722505,-2.0611074156028484,-2.8186184351675703,-1.61568150663538,-2.144842898712384,-2.58527206418174,-2.482292004122649,1.4348482206754176,2.154516301633492,-1.9340007029218464,-2.652344941988662,-2.544329751276496,1.1511820599311913,-2.665820450367662,-2.93022166677239,-1.5235010516475007,2.446648739322625,1.5862912998242256,0.404842959274424,0.6428724183833864,-3.3212883709126,3.557100825165173,-2.9505366310570187,-2.8168251173060983,-2.205039247624103,-2.7664805846894525,-3.018994064277746,1.185174869876369,-2.215693436971853,-0.8995160383920611,-2.911283893006841,0.8071983044571027,-2.487144168136461,-0.964609703365402,-2.633492749872233,-2.835718023921761,-2.562385506502308,-1.2579304097469317,-2.166622388079107,1.8737440128613487,0.3717340675741786,-2.2576254603272337,1.685430268415659,-3.469811123859448,-2.5096775677182976,-0.0420164630566999,-3.046465688394071,3.600987394477962,0.1872845374442105,3.649672424679772,-3.0223962584462263,3.5731833681796923,-2.2100205036553087,-2.7171521819088893,-2.810103741770273,-3.200966352667181,-2.925335854287519,-2.824096324984437,-0.8376587028452382,-1.3249784369758382,-2.799541065796591,-0.3855168388465874,-2.5505350246949243,-2.9550261456041658,-3.1078934939451845,-2.627550928910924,0.8354336823911297,-2.84100342667122,0.6767070545945024,-0.4168450445433059,3.544595882995923,-2.758480088804108,-3.510996134871218,2.72959718132164,0.0429165607309762,-1.8203491278898647,-0.3014354613533841,-3.328593160327527,-3.426322180455048,-3.25720296793864,-3.0959779235823937,-3.500786410740745,-3.4868562296888945,-2.298210961731068,-3.4678801196850544,-2.8490134651422863,-3.343497981328005,3.613882687622768,-3.425854480194111,-3.2885935200461187,-3.1099755674439766,-1.3275138442162664,-3.206061080678048,2.3047717659855587,-2.8853739663485074,-3.3695348852681604,-2.0812291151990747,-2.937217711017082,-3.4906482240248717,-2.3651978687373902,-2.6443105468151447,0.6861897995360243,-0.8849104172918935,0.7208068577282265,-2.845236313215059,-2.7630086431994085,-2.309729495943617,-3.2108664102840607,-2.618203118460465,-2.924315733076833,-2.401672780974868,-2.9587883472501417,-2.7002358039894463,-0.869797898161307,-3.0185889879355057,-3.221058928283143,1.4196956143951371,-2.184383794448822,-2.465615965706748,-3.0064753597257656,-2.7005023071671403,-2.42687410062228,-1.090791125195671,-1.7876180308605725,-1.9298251538474644,-2.901973701951716,-1.6745723657584792,-1.6520945326644405,-1.5663771909636446,-2.47469747536812,4.109990501203985,-1.9473298994862944,1.407161997286421,-2.7185141031288254,-2.4859762408156776,-2.9024241819200043,-2.278589781045328,-1.191546546106386,-1.795826700501559,-3.14909089600138,-2.384302610689003,-2.73347102352545,-2.370022576344527,-1.8414124863965764,2.2160114384741183,0.3654751024279662,3.521028571981208,-3.2753783669319096,-3.2237287890373665,1.239442764868258,3.614357590385429,0.7296499049417972,-3.2600362216066934,-1.207211890614339,-1.5824933381937896,-2.8042286640229834,-3.5340159527609587,-3.609282575657754,-3.436793955310385,-2.271683920751728,3.811498665928879,-1.035366927438371,0.2475397426533725,-0.8788090366782009,2.3845384019197806,3.714401417207421,3.320179660269353,3.810201839199505],\"coloraxis\":\"coloraxis\",\"symbol\":\"circle\"},\"mode\":\"markers\",\"name\":\"\",\"orientation\":\"v\",\"showlegend\":false,\"x\":[500,500,500,500,500,500,500,500,700,700,700,700,700,700,700,700,700,700,500,500,500,500,500,100,100,100,100,100,100,100,100,100,100,200,200,200,200,200,500,500,500,500,200,200,200,200,200,200,200,200,200,200,300,300,300,300,300,300,400,400,400,400,400,400,400,400,400,400,500,500,500,500,500,500,500,600,600,600,600,600,600,600,600,600,600,700,700,700,700,100,100,100,100,100,100,100,100,100,100,100,100,100,100,200,200,200,200,200,200,200,200,200,300,300,300,300,300,300,300,300,300,300,300,300,300,300,300,300,300,300,400,400,400,400,400,400,400,400,400,400,400,400,400,400,600,600,600,600,600,600,600,600,600,600,600,600,600,600,700,700,700,700,700,700,700,700,700,700,10,10,10,10,10,10,10,10,10,10,10,10,10,10,10,10,10,10,10,10,10,10,10,10,25,25,25,25,25,25,25,25,25,25,25,25,25,25,25,25,25,25,25,25,25,25,25,25,50,50,50,50,50,50,50,50,50,50,50,50,50,50,50,50,50,50,50,50,50,50,50,50,1500,1500,1500,1500,1500,1500,1500,1500,1500,1500,1500,1500,1500,1500,1500,1500,1500,1500,1500,1500,1500,1500,1500,1500],\"xaxis\":\"x\",\"y\":[2.2191860502776883,-14.984677068135444,-18.787358373318664,-23.393952657961293,41.59602038364152,-23.670185324950467,5.260067258068846,13.887273558136526,-16.829330102659355,-11.706651339631724,-16.62495329146827,5.080548797034767,17.34584608355312,28.8104770523433,-12.403441734396491,-4.770552614283707,-9.647390605169626,15.280091990781308,-13.060214269033231,28.865166014517605,-22.4918994942769,-5.027640846955983,-11.478254392130182,-4.062239086330333,-38.82103074010585,-4.242725344113351,-4.89329072245166,-1.0945043087653985,-19.4653955978562,-13.69609607994401,-5.141439362068434,-20.56689670915548,-17.454459463313587,-10.419724332449777,-11.203635298615666,-3.596641600380479,-15.988900737788436,1.8130769774582056,-57.04806828357268,33.71685079258447,-5.629924551165589,-27.264667863261906,-9.961002882922887,-22.03886830616888,-17.81395401137711,-14.792659135360186,-3.5645877099360845,-0.2601871324502181,0.5835804785085719,1.7103230380128842,-15.189335270418436,-24.23531374945005,5.579168262356071,10.9898176065081,-21.50487205404532,-3.021414613931228,-18.523816270085657,-6.936294143130917,-4.1943099315040815,-20.24421286577628,-5.536131472771288,-24.569016374343,10.989669327961282,-4.736078712686309,-13.21249420220102,-8.234304114263491,-12.852322251775872,-0.3786787501034894,-52.987387061460645,9.07102316189292,-15.332425096298309,12.169855350972725,-8.433415201384054,-14.184494632417357,20.989765663773376,-24.495232227409545,-18.205280834993744,-10.713556589755813,-41.50840578305295,34.22242809035936,13.332960168206354,6.894026639505202,-1.7657429191026863,9.492779401963558,-35.83984479983694,-20.00437191272185,-4.355174783677751,25.576497241707877,-4.584415216266391,-17.86845584498822,-8.648894676488483,-12.419279528517604,-17.00315537388517,-15.039745984644492,-30.006881547510226,-8.453459051465195,-11.213685947775057,-9.398239564695066,-16.987127517015555,-7.887859819079656,-10.02804387197509,-12.506103149365178,-15.744524291113438,7.314382006807341,11.14358011783474,-10.852401122930033,-19.34523592674171,-16.615105021568745,5.178440768094705,-13.134753904468276,-23.47203796955885,-7.321109287040828,10.747852718481532,6.674528909234434,2.813759481264721,3.483744402365474,-20.972848681274293,17.870998775572346,-18.59555031974186,-23.746149789067584,-11.15922015519728,-23.618193312301,-18.03916945644689,4.82869275781741,-10.149092674039606,-2.5429525576149192,-24.079630433535293,4.130029040534122,-11.507749550492374,-2.05981339150898,-19.539663272010287,-23.11188948362206,-10.92321177709552,-4.017864836995599,-13.263986832446406,10.22669002735248,2.266442838687799,-12.465345407995144,7.261744954587757,-25.03493963854544,-10.748928425596771,0.8577915214525555,-23.81150141816478,49.365222166810256,1.643786002459957,32.323823174537324,-25.48057215808287,25.747040275635168,-11.713452676720737,-18.94326408767841,-10.531062688477554,-29.485926845612187,-30.224805261351666,-25.970013883460663,-2.3871587038166497,-3.749593170844912,-12.689696027177156,-0.5823387454335083,-13.55868410100496,-35.28877926351479,-23.468658473273653,-12.906193701646984,3.3673304781351776,-8.850302371223219,3.153643368733894,-0.5284281671885882,26.43582966895321,-23.530542073555416,-65.36112878899189,12.676962493101996,1.144325613581132,-7.058456487095088,-0.3469957020018954,-42.142527180764176,-56.49742679718226,-49.17479774002776,-38.104863444018186,-59.14704153957483,-55.99348757119918,-9.184608520103376,-47.968534353739486,-16.509104581038812,-46.41897077429304,19.7227974203954,-53.3999292989197,-37.13888360222772,-49.19690652024945,-4.607305235120307,-49.15552236896662,10.395893104341813,-16.534636042533524,-41.46460507374149,-13.393289635475869,-10.227626633700682,-43.09387073926496,-14.660077343245725,-19.88025821217584,3.464347216731212,-2.048140040026658,3.606561904940953,-12.571606161879412,-15.031781693408853,-11.889383461249793,-41.8680972430947,-17.47125805607347,-27.88522448576144,-13.321476881310568,-20.24732057491313,-21.61698994606572,-2.5830282742996147,-22.33171098636232,-41.49612226059195,6.893108531679992,-13.214840595512056,-14.792135709248488,-29.672033798419093,-17.4885646325737,-12.51450804620945,-4.521857688524056,-7.87754914568729,-7.604104950554868,-24.952001232566367,-7.202614889350601,-6.131666551735782,-7.651062422222099,-17.69145287925865,20.21690711362625,-7.987660986465428,5.631379407992876,-16.48961957158828,-14.051754914704862,-16.264328279245742,-10.35189713688741,-4.378112172415449,-9.46829671720606,-36.16687076941592,-12.926788803096157,-18.044394030658705,-11.494305421176756,-8.62411702739706,8.962373539614399,2.119502637022186,29.39530900455505,-36.45455999758308,-45.25945555209785,3.586383141001459,75.94527297136719,3.031458130666476,-31.915834329175564,-2.9072656183545376,-5.387886931838937,-8.560880337804445,-44.07753598823548,-20.64439593599703,-30.932926542929152,-15.261578252490027,43.91274744751041,-2.618084638301399,1.6329249390416356,-1.5815314415465909,11.61312089556674,34.37715579611731,53.9855812572372,18.084829208328635],\"yaxis\":\"y\",\"type\":\"scatter\"},{\"line\":{\"color\":\"black\"},\"mode\":\"lines\",\"showlegend\":false,\"x\":[10,25,50,100,200,300,400,500,700,1500],\"y\":[-36.85735306469828,-24.10179065171327,-18.214415096237992,-21.07309392270888,-16.46553294063752,-13.852037333777886,-14.125751645559792,-13.712919893535306,-15.155826008855474,-11.546596901367934,-5.919416548363155],\"type\":\"scatter\"}],                        {\"template\":{\"data\":{\"bar\":[{\"error_x\":{\"color\":\"#2a3f5f\"},\"error_y\":{\"color\":\"#2a3f5f\"},\"marker\":{\"line\":{\"color\":\"#E5ECF6\",\"width\":0.5},\"pattern\":{\"fillmode\":\"overlay\",\"size\":10,\"solidity\":0.2}},\"type\":\"bar\"}],\"barpolar\":[{\"marker\":{\"line\":{\"color\":\"#E5ECF6\",\"width\":0.5},\"pattern\":{\"fillmode\":\"overlay\",\"size\":10,\"solidity\":0.2}},\"type\":\"barpolar\"}],\"carpet\":[{\"aaxis\":{\"endlinecolor\":\"#2a3f5f\",\"gridcolor\":\"white\",\"linecolor\":\"white\",\"minorgridcolor\":\"white\",\"startlinecolor\":\"#2a3f5f\"},\"baxis\":{\"endlinecolor\":\"#2a3f5f\",\"gridcolor\":\"white\",\"linecolor\":\"white\",\"minorgridcolor\":\"white\",\"startlinecolor\":\"#2a3f5f\"},\"type\":\"carpet\"}],\"choropleth\":[{\"colorbar\":{\"outlinewidth\":0,\"ticks\":\"\"},\"type\":\"choropleth\"}],\"contour\":[{\"colorbar\":{\"outlinewidth\":0,\"ticks\":\"\"},\"colorscale\":[[0.0,\"#0d0887\"],[0.1111111111111111,\"#46039f\"],[0.2222222222222222,\"#7201a8\"],[0.3333333333333333,\"#9c179e\"],[0.4444444444444444,\"#bd3786\"],[0.5555555555555556,\"#d8576b\"],[0.6666666666666666,\"#ed7953\"],[0.7777777777777778,\"#fb9f3a\"],[0.8888888888888888,\"#fdca26\"],[1.0,\"#f0f921\"]],\"type\":\"contour\"}],\"contourcarpet\":[{\"colorbar\":{\"outlinewidth\":0,\"ticks\":\"\"},\"type\":\"contourcarpet\"}],\"heatmap\":[{\"colorbar\":{\"outlinewidth\":0,\"ticks\":\"\"},\"colorscale\":[[0.0,\"#0d0887\"],[0.1111111111111111,\"#46039f\"],[0.2222222222222222,\"#7201a8\"],[0.3333333333333333,\"#9c179e\"],[0.4444444444444444,\"#bd3786\"],[0.5555555555555556,\"#d8576b\"],[0.6666666666666666,\"#ed7953\"],[0.7777777777777778,\"#fb9f3a\"],[0.8888888888888888,\"#fdca26\"],[1.0,\"#f0f921\"]],\"type\":\"heatmap\"}],\"heatmapgl\":[{\"colorbar\":{\"outlinewidth\":0,\"ticks\":\"\"},\"colorscale\":[[0.0,\"#0d0887\"],[0.1111111111111111,\"#46039f\"],[0.2222222222222222,\"#7201a8\"],[0.3333333333333333,\"#9c179e\"],[0.4444444444444444,\"#bd3786\"],[0.5555555555555556,\"#d8576b\"],[0.6666666666666666,\"#ed7953\"],[0.7777777777777778,\"#fb9f3a\"],[0.8888888888888888,\"#fdca26\"],[1.0,\"#f0f921\"]],\"type\":\"heatmapgl\"}],\"histogram\":[{\"marker\":{\"pattern\":{\"fillmode\":\"overlay\",\"size\":10,\"solidity\":0.2}},\"type\":\"histogram\"}],\"histogram2d\":[{\"colorbar\":{\"outlinewidth\":0,\"ticks\":\"\"},\"colorscale\":[[0.0,\"#0d0887\"],[0.1111111111111111,\"#46039f\"],[0.2222222222222222,\"#7201a8\"],[0.3333333333333333,\"#9c179e\"],[0.4444444444444444,\"#bd3786\"],[0.5555555555555556,\"#d8576b\"],[0.6666666666666666,\"#ed7953\"],[0.7777777777777778,\"#fb9f3a\"],[0.8888888888888888,\"#fdca26\"],[1.0,\"#f0f921\"]],\"type\":\"histogram2d\"}],\"histogram2dcontour\":[{\"colorbar\":{\"outlinewidth\":0,\"ticks\":\"\"},\"colorscale\":[[0.0,\"#0d0887\"],[0.1111111111111111,\"#46039f\"],[0.2222222222222222,\"#7201a8\"],[0.3333333333333333,\"#9c179e\"],[0.4444444444444444,\"#bd3786\"],[0.5555555555555556,\"#d8576b\"],[0.6666666666666666,\"#ed7953\"],[0.7777777777777778,\"#fb9f3a\"],[0.8888888888888888,\"#fdca26\"],[1.0,\"#f0f921\"]],\"type\":\"histogram2dcontour\"}],\"mesh3d\":[{\"colorbar\":{\"outlinewidth\":0,\"ticks\":\"\"},\"type\":\"mesh3d\"}],\"parcoords\":[{\"line\":{\"colorbar\":{\"outlinewidth\":0,\"ticks\":\"\"}},\"type\":\"parcoords\"}],\"pie\":[{\"automargin\":true,\"type\":\"pie\"}],\"scatter\":[{\"marker\":{\"colorbar\":{\"outlinewidth\":0,\"ticks\":\"\"}},\"type\":\"scatter\"}],\"scatter3d\":[{\"line\":{\"colorbar\":{\"outlinewidth\":0,\"ticks\":\"\"}},\"marker\":{\"colorbar\":{\"outlinewidth\":0,\"ticks\":\"\"}},\"type\":\"scatter3d\"}],\"scattercarpet\":[{\"marker\":{\"colorbar\":{\"outlinewidth\":0,\"ticks\":\"\"}},\"type\":\"scattercarpet\"}],\"scattergeo\":[{\"marker\":{\"colorbar\":{\"outlinewidth\":0,\"ticks\":\"\"}},\"type\":\"scattergeo\"}],\"scattergl\":[{\"marker\":{\"colorbar\":{\"outlinewidth\":0,\"ticks\":\"\"}},\"type\":\"scattergl\"}],\"scattermapbox\":[{\"marker\":{\"colorbar\":{\"outlinewidth\":0,\"ticks\":\"\"}},\"type\":\"scattermapbox\"}],\"scatterpolar\":[{\"marker\":{\"colorbar\":{\"outlinewidth\":0,\"ticks\":\"\"}},\"type\":\"scatterpolar\"}],\"scatterpolargl\":[{\"marker\":{\"colorbar\":{\"outlinewidth\":0,\"ticks\":\"\"}},\"type\":\"scatterpolargl\"}],\"scatterternary\":[{\"marker\":{\"colorbar\":{\"outlinewidth\":0,\"ticks\":\"\"}},\"type\":\"scatterternary\"}],\"surface\":[{\"colorbar\":{\"outlinewidth\":0,\"ticks\":\"\"},\"colorscale\":[[0.0,\"#0d0887\"],[0.1111111111111111,\"#46039f\"],[0.2222222222222222,\"#7201a8\"],[0.3333333333333333,\"#9c179e\"],[0.4444444444444444,\"#bd3786\"],[0.5555555555555556,\"#d8576b\"],[0.6666666666666666,\"#ed7953\"],[0.7777777777777778,\"#fb9f3a\"],[0.8888888888888888,\"#fdca26\"],[1.0,\"#f0f921\"]],\"type\":\"surface\"}],\"table\":[{\"cells\":{\"fill\":{\"color\":\"#EBF0F8\"},\"line\":{\"color\":\"white\"}},\"header\":{\"fill\":{\"color\":\"#C8D4E3\"},\"line\":{\"color\":\"white\"}},\"type\":\"table\"}]},\"layout\":{\"annotationdefaults\":{\"arrowcolor\":\"#2a3f5f\",\"arrowhead\":0,\"arrowwidth\":1},\"autotypenumbers\":\"strict\",\"coloraxis\":{\"colorbar\":{\"outlinewidth\":0,\"ticks\":\"\"}},\"colorscale\":{\"diverging\":[[0,\"#8e0152\"],[0.1,\"#c51b7d\"],[0.2,\"#de77ae\"],[0.3,\"#f1b6da\"],[0.4,\"#fde0ef\"],[0.5,\"#f7f7f7\"],[0.6,\"#e6f5d0\"],[0.7,\"#b8e186\"],[0.8,\"#7fbc41\"],[0.9,\"#4d9221\"],[1,\"#276419\"]],\"sequential\":[[0.0,\"#0d0887\"],[0.1111111111111111,\"#46039f\"],[0.2222222222222222,\"#7201a8\"],[0.3333333333333333,\"#9c179e\"],[0.4444444444444444,\"#bd3786\"],[0.5555555555555556,\"#d8576b\"],[0.6666666666666666,\"#ed7953\"],[0.7777777777777778,\"#fb9f3a\"],[0.8888888888888888,\"#fdca26\"],[1.0,\"#f0f921\"]],\"sequentialminus\":[[0.0,\"#0d0887\"],[0.1111111111111111,\"#46039f\"],[0.2222222222222222,\"#7201a8\"],[0.3333333333333333,\"#9c179e\"],[0.4444444444444444,\"#bd3786\"],[0.5555555555555556,\"#d8576b\"],[0.6666666666666666,\"#ed7953\"],[0.7777777777777778,\"#fb9f3a\"],[0.8888888888888888,\"#fdca26\"],[1.0,\"#f0f921\"]]},\"colorway\":[\"#636efa\",\"#EF553B\",\"#00cc96\",\"#ab63fa\",\"#FFA15A\",\"#19d3f3\",\"#FF6692\",\"#B6E880\",\"#FF97FF\",\"#FECB52\"],\"font\":{\"color\":\"#2a3f5f\"},\"geo\":{\"bgcolor\":\"white\",\"lakecolor\":\"white\",\"landcolor\":\"#E5ECF6\",\"showlakes\":true,\"showland\":true,\"subunitcolor\":\"white\"},\"hoverlabel\":{\"align\":\"left\"},\"hovermode\":\"closest\",\"mapbox\":{\"style\":\"light\"},\"paper_bgcolor\":\"white\",\"plot_bgcolor\":\"#E5ECF6\",\"polar\":{\"angularaxis\":{\"gridcolor\":\"white\",\"linecolor\":\"white\",\"ticks\":\"\"},\"bgcolor\":\"#E5ECF6\",\"radialaxis\":{\"gridcolor\":\"white\",\"linecolor\":\"white\",\"ticks\":\"\"}},\"scene\":{\"xaxis\":{\"backgroundcolor\":\"#E5ECF6\",\"gridcolor\":\"white\",\"gridwidth\":2,\"linecolor\":\"white\",\"showbackground\":true,\"ticks\":\"\",\"zerolinecolor\":\"white\"},\"yaxis\":{\"backgroundcolor\":\"#E5ECF6\",\"gridcolor\":\"white\",\"gridwidth\":2,\"linecolor\":\"white\",\"showbackground\":true,\"ticks\":\"\",\"zerolinecolor\":\"white\"},\"zaxis\":{\"backgroundcolor\":\"#E5ECF6\",\"gridcolor\":\"white\",\"gridwidth\":2,\"linecolor\":\"white\",\"showbackground\":true,\"ticks\":\"\",\"zerolinecolor\":\"white\"}},\"shapedefaults\":{\"line\":{\"color\":\"#2a3f5f\"}},\"ternary\":{\"aaxis\":{\"gridcolor\":\"white\",\"linecolor\":\"white\",\"ticks\":\"\"},\"baxis\":{\"gridcolor\":\"white\",\"linecolor\":\"white\",\"ticks\":\"\"},\"bgcolor\":\"#E5ECF6\",\"caxis\":{\"gridcolor\":\"white\",\"linecolor\":\"white\",\"ticks\":\"\"}},\"title\":{\"x\":0.05},\"xaxis\":{\"automargin\":true,\"gridcolor\":\"white\",\"linecolor\":\"white\",\"ticks\":\"\",\"title\":{\"standoff\":15},\"zerolinecolor\":\"white\",\"zerolinewidth\":2},\"yaxis\":{\"automargin\":true,\"gridcolor\":\"white\",\"linecolor\":\"white\",\"ticks\":\"\",\"title\":{\"standoff\":15},\"zerolinecolor\":\"white\",\"zerolinewidth\":2}}},\"xaxis\":{\"anchor\":\"y\",\"domain\":[0.0,1.0],\"title\":{\"text\":\"N_CLUSTERS\"}},\"yaxis\":{\"anchor\":\"x\",\"domain\":[0.0,1.0],\"title\":{\"text\":\"RETURN\"}},\"coloraxis\":{\"colorbar\":{\"title\":{\"text\":\"SHARPE\"}},\"colorscale\":[[0.0,\"#0d0887\"],[0.1111111111111111,\"#46039f\"],[0.2222222222222222,\"#7201a8\"],[0.3333333333333333,\"#9c179e\"],[0.4444444444444444,\"#bd3786\"],[0.5555555555555556,\"#d8576b\"],[0.6666666666666666,\"#ed7953\"],[0.7777777777777778,\"#fb9f3a\"],[0.8888888888888888,\"#fdca26\"],[1.0,\"#f0f921\"]]},\"legend\":{\"tracegroupgap\":0},\"title\":{\"text\":\"Return by N_clusters with benchmark(green line) and mean returns (black line)\"},\"shapes\":[{\"line\":{\"color\":\"green\",\"dash\":\"dash\"},\"type\":\"line\",\"x0\":0,\"x1\":1,\"xref\":\"x domain\",\"y0\":7.629613356766263,\"y1\":7.629613356766263,\"yref\":\"y\"},{\"fillcolor\":\"red\",\"line\":{\"width\":0},\"opacity\":0.1,\"type\":\"rect\",\"x0\":0,\"x1\":1,\"xref\":\"x domain\",\"y0\":-75.36112878899189,\"y1\":7.629613356766263,\"yref\":\"y\"}]},                        {\"responsive\": true}                    ).then(function(){\n",
              "                            \n",
              "var gd = document.getElementById('2d502e27-c59c-4dca-a332-244d27e9b434');\n",
              "var x = new MutationObserver(function (mutations, observer) {{\n",
              "        var display = window.getComputedStyle(gd).display;\n",
              "        if (!display || display === 'none') {{\n",
              "            console.log([gd, 'removed!']);\n",
              "            Plotly.purge(gd);\n",
              "            observer.disconnect();\n",
              "        }}\n",
              "}});\n",
              "\n",
              "// Listen for the removal of the full notebook cells\n",
              "var notebookContainer = gd.closest('#notebook-container');\n",
              "if (notebookContainer) {{\n",
              "    x.observe(notebookContainer, {childList: true});\n",
              "}}\n",
              "\n",
              "// Listen for the clearing of the current output cell\n",
              "var outputEl = gd.closest('.output');\n",
              "if (outputEl) {{\n",
              "    x.observe(outputEl, {childList: true});\n",
              "}}\n",
              "\n",
              "                        })                };                            </script>        </div>\n",
              "</body>\n",
              "</html>"
            ]
          },
          "metadata": {},
          "output_type": "display_data"
        }
      ],
      "source": [
        "fig = px.scatter(data_fra, x=\"N_CLUSTERS\", y=\"RETURN\", color=\"SHARPE\", title=\"Return by N_clusters with benchmark(green line) and mean returns (black line)\")\n",
        "\n",
        "fig.add_hline(y=data_fra[\"BENCHMARK_RETURN\"][0], line_dash=\"dash\", line_color=\"green\")\n",
        "fig.add_hrect(y0=data_fra[\"RETURN\"].min()-10, y1=data_fra[\"BENCHMARK_RETURN\"][0], line_width=0, fillcolor=\"red\", opacity=0.1)\n",
        "fig.add_trace(go.Scatter(x=[10,25,50,100,200,300,400,500,700,1500],\n",
        "                            y=means_by_clusters_minus_bench,\n",
        "                            mode=\"lines\",\n",
        "                            line=go.scatter.Line(color=\"black\"),\n",
        "                            showlegend=False))\n",
        "fig.show()"
      ]
    },
    {
      "cell_type": "markdown",
      "metadata": {
        "id": "ACIKHJsYzUKq"
      },
      "source": [
        "## Analysis of FRA40 results"
      ]
    },
    {
      "cell_type": "code",
      "execution_count": null,
      "metadata": {
        "id": "2aqspacb6EA6"
      },
      "outputs": [],
      "source": [
        "import pandas as pd\n",
        "import numpy as np\n",
        "import plotly.express as px\n",
        "import plotly.graph_objects as go"
      ]
    },
    {
      "cell_type": "code",
      "execution_count": null,
      "metadata": {
        "id": "3mZmCFhb5CTK"
      },
      "outputs": [],
      "source": [
        "#data_fra = pd.read_csv('/content/PSC-Pattern-Classification/data_analysis/FRA40_result.csv')\n",
        "data_fra = pd.read_csv('/content/gdrive/MyDrive/Data /FRA40_result.csv')"
      ]
    },
    {
      "cell_type": "code",
      "execution_count": null,
      "metadata": {
        "colab": {
          "base_uri": "https://localhost:8080/"
        },
        "id": "1haZ6qXF6b6z",
        "outputId": "a090f0ad-1828-4c97-fbbc-7761750f3f09"
      },
      "outputs": [
        {
          "data": {
            "text/plain": [
              "count    264.000000\n",
              "mean      -9.736272\n",
              "std       19.782115\n",
              "min      -65.361129\n",
              "25%      -19.375276\n",
              "50%      -10.800665\n",
              "75%       -0.049245\n",
              "max       75.945273\n",
              "Name: RETURN, dtype: float64"
            ]
          },
          "execution_count": 14,
          "metadata": {},
          "output_type": "execute_result"
        }
      ],
      "source": [
        "data_fra[\"RETURN\"].describe()"
      ]
    },
    {
      "cell_type": "code",
      "execution_count": null,
      "metadata": {
        "colab": {
          "base_uri": "https://localhost:8080/"
        },
        "id": "ZDF3xsTE6k3T",
        "outputId": "1e7d0f3e-1580-4233-e51f-4ff1f1ea6073"
      },
      "outputs": [
        {
          "data": {
            "text/plain": [
              "count    264.000000\n",
              "mean     -17.365885\n",
              "std       19.782115\n",
              "min      -72.990742\n",
              "25%      -27.004889\n",
              "50%      -18.430278\n",
              "75%       -7.678859\n",
              "max       68.315660\n",
              "dtype: float64"
            ]
          },
          "execution_count": 15,
          "metadata": {},
          "output_type": "execute_result"
        }
      ],
      "source": [
        "(data_fra[\"RETURN\"] - data_fra[\"BENCHMARK_RETURN\"]).describe()"
      ]
    },
    {
      "cell_type": "code",
      "execution_count": null,
      "metadata": {
        "colab": {
          "base_uri": "https://localhost:8080/"
        },
        "id": "agWOQjuyASHT",
        "outputId": "1b64b578-2e1a-44fe-ca66-0b35b3b69988"
      },
      "outputs": [
        {
          "name": "stdout",
          "output_type": "stream",
          "text": [
            "Means of return - bench by: N_CLUSTERS\n",
            "10     -36.857353\n",
            "25     -24.101791\n",
            "50     -18.214415\n",
            "100    -21.073094\n",
            "200    -16.465533\n",
            "300    -13.852037\n",
            "400    -14.125752\n",
            "500    -13.712920\n",
            "600    -15.155826\n",
            "700    -11.546597\n",
            "1500    -5.919417\n",
            "Name: RETURN, dtype: float64\n"
          ]
        }
      ],
      "source": [
        "means_by_clusters = data_fra.groupby([\"N_CLUSTERS\"])[\"RETURN\"].mean() \n",
        "means_by_clusters_minus_bench = means_by_clusters - data_fra[\"BENCHMARK_RETURN\"][0]\n",
        "print('Means of return - bench by:', means_by_clusters_minus_bench)"
      ]
    },
    {
      "cell_type": "code",
      "execution_count": null,
      "metadata": {
        "colab": {
          "base_uri": "https://localhost:8080/"
        },
        "id": "playbKAPHxku",
        "outputId": "bd58dca1-e77b-493d-cbaf-9f390f21f4d4"
      },
      "outputs": [
        {
          "data": {
            "text/plain": [
              "N_CLUSTERS\n",
              "10      0.125000\n",
              "25      0.000000\n",
              "50      0.041667\n",
              "100     0.000000\n",
              "200     0.041667\n",
              "300     0.125000\n",
              "400     0.125000\n",
              "500     0.291667\n",
              "600     0.208333\n",
              "700     0.208333\n",
              "1500    0.333333\n",
              "Name: RETURN, dtype: float64"
            ]
          },
          "execution_count": 47,
          "metadata": {},
          "output_type": "execute_result"
        }
      ],
      "source": [
        "data_success = data_fra.copy()\n",
        "data_success[\"RETURN\"] = (data_fra[\"RETURN\"] - data_fra[\"BENCHMARK_RETURN\"]) > 0\n",
        "data_by_clusters = data_success.groupby([\"N_CLUSTERS\"])[\"RETURN\"].sum() / data_fra.groupby([\"N_CLUSTERS\"])[\"RETURN\"].size()\n",
        "data_by_clusters "
      ]
    },
    {
      "cell_type": "code",
      "execution_count": null,
      "metadata": {
        "colab": {
          "base_uri": "https://localhost:8080/"
        },
        "id": "_kNjy3xGMGYI",
        "outputId": "25a0150a-6c84-47df-e64b-dca3d4172d25"
      },
      "outputs": [
        {
          "data": {
            "text/plain": [
              "Index(['SYMBOL', 'START_DATE', 'END_DATE', 'DATES', 'SPREAD', 'N_CLUSTERS',\n",
              "       'PREDICTIVE_CLUSTERS', 'RETURN', 'MIN_PIPS', 'N_TRADE', 'WIN_RATE',\n",
              "       'MAX_DRAWDOWN', 'SHARPE', 'PATH', 'BENCHMARK_RETURN'],\n",
              "      dtype='object')"
            ]
          },
          "execution_count": 18,
          "metadata": {},
          "output_type": "execute_result"
        }
      ],
      "source": [
        "data_fra.columns"
      ]
    },
    {
      "cell_type": "code",
      "execution_count": null,
      "metadata": {
        "colab": {
          "base_uri": "https://localhost:8080/"
        },
        "id": "IbQzKJtygYPt",
        "outputId": "6dfc1d81-d6ac-40a0-e8dd-9501086095da"
      },
      "outputs": [
        {
          "data": {
            "text/plain": [
              "N_CLUSTERS\n",
              "10      24\n",
              "25      24\n",
              "50      24\n",
              "100     24\n",
              "200     24\n",
              "300     24\n",
              "400     24\n",
              "500     24\n",
              "600     24\n",
              "700     24\n",
              "1500    24\n",
              "dtype: int64"
            ]
          },
          "execution_count": 19,
          "metadata": {},
          "output_type": "execute_result"
        }
      ],
      "source": [
        "data_fra.groupby([\"N_CLUSTERS\"]).size()"
      ]
    },
    {
      "cell_type": "code",
      "execution_count": null,
      "metadata": {
        "colab": {
          "base_uri": "https://localhost:8080/",
          "height": 449
        },
        "id": "_z2E2p_nL9st",
        "outputId": "a3e7724a-d30a-4dec-a7da-8406aa5e4f69"
      },
      "outputs": [
        {
          "data": {
            "text/html": [
              "\n",
              "  <div id=\"df-e1c83d9b-68c5-430c-b176-4912bea03a35\">\n",
              "    <div class=\"colab-df-container\">\n",
              "      <div>\n",
              "<style scoped>\n",
              "    .dataframe tbody tr th:only-of-type {\n",
              "        vertical-align: middle;\n",
              "    }\n",
              "\n",
              "    .dataframe tbody tr th {\n",
              "        vertical-align: top;\n",
              "    }\n",
              "\n",
              "    .dataframe thead th {\n",
              "        text-align: right;\n",
              "    }\n",
              "</style>\n",
              "<table border=\"1\" class=\"dataframe\">\n",
              "  <thead>\n",
              "    <tr style=\"text-align: right;\">\n",
              "      <th></th>\n",
              "      <th>min</th>\n",
              "      <th>max</th>\n",
              "    </tr>\n",
              "    <tr>\n",
              "      <th>N_CLUSTERS</th>\n",
              "      <th></th>\n",
              "      <th></th>\n",
              "    </tr>\n",
              "  </thead>\n",
              "  <tbody>\n",
              "    <tr>\n",
              "      <th>10</th>\n",
              "      <td>0.273973</td>\n",
              "      <td>0.544554</td>\n",
              "    </tr>\n",
              "    <tr>\n",
              "      <th>25</th>\n",
              "      <td>0.390909</td>\n",
              "      <td>0.520548</td>\n",
              "    </tr>\n",
              "    <tr>\n",
              "      <th>50</th>\n",
              "      <td>0.423810</td>\n",
              "      <td>0.527523</td>\n",
              "    </tr>\n",
              "    <tr>\n",
              "      <th>100</th>\n",
              "      <td>0.400000</td>\n",
              "      <td>0.500000</td>\n",
              "    </tr>\n",
              "    <tr>\n",
              "      <th>200</th>\n",
              "      <td>0.450450</td>\n",
              "      <td>0.528497</td>\n",
              "    </tr>\n",
              "    <tr>\n",
              "      <th>300</th>\n",
              "      <td>0.439394</td>\n",
              "      <td>0.545946</td>\n",
              "    </tr>\n",
              "    <tr>\n",
              "      <th>400</th>\n",
              "      <td>0.427746</td>\n",
              "      <td>0.598765</td>\n",
              "    </tr>\n",
              "    <tr>\n",
              "      <th>500</th>\n",
              "      <td>0.248366</td>\n",
              "      <td>0.655462</td>\n",
              "    </tr>\n",
              "    <tr>\n",
              "      <th>600</th>\n",
              "      <td>0.338129</td>\n",
              "      <td>0.633333</td>\n",
              "    </tr>\n",
              "    <tr>\n",
              "      <th>700</th>\n",
              "      <td>0.392523</td>\n",
              "      <td>0.600000</td>\n",
              "    </tr>\n",
              "    <tr>\n",
              "      <th>1500</th>\n",
              "      <td>0.158537</td>\n",
              "      <td>0.783505</td>\n",
              "    </tr>\n",
              "  </tbody>\n",
              "</table>\n",
              "</div>\n",
              "      <button class=\"colab-df-convert\" onclick=\"convertToInteractive('df-e1c83d9b-68c5-430c-b176-4912bea03a35')\"\n",
              "              title=\"Convert this dataframe to an interactive table.\"\n",
              "              style=\"display:none;\">\n",
              "        \n",
              "  <svg xmlns=\"http://www.w3.org/2000/svg\" height=\"24px\"viewBox=\"0 0 24 24\"\n",
              "       width=\"24px\">\n",
              "    <path d=\"M0 0h24v24H0V0z\" fill=\"none\"/>\n",
              "    <path d=\"M18.56 5.44l.94 2.06.94-2.06 2.06-.94-2.06-.94-.94-2.06-.94 2.06-2.06.94zm-11 1L8.5 8.5l.94-2.06 2.06-.94-2.06-.94L8.5 2.5l-.94 2.06-2.06.94zm10 10l.94 2.06.94-2.06 2.06-.94-2.06-.94-.94-2.06-.94 2.06-2.06.94z\"/><path d=\"M17.41 7.96l-1.37-1.37c-.4-.4-.92-.59-1.43-.59-.52 0-1.04.2-1.43.59L10.3 9.45l-7.72 7.72c-.78.78-.78 2.05 0 2.83L4 21.41c.39.39.9.59 1.41.59.51 0 1.02-.2 1.41-.59l7.78-7.78 2.81-2.81c.8-.78.8-2.07 0-2.86zM5.41 20L4 18.59l7.72-7.72 1.47 1.35L5.41 20z\"/>\n",
              "  </svg>\n",
              "      </button>\n",
              "      \n",
              "  <style>\n",
              "    .colab-df-container {\n",
              "      display:flex;\n",
              "      flex-wrap:wrap;\n",
              "      gap: 12px;\n",
              "    }\n",
              "\n",
              "    .colab-df-convert {\n",
              "      background-color: #E8F0FE;\n",
              "      border: none;\n",
              "      border-radius: 50%;\n",
              "      cursor: pointer;\n",
              "      display: none;\n",
              "      fill: #1967D2;\n",
              "      height: 32px;\n",
              "      padding: 0 0 0 0;\n",
              "      width: 32px;\n",
              "    }\n",
              "\n",
              "    .colab-df-convert:hover {\n",
              "      background-color: #E2EBFA;\n",
              "      box-shadow: 0px 1px 2px rgba(60, 64, 67, 0.3), 0px 1px 3px 1px rgba(60, 64, 67, 0.15);\n",
              "      fill: #174EA6;\n",
              "    }\n",
              "\n",
              "    [theme=dark] .colab-df-convert {\n",
              "      background-color: #3B4455;\n",
              "      fill: #D2E3FC;\n",
              "    }\n",
              "\n",
              "    [theme=dark] .colab-df-convert:hover {\n",
              "      background-color: #434B5C;\n",
              "      box-shadow: 0px 1px 3px 1px rgba(0, 0, 0, 0.15);\n",
              "      filter: drop-shadow(0px 1px 2px rgba(0, 0, 0, 0.3));\n",
              "      fill: #FFFFFF;\n",
              "    }\n",
              "  </style>\n",
              "\n",
              "      <script>\n",
              "        const buttonEl =\n",
              "          document.querySelector('#df-e1c83d9b-68c5-430c-b176-4912bea03a35 button.colab-df-convert');\n",
              "        buttonEl.style.display =\n",
              "          google.colab.kernel.accessAllowed ? 'block' : 'none';\n",
              "\n",
              "        async function convertToInteractive(key) {\n",
              "          const element = document.querySelector('#df-e1c83d9b-68c5-430c-b176-4912bea03a35');\n",
              "          const dataTable =\n",
              "            await google.colab.kernel.invokeFunction('convertToInteractive',\n",
              "                                                     [key], {});\n",
              "          if (!dataTable) return;\n",
              "\n",
              "          const docLinkHtml = 'Like what you see? Visit the ' +\n",
              "            '<a target=\"_blank\" href=https://colab.research.google.com/notebooks/data_table.ipynb>data table notebook</a>'\n",
              "            + ' to learn more about interactive tables.';\n",
              "          element.innerHTML = '';\n",
              "          dataTable['output_type'] = 'display_data';\n",
              "          await google.colab.output.renderOutput(dataTable, element);\n",
              "          const docLink = document.createElement('div');\n",
              "          docLink.innerHTML = docLinkHtml;\n",
              "          element.appendChild(docLink);\n",
              "        }\n",
              "      </script>\n",
              "    </div>\n",
              "  </div>\n",
              "  "
            ],
            "text/plain": [
              "                 min       max\n",
              "N_CLUSTERS                    \n",
              "10          0.273973  0.544554\n",
              "25          0.390909  0.520548\n",
              "50          0.423810  0.527523\n",
              "100         0.400000  0.500000\n",
              "200         0.450450  0.528497\n",
              "300         0.439394  0.545946\n",
              "400         0.427746  0.598765\n",
              "500         0.248366  0.655462\n",
              "600         0.338129  0.633333\n",
              "700         0.392523  0.600000\n",
              "1500        0.158537  0.783505"
            ]
          },
          "execution_count": 20,
          "metadata": {},
          "output_type": "execute_result"
        }
      ],
      "source": [
        "data_fra.groupby([\"N_CLUSTERS\"])[\"WIN_RATE\"].agg(['min', 'max'])"
      ]
    },
    {
      "cell_type": "code",
      "execution_count": null,
      "metadata": {
        "colab": {
          "base_uri": "https://localhost:8080/",
          "height": 563
        },
        "id": "KmIby4A6zTtF",
        "outputId": "4ea8f0bc-1f76-4e06-9fde-33f8a5390d0e"
      },
      "outputs": [
        {
          "data": {
            "text/html": [
              "<html>\n",
              "<head><meta charset=\"utf-8\" /></head>\n",
              "<body>\n",
              "    <div>            <script src=\"https://cdnjs.cloudflare.com/ajax/libs/mathjax/2.7.5/MathJax.js?config=TeX-AMS-MML_SVG\"></script><script type=\"text/javascript\">if (window.MathJax) {MathJax.Hub.Config({SVG: {font: \"STIX-Web\"}});}</script>                <script type=\"text/javascript\">window.PlotlyConfig = {MathJaxConfig: 'local'};</script>\n",
              "        <script src=\"https://cdn.plot.ly/plotly-2.8.3.min.js\"></script>                <div id=\"f88dc8e2-4f66-4a9c-bacf-a7cd6efbfb49\" class=\"plotly-graph-div\" style=\"height:525px; width:100%;\"></div>            <script type=\"text/javascript\">                                    window.PLOTLYENV=window.PLOTLYENV || {};                                    if (document.getElementById(\"f88dc8e2-4f66-4a9c-bacf-a7cd6efbfb49\")) {                    Plotly.newPlot(                        \"f88dc8e2-4f66-4a9c-bacf-a7cd6efbfb49\",                        [{\"hovertemplate\":\"N_CLUSTERS=%{x}<br>RETURN=%{y}<br>SHARPE=%{marker.color}<extra></extra>\",\"legendgroup\":\"\",\"marker\":{\"color\":[0.3064033581066899,-2.5558460955986173,-3.617791089071972,-3.083313439969788,3.521555274635591,-3.014613223270324,1.2679752748821014,2.5865816006749744,-2.8045770456964605,-3.0413154847082344,-2.4673090337651207,1.402541425523591,3.38119816899855,3.22186312158305,-2.183207484140687,-1.25709151396219,-1.638795318591234,2.655492477188294,-1.980432990022539,3.1713744927452963,-2.698700456665995,-1.3156692931683844,-2.6615541203669286,-0.912100000449502,-2.886812841213585,-1.3133944542212337,-1.3587528515901337,-0.520458421049097,-2.8805670079724446,-2.3160157861159245,-1.2807778669206324,-3.003034578289324,-2.5930415334637686,-2.0827632932885107,-2.068592873274927,-1.0672284822071822,-2.3470759217845325,0.197937907655119,-3.4015863600128977,3.593833868742048,-2.015708396285479,-2.9920811720119844,-2.2872845466568514,-2.8940047959440576,-2.4097351557196545,-2.373081120340032,-1.042895558329555,-0.3796809430913974,-0.1082198930213273,0.1767591160385636,-2.66740446013514,-3.21851343841075,1.345739467910381,2.1470658047844258,-3.1030198848297044,-0.9619098499721228,-2.870274503909004,-1.6504711770938152,-1.459469820219236,-2.5040442870670376,-1.559818026663507,-2.8083487401590994,1.778768951994287,-1.3790454672769146,-2.391383447561357,-2.0537131654613785,-2.20718918583181,-0.4823911554467862,-3.3277527327584786,1.94704840227836,-2.660330651938375,2.9706930378603635,-2.156525024789336,-2.313588805866823,3.749583220270668,-3.30609963972131,-3.079640883236849,-2.4623509843071942,-3.376644278254964,3.3433075668438343,2.2559354931323456,1.5858295897555683,-0.6370854955438475,2.500809387986508,-3.112619803839153,-2.995888086108758,-1.395579083619949,3.485508103530774,-1.7218661383803435,-2.5305876283974085,-1.818577338587526,-2.54920102035195,-3.25600421425875,-2.800581083022444,-3.41402730631086,-1.831700972885896,-2.5168394214722505,-2.0611074156028484,-2.8186184351675703,-1.61568150663538,-2.144842898712384,-2.58527206418174,-2.482292004122649,1.4348482206754176,2.154516301633492,-1.9340007029218464,-2.652344941988662,-2.544329751276496,1.1511820599311913,-2.665820450367662,-2.93022166677239,-1.5235010516475007,2.446648739322625,1.5862912998242256,0.404842959274424,0.6428724183833864,-3.3212883709126,3.557100825165173,-2.9505366310570187,-2.8168251173060983,-2.205039247624103,-2.7664805846894525,-3.018994064277746,1.185174869876369,-2.215693436971853,-0.8995160383920611,-2.911283893006841,0.8071983044571027,-2.487144168136461,-0.964609703365402,-2.633492749872233,-2.835718023921761,-2.562385506502308,-1.2579304097469317,-2.166622388079107,1.8737440128613487,0.3717340675741786,-2.2576254603272337,1.685430268415659,-3.469811123859448,-2.5096775677182976,-0.0420164630566999,-3.046465688394071,3.600987394477962,0.1872845374442105,3.649672424679772,-3.0223962584462263,3.5731833681796923,-2.2100205036553087,-2.7171521819088893,-2.810103741770273,-3.200966352667181,-2.925335854287519,-2.824096324984437,-0.8376587028452382,-1.3249784369758382,-2.799541065796591,-0.3855168388465874,-2.5505350246949243,-2.9550261456041658,-3.1078934939451845,-2.627550928910924,0.8354336823911297,-2.84100342667122,0.6767070545945024,-0.4168450445433059,3.544595882995923,-2.758480088804108,-3.510996134871218,2.72959718132164,0.0429165607309762,-1.8203491278898647,-0.3014354613533841,-3.328593160327527,-3.426322180455048,-3.25720296793864,-3.0959779235823937,-3.500786410740745,-3.4868562296888945,-2.298210961731068,-3.4678801196850544,-2.8490134651422863,-3.343497981328005,3.613882687622768,-3.425854480194111,-3.2885935200461187,-3.1099755674439766,-1.3275138442162664,-3.206061080678048,2.3047717659855587,-2.8853739663485074,-3.3695348852681604,-2.0812291151990747,-2.937217711017082,-3.4906482240248717,-2.3651978687373902,-2.6443105468151447,0.6861897995360243,-0.8849104172918935,0.7208068577282265,-2.845236313215059,-2.7630086431994085,-2.309729495943617,-3.2108664102840607,-2.618203118460465,-2.924315733076833,-2.401672780974868,-2.9587883472501417,-2.7002358039894463,-0.869797898161307,-3.0185889879355057,-3.221058928283143,1.4196956143951371,-2.184383794448822,-2.465615965706748,-3.0064753597257656,-2.7005023071671403,-2.42687410062228,-1.090791125195671,-1.7876180308605725,-1.9298251538474644,-2.901973701951716,-1.6745723657584792,-1.6520945326644405,-1.5663771909636446,-2.47469747536812,4.109990501203985,-1.9473298994862944,1.407161997286421,-2.7185141031288254,-2.4859762408156776,-2.9024241819200043,-2.278589781045328,-1.191546546106386,-1.795826700501559,-3.14909089600138,-2.384302610689003,-2.73347102352545,-2.370022576344527,-1.8414124863965764,2.2160114384741183,0.3654751024279662,3.521028571981208,-3.2753783669319096,-3.2237287890373665,1.239442764868258,3.614357590385429,0.7296499049417972,-3.2600362216066934,-1.207211890614339,-1.5824933381937896,-2.8042286640229834,-3.5340159527609587,-3.609282575657754,-3.436793955310385,-2.271683920751728,3.811498665928879,-1.035366927438371,0.2475397426533725,-0.8788090366782009,2.3845384019197806,3.714401417207421,3.320179660269353,3.810201839199505],\"coloraxis\":\"coloraxis\",\"symbol\":\"circle\"},\"mode\":\"markers\",\"name\":\"\",\"orientation\":\"v\",\"showlegend\":false,\"x\":[500,500,500,500,500,500,500,500,700,700,700,700,700,700,700,700,700,700,500,500,500,500,500,100,100,100,100,100,100,100,100,100,100,200,200,200,200,200,500,500,500,500,200,200,200,200,200,200,200,200,200,200,300,300,300,300,300,300,400,400,400,400,400,400,400,400,400,400,500,500,500,500,500,500,500,600,600,600,600,600,600,600,600,600,600,700,700,700,700,100,100,100,100,100,100,100,100,100,100,100,100,100,100,200,200,200,200,200,200,200,200,200,300,300,300,300,300,300,300,300,300,300,300,300,300,300,300,300,300,300,400,400,400,400,400,400,400,400,400,400,400,400,400,400,600,600,600,600,600,600,600,600,600,600,600,600,600,600,700,700,700,700,700,700,700,700,700,700,10,10,10,10,10,10,10,10,10,10,10,10,10,10,10,10,10,10,10,10,10,10,10,10,25,25,25,25,25,25,25,25,25,25,25,25,25,25,25,25,25,25,25,25,25,25,25,25,50,50,50,50,50,50,50,50,50,50,50,50,50,50,50,50,50,50,50,50,50,50,50,50,1500,1500,1500,1500,1500,1500,1500,1500,1500,1500,1500,1500,1500,1500,1500,1500,1500,1500,1500,1500,1500,1500,1500,1500],\"xaxis\":\"x\",\"y\":[2.2191860502776883,-14.984677068135444,-18.787358373318664,-23.393952657961293,41.59602038364152,-23.670185324950467,5.260067258068846,13.887273558136526,-16.829330102659355,-11.706651339631724,-16.62495329146827,5.080548797034767,17.34584608355312,28.8104770523433,-12.403441734396491,-4.770552614283707,-9.647390605169626,15.280091990781308,-13.060214269033231,28.865166014517605,-22.4918994942769,-5.027640846955983,-11.478254392130182,-4.062239086330333,-38.82103074010585,-4.242725344113351,-4.89329072245166,-1.0945043087653985,-19.4653955978562,-13.69609607994401,-5.141439362068434,-20.56689670915548,-17.454459463313587,-10.419724332449777,-11.203635298615666,-3.596641600380479,-15.988900737788436,1.8130769774582056,-57.04806828357268,33.71685079258447,-5.629924551165589,-27.264667863261906,-9.961002882922887,-22.03886830616888,-17.81395401137711,-14.792659135360186,-3.5645877099360845,-0.2601871324502181,0.5835804785085719,1.7103230380128842,-15.189335270418436,-24.23531374945005,5.579168262356071,10.9898176065081,-21.50487205404532,-3.021414613931228,-18.523816270085657,-6.936294143130917,-4.1943099315040815,-20.24421286577628,-5.536131472771288,-24.569016374343,10.989669327961282,-4.736078712686309,-13.21249420220102,-8.234304114263491,-12.852322251775872,-0.3786787501034894,-52.987387061460645,9.07102316189292,-15.332425096298309,12.169855350972725,-8.433415201384054,-14.184494632417357,20.989765663773376,-24.495232227409545,-18.205280834993744,-10.713556589755813,-41.50840578305295,34.22242809035936,13.332960168206354,6.894026639505202,-1.7657429191026863,9.492779401963558,-35.83984479983694,-20.00437191272185,-4.355174783677751,25.576497241707877,-4.584415216266391,-17.86845584498822,-8.648894676488483,-12.419279528517604,-17.00315537388517,-15.039745984644492,-30.006881547510226,-8.453459051465195,-11.213685947775057,-9.398239564695066,-16.987127517015555,-7.887859819079656,-10.02804387197509,-12.506103149365178,-15.744524291113438,7.314382006807341,11.14358011783474,-10.852401122930033,-19.34523592674171,-16.615105021568745,5.178440768094705,-13.134753904468276,-23.47203796955885,-7.321109287040828,10.747852718481532,6.674528909234434,2.813759481264721,3.483744402365474,-20.972848681274293,17.870998775572346,-18.59555031974186,-23.746149789067584,-11.15922015519728,-23.618193312301,-18.03916945644689,4.82869275781741,-10.149092674039606,-2.5429525576149192,-24.079630433535293,4.130029040534122,-11.507749550492374,-2.05981339150898,-19.539663272010287,-23.11188948362206,-10.92321177709552,-4.017864836995599,-13.263986832446406,10.22669002735248,2.266442838687799,-12.465345407995144,7.261744954587757,-25.03493963854544,-10.748928425596771,0.8577915214525555,-23.81150141816478,49.365222166810256,1.643786002459957,32.323823174537324,-25.48057215808287,25.747040275635168,-11.713452676720737,-18.94326408767841,-10.531062688477554,-29.485926845612187,-30.224805261351666,-25.970013883460663,-2.3871587038166497,-3.749593170844912,-12.689696027177156,-0.5823387454335083,-13.55868410100496,-35.28877926351479,-23.468658473273653,-12.906193701646984,3.3673304781351776,-8.850302371223219,3.153643368733894,-0.5284281671885882,26.43582966895321,-23.530542073555416,-65.36112878899189,12.676962493101996,1.144325613581132,-7.058456487095088,-0.3469957020018954,-42.142527180764176,-56.49742679718226,-49.17479774002776,-38.104863444018186,-59.14704153957483,-55.99348757119918,-9.184608520103376,-47.968534353739486,-16.509104581038812,-46.41897077429304,19.7227974203954,-53.3999292989197,-37.13888360222772,-49.19690652024945,-4.607305235120307,-49.15552236896662,10.395893104341813,-16.534636042533524,-41.46460507374149,-13.393289635475869,-10.227626633700682,-43.09387073926496,-14.660077343245725,-19.88025821217584,3.464347216731212,-2.048140040026658,3.606561904940953,-12.571606161879412,-15.031781693408853,-11.889383461249793,-41.8680972430947,-17.47125805607347,-27.88522448576144,-13.321476881310568,-20.24732057491313,-21.61698994606572,-2.5830282742996147,-22.33171098636232,-41.49612226059195,6.893108531679992,-13.214840595512056,-14.792135709248488,-29.672033798419093,-17.4885646325737,-12.51450804620945,-4.521857688524056,-7.87754914568729,-7.604104950554868,-24.952001232566367,-7.202614889350601,-6.131666551735782,-7.651062422222099,-17.69145287925865,20.21690711362625,-7.987660986465428,5.631379407992876,-16.48961957158828,-14.051754914704862,-16.264328279245742,-10.35189713688741,-4.378112172415449,-9.46829671720606,-36.16687076941592,-12.926788803096157,-18.044394030658705,-11.494305421176756,-8.62411702739706,8.962373539614399,2.119502637022186,29.39530900455505,-36.45455999758308,-45.25945555209785,3.586383141001459,75.94527297136719,3.031458130666476,-31.915834329175564,-2.9072656183545376,-5.387886931838937,-8.560880337804445,-44.07753598823548,-20.64439593599703,-30.932926542929152,-15.261578252490027,43.91274744751041,-2.618084638301399,1.6329249390416356,-1.5815314415465909,11.61312089556674,34.37715579611731,53.9855812572372,18.084829208328635],\"yaxis\":\"y\",\"type\":\"scatter\"},{\"line\":{\"color\":\"black\"},\"mode\":\"lines\",\"showlegend\":false,\"x\":[10,25,50,100,200,300,400,500,700,1500],\"y\":[-36.85735306469828,-24.10179065171327,-18.214415096237992,-21.07309392270888,-16.46553294063752,-13.852037333777886,-14.125751645559792,-13.712919893535306,-15.155826008855474,-11.546596901367934,-5.919416548363155],\"type\":\"scatter\"}],                        {\"template\":{\"data\":{\"bar\":[{\"error_x\":{\"color\":\"#2a3f5f\"},\"error_y\":{\"color\":\"#2a3f5f\"},\"marker\":{\"line\":{\"color\":\"#E5ECF6\",\"width\":0.5},\"pattern\":{\"fillmode\":\"overlay\",\"size\":10,\"solidity\":0.2}},\"type\":\"bar\"}],\"barpolar\":[{\"marker\":{\"line\":{\"color\":\"#E5ECF6\",\"width\":0.5},\"pattern\":{\"fillmode\":\"overlay\",\"size\":10,\"solidity\":0.2}},\"type\":\"barpolar\"}],\"carpet\":[{\"aaxis\":{\"endlinecolor\":\"#2a3f5f\",\"gridcolor\":\"white\",\"linecolor\":\"white\",\"minorgridcolor\":\"white\",\"startlinecolor\":\"#2a3f5f\"},\"baxis\":{\"endlinecolor\":\"#2a3f5f\",\"gridcolor\":\"white\",\"linecolor\":\"white\",\"minorgridcolor\":\"white\",\"startlinecolor\":\"#2a3f5f\"},\"type\":\"carpet\"}],\"choropleth\":[{\"colorbar\":{\"outlinewidth\":0,\"ticks\":\"\"},\"type\":\"choropleth\"}],\"contour\":[{\"colorbar\":{\"outlinewidth\":0,\"ticks\":\"\"},\"colorscale\":[[0.0,\"#0d0887\"],[0.1111111111111111,\"#46039f\"],[0.2222222222222222,\"#7201a8\"],[0.3333333333333333,\"#9c179e\"],[0.4444444444444444,\"#bd3786\"],[0.5555555555555556,\"#d8576b\"],[0.6666666666666666,\"#ed7953\"],[0.7777777777777778,\"#fb9f3a\"],[0.8888888888888888,\"#fdca26\"],[1.0,\"#f0f921\"]],\"type\":\"contour\"}],\"contourcarpet\":[{\"colorbar\":{\"outlinewidth\":0,\"ticks\":\"\"},\"type\":\"contourcarpet\"}],\"heatmap\":[{\"colorbar\":{\"outlinewidth\":0,\"ticks\":\"\"},\"colorscale\":[[0.0,\"#0d0887\"],[0.1111111111111111,\"#46039f\"],[0.2222222222222222,\"#7201a8\"],[0.3333333333333333,\"#9c179e\"],[0.4444444444444444,\"#bd3786\"],[0.5555555555555556,\"#d8576b\"],[0.6666666666666666,\"#ed7953\"],[0.7777777777777778,\"#fb9f3a\"],[0.8888888888888888,\"#fdca26\"],[1.0,\"#f0f921\"]],\"type\":\"heatmap\"}],\"heatmapgl\":[{\"colorbar\":{\"outlinewidth\":0,\"ticks\":\"\"},\"colorscale\":[[0.0,\"#0d0887\"],[0.1111111111111111,\"#46039f\"],[0.2222222222222222,\"#7201a8\"],[0.3333333333333333,\"#9c179e\"],[0.4444444444444444,\"#bd3786\"],[0.5555555555555556,\"#d8576b\"],[0.6666666666666666,\"#ed7953\"],[0.7777777777777778,\"#fb9f3a\"],[0.8888888888888888,\"#fdca26\"],[1.0,\"#f0f921\"]],\"type\":\"heatmapgl\"}],\"histogram\":[{\"marker\":{\"pattern\":{\"fillmode\":\"overlay\",\"size\":10,\"solidity\":0.2}},\"type\":\"histogram\"}],\"histogram2d\":[{\"colorbar\":{\"outlinewidth\":0,\"ticks\":\"\"},\"colorscale\":[[0.0,\"#0d0887\"],[0.1111111111111111,\"#46039f\"],[0.2222222222222222,\"#7201a8\"],[0.3333333333333333,\"#9c179e\"],[0.4444444444444444,\"#bd3786\"],[0.5555555555555556,\"#d8576b\"],[0.6666666666666666,\"#ed7953\"],[0.7777777777777778,\"#fb9f3a\"],[0.8888888888888888,\"#fdca26\"],[1.0,\"#f0f921\"]],\"type\":\"histogram2d\"}],\"histogram2dcontour\":[{\"colorbar\":{\"outlinewidth\":0,\"ticks\":\"\"},\"colorscale\":[[0.0,\"#0d0887\"],[0.1111111111111111,\"#46039f\"],[0.2222222222222222,\"#7201a8\"],[0.3333333333333333,\"#9c179e\"],[0.4444444444444444,\"#bd3786\"],[0.5555555555555556,\"#d8576b\"],[0.6666666666666666,\"#ed7953\"],[0.7777777777777778,\"#fb9f3a\"],[0.8888888888888888,\"#fdca26\"],[1.0,\"#f0f921\"]],\"type\":\"histogram2dcontour\"}],\"mesh3d\":[{\"colorbar\":{\"outlinewidth\":0,\"ticks\":\"\"},\"type\":\"mesh3d\"}],\"parcoords\":[{\"line\":{\"colorbar\":{\"outlinewidth\":0,\"ticks\":\"\"}},\"type\":\"parcoords\"}],\"pie\":[{\"automargin\":true,\"type\":\"pie\"}],\"scatter\":[{\"marker\":{\"colorbar\":{\"outlinewidth\":0,\"ticks\":\"\"}},\"type\":\"scatter\"}],\"scatter3d\":[{\"line\":{\"colorbar\":{\"outlinewidth\":0,\"ticks\":\"\"}},\"marker\":{\"colorbar\":{\"outlinewidth\":0,\"ticks\":\"\"}},\"type\":\"scatter3d\"}],\"scattercarpet\":[{\"marker\":{\"colorbar\":{\"outlinewidth\":0,\"ticks\":\"\"}},\"type\":\"scattercarpet\"}],\"scattergeo\":[{\"marker\":{\"colorbar\":{\"outlinewidth\":0,\"ticks\":\"\"}},\"type\":\"scattergeo\"}],\"scattergl\":[{\"marker\":{\"colorbar\":{\"outlinewidth\":0,\"ticks\":\"\"}},\"type\":\"scattergl\"}],\"scattermapbox\":[{\"marker\":{\"colorbar\":{\"outlinewidth\":0,\"ticks\":\"\"}},\"type\":\"scattermapbox\"}],\"scatterpolar\":[{\"marker\":{\"colorbar\":{\"outlinewidth\":0,\"ticks\":\"\"}},\"type\":\"scatterpolar\"}],\"scatterpolargl\":[{\"marker\":{\"colorbar\":{\"outlinewidth\":0,\"ticks\":\"\"}},\"type\":\"scatterpolargl\"}],\"scatterternary\":[{\"marker\":{\"colorbar\":{\"outlinewidth\":0,\"ticks\":\"\"}},\"type\":\"scatterternary\"}],\"surface\":[{\"colorbar\":{\"outlinewidth\":0,\"ticks\":\"\"},\"colorscale\":[[0.0,\"#0d0887\"],[0.1111111111111111,\"#46039f\"],[0.2222222222222222,\"#7201a8\"],[0.3333333333333333,\"#9c179e\"],[0.4444444444444444,\"#bd3786\"],[0.5555555555555556,\"#d8576b\"],[0.6666666666666666,\"#ed7953\"],[0.7777777777777778,\"#fb9f3a\"],[0.8888888888888888,\"#fdca26\"],[1.0,\"#f0f921\"]],\"type\":\"surface\"}],\"table\":[{\"cells\":{\"fill\":{\"color\":\"#EBF0F8\"},\"line\":{\"color\":\"white\"}},\"header\":{\"fill\":{\"color\":\"#C8D4E3\"},\"line\":{\"color\":\"white\"}},\"type\":\"table\"}]},\"layout\":{\"annotationdefaults\":{\"arrowcolor\":\"#2a3f5f\",\"arrowhead\":0,\"arrowwidth\":1},\"autotypenumbers\":\"strict\",\"coloraxis\":{\"colorbar\":{\"outlinewidth\":0,\"ticks\":\"\"}},\"colorscale\":{\"diverging\":[[0,\"#8e0152\"],[0.1,\"#c51b7d\"],[0.2,\"#de77ae\"],[0.3,\"#f1b6da\"],[0.4,\"#fde0ef\"],[0.5,\"#f7f7f7\"],[0.6,\"#e6f5d0\"],[0.7,\"#b8e186\"],[0.8,\"#7fbc41\"],[0.9,\"#4d9221\"],[1,\"#276419\"]],\"sequential\":[[0.0,\"#0d0887\"],[0.1111111111111111,\"#46039f\"],[0.2222222222222222,\"#7201a8\"],[0.3333333333333333,\"#9c179e\"],[0.4444444444444444,\"#bd3786\"],[0.5555555555555556,\"#d8576b\"],[0.6666666666666666,\"#ed7953\"],[0.7777777777777778,\"#fb9f3a\"],[0.8888888888888888,\"#fdca26\"],[1.0,\"#f0f921\"]],\"sequentialminus\":[[0.0,\"#0d0887\"],[0.1111111111111111,\"#46039f\"],[0.2222222222222222,\"#7201a8\"],[0.3333333333333333,\"#9c179e\"],[0.4444444444444444,\"#bd3786\"],[0.5555555555555556,\"#d8576b\"],[0.6666666666666666,\"#ed7953\"],[0.7777777777777778,\"#fb9f3a\"],[0.8888888888888888,\"#fdca26\"],[1.0,\"#f0f921\"]]},\"colorway\":[\"#636efa\",\"#EF553B\",\"#00cc96\",\"#ab63fa\",\"#FFA15A\",\"#19d3f3\",\"#FF6692\",\"#B6E880\",\"#FF97FF\",\"#FECB52\"],\"font\":{\"color\":\"#2a3f5f\"},\"geo\":{\"bgcolor\":\"white\",\"lakecolor\":\"white\",\"landcolor\":\"#E5ECF6\",\"showlakes\":true,\"showland\":true,\"subunitcolor\":\"white\"},\"hoverlabel\":{\"align\":\"left\"},\"hovermode\":\"closest\",\"mapbox\":{\"style\":\"light\"},\"paper_bgcolor\":\"white\",\"plot_bgcolor\":\"#E5ECF6\",\"polar\":{\"angularaxis\":{\"gridcolor\":\"white\",\"linecolor\":\"white\",\"ticks\":\"\"},\"bgcolor\":\"#E5ECF6\",\"radialaxis\":{\"gridcolor\":\"white\",\"linecolor\":\"white\",\"ticks\":\"\"}},\"scene\":{\"xaxis\":{\"backgroundcolor\":\"#E5ECF6\",\"gridcolor\":\"white\",\"gridwidth\":2,\"linecolor\":\"white\",\"showbackground\":true,\"ticks\":\"\",\"zerolinecolor\":\"white\"},\"yaxis\":{\"backgroundcolor\":\"#E5ECF6\",\"gridcolor\":\"white\",\"gridwidth\":2,\"linecolor\":\"white\",\"showbackground\":true,\"ticks\":\"\",\"zerolinecolor\":\"white\"},\"zaxis\":{\"backgroundcolor\":\"#E5ECF6\",\"gridcolor\":\"white\",\"gridwidth\":2,\"linecolor\":\"white\",\"showbackground\":true,\"ticks\":\"\",\"zerolinecolor\":\"white\"}},\"shapedefaults\":{\"line\":{\"color\":\"#2a3f5f\"}},\"ternary\":{\"aaxis\":{\"gridcolor\":\"white\",\"linecolor\":\"white\",\"ticks\":\"\"},\"baxis\":{\"gridcolor\":\"white\",\"linecolor\":\"white\",\"ticks\":\"\"},\"bgcolor\":\"#E5ECF6\",\"caxis\":{\"gridcolor\":\"white\",\"linecolor\":\"white\",\"ticks\":\"\"}},\"title\":{\"x\":0.05},\"xaxis\":{\"automargin\":true,\"gridcolor\":\"white\",\"linecolor\":\"white\",\"ticks\":\"\",\"title\":{\"standoff\":15},\"zerolinecolor\":\"white\",\"zerolinewidth\":2},\"yaxis\":{\"automargin\":true,\"gridcolor\":\"white\",\"linecolor\":\"white\",\"ticks\":\"\",\"title\":{\"standoff\":15},\"zerolinecolor\":\"white\",\"zerolinewidth\":2}}},\"xaxis\":{\"anchor\":\"y\",\"domain\":[0.0,1.0],\"title\":{\"text\":\"N_CLUSTERS\"}},\"yaxis\":{\"anchor\":\"x\",\"domain\":[0.0,1.0],\"title\":{\"text\":\"RETURN\"}},\"coloraxis\":{\"colorbar\":{\"title\":{\"text\":\"SHARPE\"}},\"colorscale\":[[0.0,\"#0d0887\"],[0.1111111111111111,\"#46039f\"],[0.2222222222222222,\"#7201a8\"],[0.3333333333333333,\"#9c179e\"],[0.4444444444444444,\"#bd3786\"],[0.5555555555555556,\"#d8576b\"],[0.6666666666666666,\"#ed7953\"],[0.7777777777777778,\"#fb9f3a\"],[0.8888888888888888,\"#fdca26\"],[1.0,\"#f0f921\"]]},\"legend\":{\"tracegroupgap\":0},\"title\":{\"text\":\"Return by N_clusters with benchmark(green line) and mean returns (black line)\"},\"shapes\":[{\"line\":{\"color\":\"green\",\"dash\":\"dash\"},\"type\":\"line\",\"x0\":0,\"x1\":1,\"xref\":\"x domain\",\"y0\":7.629613356766263,\"y1\":7.629613356766263,\"yref\":\"y\"},{\"fillcolor\":\"red\",\"line\":{\"width\":0},\"opacity\":0.1,\"type\":\"rect\",\"x0\":0,\"x1\":1,\"xref\":\"x domain\",\"y0\":-75.36112878899189,\"y1\":7.629613356766263,\"yref\":\"y\"}]},                        {\"responsive\": true}                    ).then(function(){\n",
              "                            \n",
              "var gd = document.getElementById('f88dc8e2-4f66-4a9c-bacf-a7cd6efbfb49');\n",
              "var x = new MutationObserver(function (mutations, observer) {{\n",
              "        var display = window.getComputedStyle(gd).display;\n",
              "        if (!display || display === 'none') {{\n",
              "            console.log([gd, 'removed!']);\n",
              "            Plotly.purge(gd);\n",
              "            observer.disconnect();\n",
              "        }}\n",
              "}});\n",
              "\n",
              "// Listen for the removal of the full notebook cells\n",
              "var notebookContainer = gd.closest('#notebook-container');\n",
              "if (notebookContainer) {{\n",
              "    x.observe(notebookContainer, {childList: true});\n",
              "}}\n",
              "\n",
              "// Listen for the clearing of the current output cell\n",
              "var outputEl = gd.closest('.output');\n",
              "if (outputEl) {{\n",
              "    x.observe(outputEl, {childList: true});\n",
              "}}\n",
              "\n",
              "                        })                };                            </script>        </div>\n",
              "</body>\n",
              "</html>"
            ]
          },
          "metadata": {},
          "output_type": "display_data"
        }
      ],
      "source": [
        "fig = px.scatter(data_fra, x=\"N_CLUSTERS\", y=\"RETURN\", color=\"SHARPE\", title=\"Return by N_clusters with benchmark(green line) and mean returns (black line)\")\n",
        "\n",
        "fig.add_hline(y=data_fra[\"BENCHMARK_RETURN\"][0], line_dash=\"dash\", line_color=\"green\")\n",
        "fig.add_hrect(y0=data_fra[\"RETURN\"].min()-10, y1=data_fra[\"BENCHMARK_RETURN\"][0], line_width=0, fillcolor=\"red\", opacity=0.1)\n",
        "fig.add_trace(go.Scatter(x=[10,25,50,100,200,300,400,500,700,1500],\n",
        "                            y=means_by_clusters_minus_bench,\n",
        "                            mode=\"lines\",\n",
        "                            line=go.scatter.Line(color=\"black\"),\n",
        "                            showlegend=False))\n",
        "fig.show()"
      ]
    },
    {
      "cell_type": "markdown",
      "metadata": {
        "id": "BGMHv2IBzhBn"
      },
      "source": [
        "# New PnL FRA40"
      ]
    },
    {
      "cell_type": "code",
      "execution_count": null,
      "metadata": {
        "id": "jxFUsop_CyBM"
      },
      "outputs": [],
      "source": []
    },
    {
      "cell_type": "code",
      "execution_count": null,
      "metadata": {
        "id": "8Dpa7bloCxZE"
      },
      "outputs": [],
      "source": []
    },
    {
      "cell_type": "code",
      "execution_count": null,
      "metadata": {
        "id": "zvQ2AdRSzhmu"
      },
      "outputs": [],
      "source": [
        "data_fra_new_pnl = pd.read_csv('/content/gdrive/MyDrive/Data /FRA40_New_PNL.csv')"
      ]
    },
    {
      "cell_type": "code",
      "execution_count": null,
      "metadata": {
        "colab": {
          "base_uri": "https://localhost:8080/",
          "height": 562
        },
        "id": "_ZBKjARw3P6w",
        "outputId": "38a37ad9-be5e-48e8-a280-44c8682918d9"
      },
      "outputs": [
        {
          "data": {
            "text/html": [
              "<html>\n",
              "<head><meta charset=\"utf-8\" /></head>\n",
              "<body>\n",
              "    <div>            <script src=\"https://cdnjs.cloudflare.com/ajax/libs/mathjax/2.7.5/MathJax.js?config=TeX-AMS-MML_SVG\"></script><script type=\"text/javascript\">if (window.MathJax) {MathJax.Hub.Config({SVG: {font: \"STIX-Web\"}});}</script>                <script type=\"text/javascript\">window.PlotlyConfig = {MathJaxConfig: 'local'};</script>\n",
              "        <script src=\"https://cdn.plot.ly/plotly-2.8.3.min.js\"></script>                <div id=\"5ede88cf-c27f-4078-8f1b-38ef3db5cfc7\" class=\"plotly-graph-div\" style=\"height:525px; width:100%;\"></div>            <script type=\"text/javascript\">                                    window.PLOTLYENV=window.PLOTLYENV || {};                                    if (document.getElementById(\"5ede88cf-c27f-4078-8f1b-38ef3db5cfc7\")) {                    Plotly.newPlot(                        \"5ede88cf-c27f-4078-8f1b-38ef3db5cfc7\",                        [{\"hovertemplate\":\"N_CLUSTERS=%{x}<br>RETURN=%{y}<br>SHARPE=%{marker.color}<extra></extra>\",\"legendgroup\":\"\",\"marker\":{\"color\":[3.3345334424884103,2.6448726404946026,2.994393294109239,3.0613064540512767,3.120655047723265,2.795199467740474,1.856369524385381,2.915339644634307,2.7033397015788063,2.9595367307238103,2.6880474660345515,2.91775398400634,3.056549146592833,2.8523894447393308,2.980167756189652,3.0155513251742185,2.843571347024027,3.121883982782015,3.011748234258869,2.7942132627708585,2.8980220674376715,2.752698329443195,2.758742753532945,2.9161614602346755,3.101021618366399,3.1099302920033978,2.948991206381308,2.8996008071878,2.9236518738365778,2.9524925184531625,2.680775451330979,3.070353916090207,2.92280396386312,2.662505708536438,2.562339243847486,2.985902335697081,3.0122809153604466,3.257000607908457,3.1446247259689866,2.988403703751459,2.898465842459369,2.9323337482945844,2.9527608575616697,2.6942216777925525,2.3803403175216644,3.065811775049127,3.123610676261409,2.980873366952268,2.6099398445857043,2.668944415216325,3.078181325494621,3.0817264346881186,2.637667243170221,2.701656393054482],\"coloraxis\":\"coloraxis\",\"symbol\":\"circle\"},\"mode\":\"markers\",\"name\":\"\",\"orientation\":\"v\",\"showlegend\":false,\"x\":[10,10,10,10,10,25,25,25,25,25,50,50,50,50,50,100,100,100,100,100,100,100,200,200,200,200,200,200,200,200,200,300,300,300,300,300,400,400,400,400,500,500,500,500,700,700,700,700,700,1500,1500,1500,1500,1500],\"xaxis\":\"x\",\"y\":[18.289040323634364,23.97998108735033,23.98568655677129,27.505719181615195,29.21707280240835,22.95076064448409,5.7053466488202975,22.0415708306682,20.05266529486189,20.22128403507853,18.38536398385373,24.215999230666284,23.40401611358672,30.92862602717608,22.39337936000312,30.660271456989243,21.091166737388424,24.97042437641357,20.768927750442145,24.12371250465064,21.17040381393529,23.12401471712335,21.36551900197841,25.60066994107022,27.999150131048324,26.27061042108656,19.574060989742435,21.16728027132895,24.63224438734466,25.411605959801808,21.396784466415266,27.05505808479398,22.94697417432081,14.321005595384296,14.14112025785872,22.98290319438745,28.33986249795455,24.74396951341584,25.03655904524369,22.033980353416418,12.9960723478042,21.748824489659647,25.54326771338593,18.86240908544261,14.445349625135773,26.04581205654306,26.945612629620783,21.798017406422552,17.02084895475844,16.13741117979146,18.03540116544193,18.697048054000163,14.57348070934521,16.801029765515473],\"yaxis\":\"y\",\"type\":\"scatter\"}],                        {\"template\":{\"data\":{\"bar\":[{\"error_x\":{\"color\":\"#2a3f5f\"},\"error_y\":{\"color\":\"#2a3f5f\"},\"marker\":{\"line\":{\"color\":\"#E5ECF6\",\"width\":0.5},\"pattern\":{\"fillmode\":\"overlay\",\"size\":10,\"solidity\":0.2}},\"type\":\"bar\"}],\"barpolar\":[{\"marker\":{\"line\":{\"color\":\"#E5ECF6\",\"width\":0.5},\"pattern\":{\"fillmode\":\"overlay\",\"size\":10,\"solidity\":0.2}},\"type\":\"barpolar\"}],\"carpet\":[{\"aaxis\":{\"endlinecolor\":\"#2a3f5f\",\"gridcolor\":\"white\",\"linecolor\":\"white\",\"minorgridcolor\":\"white\",\"startlinecolor\":\"#2a3f5f\"},\"baxis\":{\"endlinecolor\":\"#2a3f5f\",\"gridcolor\":\"white\",\"linecolor\":\"white\",\"minorgridcolor\":\"white\",\"startlinecolor\":\"#2a3f5f\"},\"type\":\"carpet\"}],\"choropleth\":[{\"colorbar\":{\"outlinewidth\":0,\"ticks\":\"\"},\"type\":\"choropleth\"}],\"contour\":[{\"colorbar\":{\"outlinewidth\":0,\"ticks\":\"\"},\"colorscale\":[[0.0,\"#0d0887\"],[0.1111111111111111,\"#46039f\"],[0.2222222222222222,\"#7201a8\"],[0.3333333333333333,\"#9c179e\"],[0.4444444444444444,\"#bd3786\"],[0.5555555555555556,\"#d8576b\"],[0.6666666666666666,\"#ed7953\"],[0.7777777777777778,\"#fb9f3a\"],[0.8888888888888888,\"#fdca26\"],[1.0,\"#f0f921\"]],\"type\":\"contour\"}],\"contourcarpet\":[{\"colorbar\":{\"outlinewidth\":0,\"ticks\":\"\"},\"type\":\"contourcarpet\"}],\"heatmap\":[{\"colorbar\":{\"outlinewidth\":0,\"ticks\":\"\"},\"colorscale\":[[0.0,\"#0d0887\"],[0.1111111111111111,\"#46039f\"],[0.2222222222222222,\"#7201a8\"],[0.3333333333333333,\"#9c179e\"],[0.4444444444444444,\"#bd3786\"],[0.5555555555555556,\"#d8576b\"],[0.6666666666666666,\"#ed7953\"],[0.7777777777777778,\"#fb9f3a\"],[0.8888888888888888,\"#fdca26\"],[1.0,\"#f0f921\"]],\"type\":\"heatmap\"}],\"heatmapgl\":[{\"colorbar\":{\"outlinewidth\":0,\"ticks\":\"\"},\"colorscale\":[[0.0,\"#0d0887\"],[0.1111111111111111,\"#46039f\"],[0.2222222222222222,\"#7201a8\"],[0.3333333333333333,\"#9c179e\"],[0.4444444444444444,\"#bd3786\"],[0.5555555555555556,\"#d8576b\"],[0.6666666666666666,\"#ed7953\"],[0.7777777777777778,\"#fb9f3a\"],[0.8888888888888888,\"#fdca26\"],[1.0,\"#f0f921\"]],\"type\":\"heatmapgl\"}],\"histogram\":[{\"marker\":{\"pattern\":{\"fillmode\":\"overlay\",\"size\":10,\"solidity\":0.2}},\"type\":\"histogram\"}],\"histogram2d\":[{\"colorbar\":{\"outlinewidth\":0,\"ticks\":\"\"},\"colorscale\":[[0.0,\"#0d0887\"],[0.1111111111111111,\"#46039f\"],[0.2222222222222222,\"#7201a8\"],[0.3333333333333333,\"#9c179e\"],[0.4444444444444444,\"#bd3786\"],[0.5555555555555556,\"#d8576b\"],[0.6666666666666666,\"#ed7953\"],[0.7777777777777778,\"#fb9f3a\"],[0.8888888888888888,\"#fdca26\"],[1.0,\"#f0f921\"]],\"type\":\"histogram2d\"}],\"histogram2dcontour\":[{\"colorbar\":{\"outlinewidth\":0,\"ticks\":\"\"},\"colorscale\":[[0.0,\"#0d0887\"],[0.1111111111111111,\"#46039f\"],[0.2222222222222222,\"#7201a8\"],[0.3333333333333333,\"#9c179e\"],[0.4444444444444444,\"#bd3786\"],[0.5555555555555556,\"#d8576b\"],[0.6666666666666666,\"#ed7953\"],[0.7777777777777778,\"#fb9f3a\"],[0.8888888888888888,\"#fdca26\"],[1.0,\"#f0f921\"]],\"type\":\"histogram2dcontour\"}],\"mesh3d\":[{\"colorbar\":{\"outlinewidth\":0,\"ticks\":\"\"},\"type\":\"mesh3d\"}],\"parcoords\":[{\"line\":{\"colorbar\":{\"outlinewidth\":0,\"ticks\":\"\"}},\"type\":\"parcoords\"}],\"pie\":[{\"automargin\":true,\"type\":\"pie\"}],\"scatter\":[{\"marker\":{\"colorbar\":{\"outlinewidth\":0,\"ticks\":\"\"}},\"type\":\"scatter\"}],\"scatter3d\":[{\"line\":{\"colorbar\":{\"outlinewidth\":0,\"ticks\":\"\"}},\"marker\":{\"colorbar\":{\"outlinewidth\":0,\"ticks\":\"\"}},\"type\":\"scatter3d\"}],\"scattercarpet\":[{\"marker\":{\"colorbar\":{\"outlinewidth\":0,\"ticks\":\"\"}},\"type\":\"scattercarpet\"}],\"scattergeo\":[{\"marker\":{\"colorbar\":{\"outlinewidth\":0,\"ticks\":\"\"}},\"type\":\"scattergeo\"}],\"scattergl\":[{\"marker\":{\"colorbar\":{\"outlinewidth\":0,\"ticks\":\"\"}},\"type\":\"scattergl\"}],\"scattermapbox\":[{\"marker\":{\"colorbar\":{\"outlinewidth\":0,\"ticks\":\"\"}},\"type\":\"scattermapbox\"}],\"scatterpolar\":[{\"marker\":{\"colorbar\":{\"outlinewidth\":0,\"ticks\":\"\"}},\"type\":\"scatterpolar\"}],\"scatterpolargl\":[{\"marker\":{\"colorbar\":{\"outlinewidth\":0,\"ticks\":\"\"}},\"type\":\"scatterpolargl\"}],\"scatterternary\":[{\"marker\":{\"colorbar\":{\"outlinewidth\":0,\"ticks\":\"\"}},\"type\":\"scatterternary\"}],\"surface\":[{\"colorbar\":{\"outlinewidth\":0,\"ticks\":\"\"},\"colorscale\":[[0.0,\"#0d0887\"],[0.1111111111111111,\"#46039f\"],[0.2222222222222222,\"#7201a8\"],[0.3333333333333333,\"#9c179e\"],[0.4444444444444444,\"#bd3786\"],[0.5555555555555556,\"#d8576b\"],[0.6666666666666666,\"#ed7953\"],[0.7777777777777778,\"#fb9f3a\"],[0.8888888888888888,\"#fdca26\"],[1.0,\"#f0f921\"]],\"type\":\"surface\"}],\"table\":[{\"cells\":{\"fill\":{\"color\":\"#EBF0F8\"},\"line\":{\"color\":\"white\"}},\"header\":{\"fill\":{\"color\":\"#C8D4E3\"},\"line\":{\"color\":\"white\"}},\"type\":\"table\"}]},\"layout\":{\"annotationdefaults\":{\"arrowcolor\":\"#2a3f5f\",\"arrowhead\":0,\"arrowwidth\":1},\"autotypenumbers\":\"strict\",\"coloraxis\":{\"colorbar\":{\"outlinewidth\":0,\"ticks\":\"\"}},\"colorscale\":{\"diverging\":[[0,\"#8e0152\"],[0.1,\"#c51b7d\"],[0.2,\"#de77ae\"],[0.3,\"#f1b6da\"],[0.4,\"#fde0ef\"],[0.5,\"#f7f7f7\"],[0.6,\"#e6f5d0\"],[0.7,\"#b8e186\"],[0.8,\"#7fbc41\"],[0.9,\"#4d9221\"],[1,\"#276419\"]],\"sequential\":[[0.0,\"#0d0887\"],[0.1111111111111111,\"#46039f\"],[0.2222222222222222,\"#7201a8\"],[0.3333333333333333,\"#9c179e\"],[0.4444444444444444,\"#bd3786\"],[0.5555555555555556,\"#d8576b\"],[0.6666666666666666,\"#ed7953\"],[0.7777777777777778,\"#fb9f3a\"],[0.8888888888888888,\"#fdca26\"],[1.0,\"#f0f921\"]],\"sequentialminus\":[[0.0,\"#0d0887\"],[0.1111111111111111,\"#46039f\"],[0.2222222222222222,\"#7201a8\"],[0.3333333333333333,\"#9c179e\"],[0.4444444444444444,\"#bd3786\"],[0.5555555555555556,\"#d8576b\"],[0.6666666666666666,\"#ed7953\"],[0.7777777777777778,\"#fb9f3a\"],[0.8888888888888888,\"#fdca26\"],[1.0,\"#f0f921\"]]},\"colorway\":[\"#636efa\",\"#EF553B\",\"#00cc96\",\"#ab63fa\",\"#FFA15A\",\"#19d3f3\",\"#FF6692\",\"#B6E880\",\"#FF97FF\",\"#FECB52\"],\"font\":{\"color\":\"#2a3f5f\"},\"geo\":{\"bgcolor\":\"white\",\"lakecolor\":\"white\",\"landcolor\":\"#E5ECF6\",\"showlakes\":true,\"showland\":true,\"subunitcolor\":\"white\"},\"hoverlabel\":{\"align\":\"left\"},\"hovermode\":\"closest\",\"mapbox\":{\"style\":\"light\"},\"paper_bgcolor\":\"white\",\"plot_bgcolor\":\"#E5ECF6\",\"polar\":{\"angularaxis\":{\"gridcolor\":\"white\",\"linecolor\":\"white\",\"ticks\":\"\"},\"bgcolor\":\"#E5ECF6\",\"radialaxis\":{\"gridcolor\":\"white\",\"linecolor\":\"white\",\"ticks\":\"\"}},\"scene\":{\"xaxis\":{\"backgroundcolor\":\"#E5ECF6\",\"gridcolor\":\"white\",\"gridwidth\":2,\"linecolor\":\"white\",\"showbackground\":true,\"ticks\":\"\",\"zerolinecolor\":\"white\"},\"yaxis\":{\"backgroundcolor\":\"#E5ECF6\",\"gridcolor\":\"white\",\"gridwidth\":2,\"linecolor\":\"white\",\"showbackground\":true,\"ticks\":\"\",\"zerolinecolor\":\"white\"},\"zaxis\":{\"backgroundcolor\":\"#E5ECF6\",\"gridcolor\":\"white\",\"gridwidth\":2,\"linecolor\":\"white\",\"showbackground\":true,\"ticks\":\"\",\"zerolinecolor\":\"white\"}},\"shapedefaults\":{\"line\":{\"color\":\"#2a3f5f\"}},\"ternary\":{\"aaxis\":{\"gridcolor\":\"white\",\"linecolor\":\"white\",\"ticks\":\"\"},\"baxis\":{\"gridcolor\":\"white\",\"linecolor\":\"white\",\"ticks\":\"\"},\"bgcolor\":\"#E5ECF6\",\"caxis\":{\"gridcolor\":\"white\",\"linecolor\":\"white\",\"ticks\":\"\"}},\"title\":{\"x\":0.05},\"xaxis\":{\"automargin\":true,\"gridcolor\":\"white\",\"linecolor\":\"white\",\"ticks\":\"\",\"title\":{\"standoff\":15},\"zerolinecolor\":\"white\",\"zerolinewidth\":2},\"yaxis\":{\"automargin\":true,\"gridcolor\":\"white\",\"linecolor\":\"white\",\"ticks\":\"\",\"title\":{\"standoff\":15},\"zerolinecolor\":\"white\",\"zerolinewidth\":2}}},\"xaxis\":{\"anchor\":\"y\",\"domain\":[0.0,1.0],\"title\":{\"text\":\"N_CLUSTERS\"}},\"yaxis\":{\"anchor\":\"x\",\"domain\":[0.0,1.0],\"title\":{\"text\":\"RETURN\"}},\"coloraxis\":{\"colorbar\":{\"title\":{\"text\":\"SHARPE\"}},\"colorscale\":[[0.0,\"#0d0887\"],[0.1111111111111111,\"#46039f\"],[0.2222222222222222,\"#7201a8\"],[0.3333333333333333,\"#9c179e\"],[0.4444444444444444,\"#bd3786\"],[0.5555555555555556,\"#d8576b\"],[0.6666666666666666,\"#ed7953\"],[0.7777777777777778,\"#fb9f3a\"],[0.8888888888888888,\"#fdca26\"],[1.0,\"#f0f921\"]]},\"legend\":{\"tracegroupgap\":0},\"title\":{\"text\":\"Return by N_clusters with benchmark(green line) and mean returns (black line)\"},\"shapes\":[{\"line\":{\"color\":\"green\",\"dash\":\"dash\"},\"type\":\"line\",\"x0\":0,\"x1\":1,\"xref\":\"x domain\",\"y0\":7.629613356766263,\"y1\":7.629613356766263,\"yref\":\"y\"}]},                        {\"responsive\": true}                    ).then(function(){\n",
              "                            \n",
              "var gd = document.getElementById('5ede88cf-c27f-4078-8f1b-38ef3db5cfc7');\n",
              "var x = new MutationObserver(function (mutations, observer) {{\n",
              "        var display = window.getComputedStyle(gd).display;\n",
              "        if (!display || display === 'none') {{\n",
              "            console.log([gd, 'removed!']);\n",
              "            Plotly.purge(gd);\n",
              "            observer.disconnect();\n",
              "        }}\n",
              "}});\n",
              "\n",
              "// Listen for the removal of the full notebook cells\n",
              "var notebookContainer = gd.closest('#notebook-container');\n",
              "if (notebookContainer) {{\n",
              "    x.observe(notebookContainer, {childList: true});\n",
              "}}\n",
              "\n",
              "// Listen for the clearing of the current output cell\n",
              "var outputEl = gd.closest('.output');\n",
              "if (outputEl) {{\n",
              "    x.observe(outputEl, {childList: true});\n",
              "}}\n",
              "\n",
              "                        })                };                            </script>        </div>\n",
              "</body>\n",
              "</html>"
            ]
          },
          "metadata": {},
          "output_type": "display_data"
        }
      ],
      "source": [
        "fig = px.scatter(data_fra_new_pnl, x=\"N_CLUSTERS\", y=\"RETURN\", color=\"SHARPE\", title=\"Return by N_clusters with benchmark(green line) and mean returns (black line)\")\n",
        "\n",
        "fig.add_hline(y=data_fra_new_pnl[\"BENCHMARK_RETURN\"][0], line_dash=\"dash\", line_color=\"green\")\n",
        "#fig.add_hrect(y0=data_fra[\"RETURN\"].min()-10, y1=data_fra[\"BENCHMARK_RETURN\"][0], line_width=0, fillcolor=\"red\", opacity=0.1)\n",
        "#fig.add_trace(go.Scatter(x=[10,25,50,100,200,300,400,500,700,1500],\n",
        "#                            y=means_by_clusters_minus_bench,\n",
        "#                           mode=\"lines\",\n",
        "#                            line=go.scatter.Line(color=\"black\"),\n",
        "#                            showlegend=False))\n",
        "fig.show()"
      ]
    },
    {
      "cell_type": "markdown",
      "metadata": {
        "id": "FailB6puzh7z"
      },
      "source": [
        "## Analysis for FOREX indices"
      ]
    },
    {
      "cell_type": "markdown",
      "metadata": {
        "id": "fQURF_EIR7El"
      },
      "source": []
    },
    {
      "cell_type": "code",
      "execution_count": null,
      "metadata": {
        "id": "fWt8tNk3bAZy"
      },
      "outputs": [],
      "source": [
        "indices = ['CHFJPY','EURJPY','EURTRY', 'USDCAD','EURUSD','USDCHF','AUDUSD','USDCNH','USDJPY','BTCUSD', 'GBPCAD','ETHUSD','GBPCHF','USDNOK','CADCHF','EURAUD','GBPJPY','CADJPY' ,'EURCAD','GBPNZD','USDSEK', 'EURCHF','GBPUSD', 'TRYJPY', 'USDTRY', 'EURGBP', 'USDZAR']"
      ]
    },
    {
      "cell_type": "code",
      "execution_count": null,
      "metadata": {
        "colab": {
          "base_uri": "https://localhost:8080/"
        },
        "id": "pZTay_iufshN",
        "outputId": "596aa0ed-c685-43d4-ab85-226a5bec76bf"
      },
      "outputs": [
        {
          "name": "stdout",
          "output_type": "stream",
          "text": [
            "Number of idices with USD: 13\n",
            "['USDCAD', 'EURUSD', 'USDCHF', 'AUDUSD', 'USDCNH', 'USDJPY', 'BTCUSD', 'ETHUSD', 'USDNOK', 'USDSEK', 'GBPUSD', 'USDTRY', 'USDZAR']\n"
          ]
        }
      ],
      "source": [
        "indices_usd = [i for i in indices if 'USD' in i]\n",
        "print(f\"Number of idices with USD: {len(indices_usd)}\")\n",
        "print(indices_usd)"
      ]
    },
    {
      "cell_type": "code",
      "execution_count": null,
      "metadata": {
        "id": "OpLhOdNrQagz"
      },
      "outputs": [],
      "source": [
        "for indx in indices_usd[:2]:\n",
        "  for i in range(1,3):\n",
        "    %run main.py --index_type FOREX --index {indx} --nb_clusters {i*100}"
      ]
    },
    {
      "cell_type": "code",
      "execution_count": null,
      "metadata": {
        "id": "R5x5kX-1ZL7C"
      },
      "outputs": [],
      "source": []
    }
  ],
  "metadata": {
    "colab": {
      "collapsed_sections": [
        "ACIKHJsYzUKq",
        "FailB6puzh7z"
      ],
      "provenance": []
    },
    "gpuClass": "standard",
    "kernelspec": {
      "display_name": "Python 3",
      "name": "python3"
    },
    "language_info": {
      "name": "python"
    }
  },
  "nbformat": 4,
  "nbformat_minor": 0
}